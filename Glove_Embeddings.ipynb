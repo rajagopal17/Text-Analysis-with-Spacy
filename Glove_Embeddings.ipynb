{
  "nbformat": 4,
  "nbformat_minor": 0,
  "metadata": {
    "colab": {
      "name": "Glove_Embeddings.ipynb",
      "provenance": [],
      "collapsed_sections": [
        "XmWHI76Dq5ch",
        "gMis6YlKrf7S",
        "x26LuCqjuf_8"
      ],
      "toc_visible": true,
      "mount_file_id": "1VRSymHOQynhsdccW6zfqOMpe1-Rqvjsw",
      "authorship_tag": "ABX9TyMY/0BTgKbS9xtx5WjISJRK",
      "include_colab_link": true
    },
    "kernelspec": {
      "name": "python3",
      "display_name": "Python 3"
    }
  },
  "cells": [
    {
      "cell_type": "markdown",
      "metadata": {
        "id": "view-in-github",
        "colab_type": "text"
      },
      "source": [
        "<a href=\"https://colab.research.google.com/github/rajagopal17/Text-Analysis-with-Spacy/blob/master/Glove_Embeddings.ipynb\" target=\"_parent\"><img src=\"https://colab.research.google.com/assets/colab-badge.svg\" alt=\"Open In Colab\"/></a>"
      ]
    },
    {
      "cell_type": "markdown",
      "metadata": {
        "id": "r5UkzOZPDeUd",
        "colab_type": "text"
      },
      "source": [
        "### https://medium.com/analytics-vidhya/basics-of-using-pre-trained-glove-vectors-in-python-d38905f356db"
      ]
    },
    {
      "cell_type": "code",
      "metadata": {
        "id": "VnS3RpBl8VXn",
        "colab_type": "code",
        "colab": {
          "base_uri": "https://localhost:8080/",
          "height": 71
        },
        "outputId": "102f8e3a-bdd8-4199-d972-4ef5d6fe9b08"
      },
      "source": [
        "import pandas as pd\n",
        "import numpy as np\n",
        "import matplotlib.pyplot as plt\n",
        "import seaborn as sns\n",
        "plt.rc('font', size=14)\n",
        "sns.set(style='white')\n",
        "sns.set(style='whitegrid', color_codes=True)\n",
        "import csv\n",
        "import re\n",
        "from __future__ import unicode_literals\n",
        "import spacy\n",
        "from spacy.tokens import doc\n",
        "nlp=spacy.load('en')\n",
        "import en_core_web_sm\n",
        "#nlp=en_core_web_md.load()\n",
        "from spacy.lang.en.stop_words import STOP_WORDS\n",
        "from spacy.lang.en import English\n",
        "parser = English()\n",
        "import string\n",
        "punctuations=string.punctuation\n",
        "from sklearn import model_selection\n",
        "from sklearn.metrics import classification_report\n",
        "from sklearn.metrics import confusion_matrix\n",
        "from sklearn.metrics import accuracy_score \n",
        "from sklearn.model_selection import train_test_split\n",
        "\n",
        "import gensim,pprint\n",
        "import logging\n",
        "logging.basicConfig(format='%(asctime)s : %(levelname)s : %(message)s',level=logging.INFO)\n",
        "from gensim.models import Phrases\n",
        "#from gensim.models.word2vec import sentences\n",
        "import gensim.corpora as corpora\n",
        "from gensim.utils import simple_preprocess\n",
        "from gensim import corpora, models,similarities\n",
        "from gensim.parsing.preprocessing import preprocess_documents\n",
        "from gensim.models import Word2Vec, KeyedVectors "
      ],
      "execution_count": 1,
      "outputs": [
        {
          "output_type": "stream",
          "text": [
            "/usr/local/lib/python3.6/dist-packages/statsmodels/tools/_testing.py:19: FutureWarning: pandas.util.testing is deprecated. Use the functions in the public API at pandas.testing instead.\n",
            "  import pandas.util.testing as tm\n"
          ],
          "name": "stderr"
        }
      ]
    },
    {
      "cell_type": "code",
      "metadata": {
        "id": "xwzZ-GQu84k-",
        "colab_type": "code",
        "colab": {
          "base_uri": "https://localhost:8080/",
          "height": 34
        },
        "outputId": "18cf671a-2172-4c56-93eb-71034ae1fd33"
      },
      "source": [
        "!git clone https://github.com/MohammadWasil/Sentiment-Analysis-IMDb-Movie-Review.git"
      ],
      "execution_count": 2,
      "outputs": [
        {
          "output_type": "stream",
          "text": [
            "fatal: destination path 'Sentiment-Analysis-IMDb-Movie-Review' already exists and is not an empty directory.\n"
          ],
          "name": "stdout"
        }
      ]
    },
    {
      "cell_type": "code",
      "metadata": {
        "id": "4IzkCmME8uLZ",
        "colab_type": "code",
        "colab": {
          "base_uri": "https://localhost:8080/",
          "height": 204
        },
        "outputId": "e9b99644-e4c0-40d6-b49d-303212583223"
      },
      "source": [
        "data_train =pd.read_csv('/content/Sentiment-Analysis-IMDb-Movie-Review/labeledTrainData.tsv', delimiter='\\t',encoding=\"utf-8\")\n",
        "#data_test =('/content/Sentiment-Analysis-IMDb-Movie-Review/testData.tsv')\n",
        "data_file = data_train[['sentiment','review']].copy()\n",
        "train_ds = data_file.head(15000).copy()\n",
        "test_ds  = data_file.tail(5000).copy()\n",
        "train_ds.to_csv('/content/train_ds.csv',index=False)\n",
        "test_ds.to_csv('/content/test_ds.csv',index=False)\n",
        "train_ds.head()"
      ],
      "execution_count": 3,
      "outputs": [
        {
          "output_type": "execute_result",
          "data": {
            "text/html": [
              "<div>\n",
              "<style scoped>\n",
              "    .dataframe tbody tr th:only-of-type {\n",
              "        vertical-align: middle;\n",
              "    }\n",
              "\n",
              "    .dataframe tbody tr th {\n",
              "        vertical-align: top;\n",
              "    }\n",
              "\n",
              "    .dataframe thead th {\n",
              "        text-align: right;\n",
              "    }\n",
              "</style>\n",
              "<table border=\"1\" class=\"dataframe\">\n",
              "  <thead>\n",
              "    <tr style=\"text-align: right;\">\n",
              "      <th></th>\n",
              "      <th>sentiment</th>\n",
              "      <th>review</th>\n",
              "    </tr>\n",
              "  </thead>\n",
              "  <tbody>\n",
              "    <tr>\n",
              "      <th>0</th>\n",
              "      <td>1</td>\n",
              "      <td>With all this stuff going down at the moment w...</td>\n",
              "    </tr>\n",
              "    <tr>\n",
              "      <th>1</th>\n",
              "      <td>1</td>\n",
              "      <td>\\The Classic War of the Worlds\\\" by Timothy Hi...</td>\n",
              "    </tr>\n",
              "    <tr>\n",
              "      <th>2</th>\n",
              "      <td>0</td>\n",
              "      <td>The film starts with a manager (Nicholas Bell)...</td>\n",
              "    </tr>\n",
              "    <tr>\n",
              "      <th>3</th>\n",
              "      <td>0</td>\n",
              "      <td>It must be assumed that those who praised this...</td>\n",
              "    </tr>\n",
              "    <tr>\n",
              "      <th>4</th>\n",
              "      <td>1</td>\n",
              "      <td>Superbly trashy and wondrously unpretentious 8...</td>\n",
              "    </tr>\n",
              "  </tbody>\n",
              "</table>\n",
              "</div>"
            ],
            "text/plain": [
              "   sentiment                                             review\n",
              "0          1  With all this stuff going down at the moment w...\n",
              "1          1  \\The Classic War of the Worlds\\\" by Timothy Hi...\n",
              "2          0  The film starts with a manager (Nicholas Bell)...\n",
              "3          0  It must be assumed that those who praised this...\n",
              "4          1  Superbly trashy and wondrously unpretentious 8..."
            ]
          },
          "metadata": {
            "tags": []
          },
          "execution_count": 3
        }
      ]
    },
    {
      "cell_type": "markdown",
      "metadata": {
        "id": "XmWHI76Dq5ch",
        "colab_type": "text"
      },
      "source": [
        "# Convert column to string, apply nlp pipe lines for lemmatization,ents, etc\n",
        "  \n",
        "\n",
        "1.   Convert column to list and feed it back to new data frame\n",
        "2.   Get frequency and plot on graph\n",
        "\n"
      ]
    },
    {
      "cell_type": "code",
      "metadata": {
        "id": "hl5nJ0sX-Npx",
        "colab_type": "code",
        "colab": {}
      },
      "source": [
        "#Convert each row of reviews column to string and store it in a file\n",
        "\n",
        "temp_file=data_train['Reviews'].apply(lambda x:str(x))\n",
        "temp_file=data_train['Reviews'].apply(lambda x:re.sub('[^A-Z 0-9 a-z-]+','',x))\n",
        "temp_file"
      ],
      "execution_count": null,
      "outputs": []
    },
    {
      "cell_type": "code",
      "metadata": {
        "id": "GH25cwkF-9me",
        "colab_type": "code",
        "colab": {}
      },
      "source": [
        "lemma_list=list([token.lemma_ for token in doc if token.is_stop==False] for doc in nlp.pipe(temp_file, n_threads=2,batch_size=1000,disable=['tagger','parser','ner']))\n"
      ],
      "execution_count": null,
      "outputs": []
    },
    {
      "cell_type": "code",
      "metadata": {
        "id": "P96LPwrBDqKS",
        "colab_type": "code",
        "colab": {}
      },
      "source": [
        "lemma_names=list([token.text for token in doc if token.pos_=='PROPN'] for doc in nlp.pipe(temp_file,batch_size=1000))"
      ],
      "execution_count": null,
      "outputs": []
    },
    {
      "cell_type": "code",
      "metadata": {
        "id": "Np7l1SV-Xtnm",
        "colab_type": "code",
        "colab": {}
      },
      "source": [
        "lemma_person=list([token.text for token in doc if token.ent_type_=='PERSON'] for doc in nlp.pipe(temp_file,batch_size=1000))"
      ],
      "execution_count": null,
      "outputs": []
    },
    {
      "cell_type": "code",
      "metadata": {
        "id": "Dxgwmrm9Gm50",
        "colab_type": "code",
        "colab": {}
      },
      "source": [
        "get_names=[]\n",
        "for x in lemma_person:\n",
        "  for y in x:\n",
        "    get_names.append(y)\n",
        "get_names"
      ],
      "execution_count": null,
      "outputs": []
    },
    {
      "cell_type": "code",
      "metadata": {
        "id": "zJmTYGofHgsu",
        "colab_type": "code",
        "colab": {}
      },
      "source": [
        "data_clean['lemma']=lemma_list\n",
        "data_clean['Reviews']=lemma_names\n",
        "data_clean['names']=lemma_person"
      ],
      "execution_count": null,
      "outputs": []
    },
    {
      "cell_type": "code",
      "metadata": {
        "id": "VUzNTmpjH3s8",
        "colab_type": "code",
        "colab": {}
      },
      "source": [
        "data_clean.head(20)"
      ],
      "execution_count": null,
      "outputs": []
    },
    {
      "cell_type": "code",
      "metadata": {
        "id": "loZ92U2uNIv0",
        "colab_type": "code",
        "colab": {}
      },
      "source": [
        "from collections import Counter\n",
        "word_freq=Counter(get_names)\n",
        "word_freq\n",
        "\n"
      ],
      "execution_count": null,
      "outputs": []
    },
    {
      "cell_type": "code",
      "metadata": {
        "id": "yQPzLY4lOzoQ",
        "colab_type": "code",
        "colab": {}
      },
      "source": [
        "word_freq_graph =pd.DataFrame(list(word_freq.items()),columns=['name','freq'])\n",
        "word_freq_graph\n",
        "final_df=word_freq_graph[word_freq_graph['freq']>800 ]\n",
        "final_df"
      ],
      "execution_count": null,
      "outputs": []
    },
    {
      "cell_type": "code",
      "metadata": {
        "id": "55Xj64CRQ4rt",
        "colab_type": "code",
        "colab": {}
      },
      "source": [
        "import matplotlib.pyplot as plot\n",
        "final_df.plot.barh(x='name', y='freq', title=\"Frequency of the mention of lead character's name\");\n",
        "\n",
        "plot.show(block=True);"
      ],
      "execution_count": null,
      "outputs": []
    },
    {
      "cell_type": "markdown",
      "metadata": {
        "id": "gMis6YlKrf7S",
        "colab_type": "text"
      },
      "source": [
        "# Torch Text"
      ]
    },
    {
      "cell_type": "code",
      "metadata": {
        "id": "CNWfhL6srjmJ",
        "colab_type": "code",
        "colab": {}
      },
      "source": [
        "from torchtext.data import Field,TabularDataset,BucketIterator"
      ],
      "execution_count": null,
      "outputs": []
    },
    {
      "cell_type": "code",
      "metadata": {
        "id": "bk2CUAZs1b5f",
        "colab_type": "code",
        "colab": {}
      },
      "source": [
        "#X_train,X_test,y_train,y_test = train_test_split('/content/Sentiment-Analysis-IMDb-Movie-Review/labeledTrainData.tsv')"
      ],
      "execution_count": null,
      "outputs": []
    },
    {
      "cell_type": "code",
      "metadata": {
        "id": "l8IoZ2OE6Yc9",
        "colab_type": "code",
        "colab": {
          "base_uri": "https://localhost:8080/"
        },
        "outputId": "e4f0edc4-a506-41e7-a8de-0af7feaa9772"
      },
      "source": [
        "!git clone https://github.com/AladdinPerzon/Machine-Learning-Collection.git"
      ],
      "execution_count": null,
      "outputs": [
        {
          "output_type": "stream",
          "text": [
            "Cloning into 'Machine-Learning-Collection'...\n",
            "remote: Enumerating objects: 9466, done.\u001b[K\n",
            "remote: Total 9466 (delta 0), reused 0 (delta 0), pack-reused 9466\u001b[K\n",
            "Receiving objects: 100% (9466/9466), 1.07 GiB | 39.99 MiB/s, done.\n",
            "Resolving deltas: 100% (661/661), done.\n",
            "Checking out files: 100% (154/154), done.\n"
          ],
          "name": "stdout"
        }
      ]
    },
    {
      "cell_type": "code",
      "metadata": {
        "id": "zKUy_sPaY42G",
        "colab_type": "code",
        "colab": {}
      },
      "source": [
        "def tokenize(text):\n",
        "  return[token.text for token in nlp(text)]"
      ],
      "execution_count": null,
      "outputs": []
    },
    {
      "cell_type": "code",
      "metadata": {
        "id": "Sff1UpVqsUEC",
        "colab_type": "code",
        "colab": {}
      },
      "source": [
        "#tokenize= lambda x: x.split()\n",
        "TEXT  = Field(sequential= True,use_vocab=True,tokenize=tokenize,lower=True)\n",
        "LABEL = Field(sequential=False,use_vocab=False)\n",
        "fields={'sentiment':LABEL,'review':TEXT}"
      ],
      "execution_count": null,
      "outputs": []
    },
    {
      "cell_type": "markdown",
      "metadata": {
        "id": "x26LuCqjuf_8",
        "colab_type": "text"
      },
      "source": [
        "#Split dataset for train & test"
      ]
    },
    {
      "cell_type": "code",
      "metadata": {
        "id": "ypDgBQ3tuhEy",
        "colab_type": "code",
        "colab": {}
      },
      "source": [
        "#train_data, test_data= TabularDataset(path='/content/sample_data/test_d.csv',format='csv',fields={'sentiment':sentiment,'review':review})\n",
        "train = TabularDataset(path='/content/sample_data/train_ds.csv', \n",
        "                        format='csv', \n",
        "                        fields=[(\"sentiment\",LABEL),\n",
        "                                (\"review\",TEXT)],  \n",
        "                        skip_header=True)\n",
        "test = TabularDataset(path='/content/sample_data/test_ds.csv', \n",
        "                        format='csv', \n",
        "                        fields= [(\"sentiment\",LABEL),\n",
        "                                (\"review\",TEXT)],  \n",
        "                        skip_header=True)                             \n",
        "                       "
      ],
      "execution_count": null,
      "outputs": []
    },
    {
      "cell_type": "code",
      "metadata": {
        "id": "ilvVd5MMUEeX",
        "colab_type": "code",
        "colab": {}
      },
      "source": [
        "TEXT.build_vocab(train,max_size=10000,min_freq=2)"
      ],
      "execution_count": null,
      "outputs": []
    },
    {
      "cell_type": "code",
      "metadata": {
        "id": "nbTAQIWQXnWu",
        "colab_type": "code",
        "colab": {
          "base_uri": "https://localhost:8080/",
          "height": 1000
        },
        "outputId": "4a4f4f86-a15e-4c32-b188-fda95a80d53f"
      },
      "source": [
        "TEXT.vocab.itos\n",
        "\n",
        "#TEXT.vocab.stoi['movie']"
      ],
      "execution_count": null,
      "outputs": [
        {
          "output_type": "execute_result",
          "data": {
            "text/plain": [
              "['<unk>',\n",
              " '<pad>',\n",
              " 'the',\n",
              " ',',\n",
              " '.',\n",
              " 'and',\n",
              " 'a',\n",
              " 'of',\n",
              " 'to',\n",
              " 'is',\n",
              " 'in',\n",
              " 'it',\n",
              " 'i',\n",
              " 'that',\n",
              " 'this',\n",
              " \"'s\",\n",
              " '-',\n",
              " 'was',\n",
              " '/><br',\n",
              " 'as',\n",
              " 'with',\n",
              " '\"',\n",
              " 'for',\n",
              " 'but',\n",
              " 'movie',\n",
              " 'film',\n",
              " ')',\n",
              " 'on',\n",
              " '(',\n",
              " 'you',\n",
              " 'are',\n",
              " \"n't\",\n",
              " 'not',\n",
              " 'his',\n",
              " 'he',\n",
              " 'have',\n",
              " 'be',\n",
              " 'one',\n",
              " 'all',\n",
              " 'at',\n",
              " 'by',\n",
              " 'an',\n",
              " 'who',\n",
              " 'they',\n",
              " 'from',\n",
              " 'like',\n",
              " 'her',\n",
              " '!',\n",
              " 'so',\n",
              " \"'\",\n",
              " 'about',\n",
              " 'there',\n",
              " 'or',\n",
              " 'has',\n",
              " 'just',\n",
              " 'out',\n",
              " 'good',\n",
              " 'some',\n",
              " 'do',\n",
              " 'if',\n",
              " 'what',\n",
              " 'she',\n",
              " 'more',\n",
              " 'very',\n",
              " 'when',\n",
              " '?',\n",
              " 'up',\n",
              " 'would',\n",
              " 'no',\n",
              " 'even',\n",
              " 'their',\n",
              " 'time',\n",
              " 'my',\n",
              " 'can',\n",
              " 'which',\n",
              " 'only',\n",
              " 'had',\n",
              " 'really',\n",
              " 'were',\n",
              " 'story',\n",
              " 'did',\n",
              " 'see',\n",
              " 'people',\n",
              " ':',\n",
              " 'me',\n",
              " 'does',\n",
              " 'than',\n",
              " 'we',\n",
              " 'could',\n",
              " 'well',\n",
              " 'been',\n",
              " 'will',\n",
              " 'get',\n",
              " 'into',\n",
              " 'most',\n",
              " 'much',\n",
              " 'great',\n",
              " 'other',\n",
              " 'because',\n",
              " 'him',\n",
              " 'how',\n",
              " 'first',\n",
              " '...',\n",
              " 'bad',\n",
              " 'also',\n",
              " 'then',\n",
              " 'them',\n",
              " 'its',\n",
              " 'made',\n",
              " 'make',\n",
              " 'any',\n",
              " 'way',\n",
              " 'after',\n",
              " 'too',\n",
              " '/>the',\n",
              " 'movies',\n",
              " 'think',\n",
              " 'characters',\n",
              " '<',\n",
              " 'br',\n",
              " 'films',\n",
              " 'many',\n",
              " 'show',\n",
              " 'being',\n",
              " 'character',\n",
              " 'watch',\n",
              " 'two',\n",
              " 'off',\n",
              " 'acting',\n",
              " 'over',\n",
              " 'man',\n",
              " 'never',\n",
              " 'plot',\n",
              " 'love',\n",
              " 'life',\n",
              " ';',\n",
              " 'ever',\n",
              " 'seen',\n",
              " 'little',\n",
              " 'while',\n",
              " 'best',\n",
              " 'where',\n",
              " 'know',\n",
              " 'here',\n",
              " 'your',\n",
              " 'say',\n",
              " 'end',\n",
              " 'these',\n",
              " 'such',\n",
              " 'should',\n",
              " 'something',\n",
              " 'through',\n",
              " 'those',\n",
              " 'years',\n",
              " 'back',\n",
              " 'scene',\n",
              " 'better',\n",
              " \"'ve\",\n",
              " 'why',\n",
              " 'scenes',\n",
              " 'still',\n",
              " 'going',\n",
              " '/',\n",
              " 'go',\n",
              " '&',\n",
              " 'though',\n",
              " '*',\n",
              " 'actors',\n",
              " 'old',\n",
              " \"'m\",\n",
              " 'director',\n",
              " 'watching',\n",
              " 'thing',\n",
              " 'another',\n",
              " 'few',\n",
              " 'now',\n",
              " \"'re\",\n",
              " 'work',\n",
              " 'makes',\n",
              " 'things',\n",
              " 'find',\n",
              " 'real',\n",
              " 'actually',\n",
              " 'nothing',\n",
              " 'before',\n",
              " 'lot',\n",
              " 'same',\n",
              " 'again',\n",
              " 'look',\n",
              " '--',\n",
              " 'new',\n",
              " 'part',\n",
              " 'between',\n",
              " 'want',\n",
              " 'down',\n",
              " 'quite',\n",
              " '/>i',\n",
              " 'every',\n",
              " 'got',\n",
              " 'young',\n",
              " 'action',\n",
              " 'us',\n",
              " 'right',\n",
              " 'cast',\n",
              " 'horror',\n",
              " 'pretty',\n",
              " 'fact',\n",
              " 'funny',\n",
              " 'big',\n",
              " 'however',\n",
              " 'always',\n",
              " 'thought',\n",
              " 'times',\n",
              " 'almost',\n",
              " 'interesting',\n",
              " 'take',\n",
              " 'world',\n",
              " 'ca',\n",
              " 'come',\n",
              " 'give',\n",
              " 'saw',\n",
              " 'guy',\n",
              " 'last',\n",
              " 'gets',\n",
              " 'own',\n",
              " 'worst',\n",
              " 'long',\n",
              " 'without',\n",
              " 'must',\n",
              " 'may',\n",
              " 'rather',\n",
              " 'role',\n",
              " 'whole',\n",
              " 'making',\n",
              " 'around',\n",
              " 'enough',\n",
              " 'far',\n",
              " 'minutes',\n",
              " 'am',\n",
              " 'both',\n",
              " 'music',\n",
              " 'seems',\n",
              " 'might',\n",
              " 'comedy',\n",
              " 'least',\n",
              " 'script',\n",
              " 'family',\n",
              " 'point',\n",
              " 'original',\n",
              " 'course',\n",
              " 'found',\n",
              " 'kind',\n",
              " 'day',\n",
              " 'book',\n",
              " 'hard',\n",
              " 'since',\n",
              " 'woman',\n",
              " 'tv',\n",
              " 'anything',\n",
              " 'fun',\n",
              " 'comes',\n",
              " 'performance',\n",
              " 'series',\n",
              " 'play',\n",
              " 'probably',\n",
              " 'away',\n",
              " 'feel',\n",
              " 'american',\n",
              " 'ending',\n",
              " 'having',\n",
              " 'money',\n",
              " 'played',\n",
              " 'looking',\n",
              " 'our',\n",
              " 'believe',\n",
              " 'done',\n",
              " 'bit',\n",
              " \"'ll\",\n",
              " 'father',\n",
              " 'goes',\n",
              " 'sure',\n",
              " 'anyone',\n",
              " 'different',\n",
              " 'three',\n",
              " 'reason',\n",
              " 'together',\n",
              " 'especially',\n",
              " 'trying',\n",
              " 'yet',\n",
              " 'dvd',\n",
              " 'someone',\n",
              " 'let',\n",
              " 'war',\n",
              " 'girl',\n",
              " 'worth',\n",
              " 'although',\n",
              " 'set',\n",
              " 'each',\n",
              " 'job',\n",
              " 'put',\n",
              " 'version',\n",
              " 'once',\n",
              " 'screen',\n",
              " 'true',\n",
              " '/>this',\n",
              " 'house',\n",
              " 'john',\n",
              " 'looks',\n",
              " 'plays',\n",
              " \"'d\",\n",
              " 'actor',\n",
              " 'everyone',\n",
              " 'place',\n",
              " 'beautiful',\n",
              " 'main',\n",
              " 'else',\n",
              " 'high',\n",
              " 'sense',\n",
              " 'watched',\n",
              " 'during',\n",
              " 'excellent',\n",
              " 'night',\n",
              " 'read',\n",
              " 'poor',\n",
              " 'year',\n",
              " 'completely',\n",
              " 'men',\n",
              " 'truly',\n",
              " 'less',\n",
              " 'seem',\n",
              " 'everything',\n",
              " 'given',\n",
              " 'shows',\n",
              " 'use',\n",
              " '\\\\\"the',\n",
              " 'line',\n",
              " 'women',\n",
              " 'maybe',\n",
              " 'said',\n",
              " 'seeing',\n",
              " 'takes',\n",
              " 'effects',\n",
              " 'left',\n",
              " 'idea',\n",
              " 'black',\n",
              " 'production',\n",
              " 'against',\n",
              " 'wife',\n",
              " 'instead',\n",
              " 'later',\n",
              " 'nice',\n",
              " 'simply',\n",
              " 'audience',\n",
              " 'small',\n",
              " 'star',\n",
              " 'video',\n",
              " 'came',\n",
              " 'next',\n",
              " 'shot',\n",
              " 'wrong',\n",
              " '10',\n",
              " 'classic',\n",
              " 'couple',\n",
              " 'fan',\n",
              " 'special',\n",
              " 'used',\n",
              " 'along',\n",
              " 'second',\n",
              " '2',\n",
              " 'tell',\n",
              " 'top',\n",
              " 'death',\n",
              " 'enjoy',\n",
              " 'rest',\n",
              " 'short',\n",
              " 'friends',\n",
              " 'keep',\n",
              " 'understand',\n",
              " 'definitely',\n",
              " 'full',\n",
              " 'start',\n",
              " 'camera',\n",
              " 'doing',\n",
              " 'human',\n",
              " 'worse',\n",
              " 'children',\n",
              " 'dead',\n",
              " 'lines',\n",
              " 'try',\n",
              " 'called',\n",
              " 'episode',\n",
              " 'low',\n",
              " 'need',\n",
              " 'half',\n",
              " 'hollywood',\n",
              " 'live',\n",
              " 'often',\n",
              " 'playing',\n",
              " 'remember',\n",
              " 'become',\n",
              " 'boring',\n",
              " 'face',\n",
              " 'mind',\n",
              " 'person',\n",
              " 'until',\n",
              " 'written',\n",
              " 'entertaining',\n",
              " '3',\n",
              " 'early',\n",
              " 'himself',\n",
              " 'moments',\n",
              " 'performances',\n",
              " 'piece',\n",
              " 'supposed',\n",
              " 'awful',\n",
              " 'sort',\n",
              " 'style',\n",
              " 'certainly',\n",
              " 'home',\n",
              " 'name',\n",
              " '\\x96',\n",
              " 'case',\n",
              " 'sex',\n",
              " '/>it',\n",
              " 'enjoyed',\n",
              " 'loved',\n",
              " 'recommend',\n",
              " 'sometimes',\n",
              " 'stars',\n",
              " 'went',\n",
              " '<br',\n",
              " 'boy',\n",
              " 'dark',\n",
              " 'hope',\n",
              " 'liked',\n",
              " 'totally',\n",
              " 'friend',\n",
              " 'perfect',\n",
              " 'budget',\n",
              " 'felt',\n",
              " 'getting',\n",
              " 'picture',\n",
              " 'school',\n",
              " 'wonderful',\n",
              " 'beginning',\n",
              " 'despite',\n",
              " 'itself',\n",
              " 'either',\n",
              " 'fans',\n",
              " 'help',\n",
              " 'kids',\n",
              " 'perhaps',\n",
              " '....',\n",
              " 'art',\n",
              " 'city',\n",
              " 'dialogue',\n",
              " 'mean',\n",
              " 'mother',\n",
              " 'others',\n",
              " 'seemed',\n",
              " 'stories',\n",
              " 'stupid',\n",
              " 'white',\n",
              " 'actress',\n",
              " 'finally',\n",
              " 'fine',\n",
              " 'several',\n",
              " 'waste',\n",
              " 'absolutely',\n",
              " 'gives',\n",
              " 'flick',\n",
              " 'head',\n",
              " 'title',\n",
              " 'able',\n",
              " 'care',\n",
              " 'drama',\n",
              " 'heard',\n",
              " 'lead',\n",
              " 'lost',\n",
              " 'sound',\n",
              " 'guess',\n",
              " 'brilliant',\n",
              " 'cinema',\n",
              " 'directed',\n",
              " 'genre',\n",
              " 'guys',\n",
              " 'humor',\n",
              " 'quality',\n",
              " 'child',\n",
              " 'tries',\n",
              " 'whose',\n",
              " 'lives',\n",
              " 'past',\n",
              " 'terrible',\n",
              " 'turn',\n",
              " 'yes',\n",
              " '..',\n",
              " 'becomes',\n",
              " 'car',\n",
              " 'direction',\n",
              " 'entire',\n",
              " 'example',\n",
              " 'daughter',\n",
              " 'english',\n",
              " 'feeling',\n",
              " 'themselves',\n",
              " 'class',\n",
              " 'country',\n",
              " 'etc',\n",
              " 'evil',\n",
              " 'eyes',\n",
              " 'gore',\n",
              " 'horrible',\n",
              " 'living',\n",
              " 'myself',\n",
              " 'turns',\n",
              " 'based',\n",
              " 'comic',\n",
              " 'known',\n",
              " 'ago',\n",
              " 'brother',\n",
              " 'fight',\n",
              " 'running',\n",
              " 'soon',\n",
              " 'taking',\n",
              " 'today',\n",
              " 'amazing',\n",
              " 'british',\n",
              " 'ends',\n",
              " 'none',\n",
              " 'parts',\n",
              " 'starts',\n",
              " 'wo',\n",
              " 'writer',\n",
              " '1',\n",
              " 'favorite',\n",
              " 'late',\n",
              " 'particularly',\n",
              " 'problem',\n",
              " 'town',\n",
              " 'working',\n",
              " 'works',\n",
              " 'already',\n",
              " 'days',\n",
              " 'expect',\n",
              " 'gave',\n",
              " 'group',\n",
              " 'hero',\n",
              " 'interest',\n",
              " 'lee',\n",
              " 'looked',\n",
              " 'police',\n",
              " 'roles',\n",
              " 'serious',\n",
              " 'side',\n",
              " 'son',\n",
              " 'wanted',\n",
              " 'close',\n",
              " 'david',\n",
              " 'final',\n",
              " 'girls',\n",
              " 'history',\n",
              " 'involved',\n",
              " 'killer',\n",
              " 'age',\n",
              " 'happens',\n",
              " 'mostly',\n",
              " 'paul',\n",
              " 'self',\n",
              " 'strong',\n",
              " 'usually',\n",
              " 'voice',\n",
              " 'behind',\n",
              " 'change',\n",
              " 'experience',\n",
              " 'hand',\n",
              " 'happened',\n",
              " 'kill',\n",
              " 'run',\n",
              " 'view',\n",
              " 'zombie',\n",
              " 'attempt',\n",
              " 'body',\n",
              " 'opening',\n",
              " 'usual',\n",
              " 'within',\n",
              " 'documentary',\n",
              " 'except',\n",
              " 'god',\n",
              " 'heart',\n",
              " 'highly',\n",
              " 'hit',\n",
              " 'husband',\n",
              " 'kid',\n",
              " 'king',\n",
              " 'level',\n",
              " 'match',\n",
              " 'peter',\n",
              " 'took',\n",
              " 'cop',\n",
              " 'cut',\n",
              " 'entertainment',\n",
              " 'started',\n",
              " 'talk',\n",
              " 'turned',\n",
              " 'viewer',\n",
              " 'writing',\n",
              " 'coming',\n",
              " 'difficult',\n",
              " 'feels',\n",
              " 'happen',\n",
              " 'lack',\n",
              " 'laugh',\n",
              " 'number',\n",
              " 'order',\n",
              " 'overall',\n",
              " 'political',\n",
              " 'song',\n",
              " 'thinking',\n",
              " 'told',\n",
              " 'under',\n",
              " '/>there',\n",
              " 'across',\n",
              " 'clearly',\n",
              " 'five',\n",
              " 'including',\n",
              " 'light',\n",
              " 'lots',\n",
              " 'michael',\n",
              " 'stop',\n",
              " 'theme',\n",
              " 'wonder',\n",
              " '/>in',\n",
              " 'act',\n",
              " 'brought',\n",
              " 'cinematography',\n",
              " 'complete',\n",
              " 'disappointed',\n",
              " 'finds',\n",
              " 'general',\n",
              " 'jokes',\n",
              " 'slow',\n",
              " 'tells',\n",
              " 'throughout',\n",
              " 'apparently',\n",
              " 'chance',\n",
              " 'important',\n",
              " 'local',\n",
              " 'oh',\n",
              " 'save',\n",
              " 'career',\n",
              " 'cheap',\n",
              " 'famous',\n",
              " 'fast',\n",
              " 'female',\n",
              " 'hilarious',\n",
              " 'killed',\n",
              " 'leave',\n",
              " 'matter',\n",
              " 'sad',\n",
              " 'stage',\n",
              " 'type',\n",
              " 'wants',\n",
              " '/>if',\n",
              " 'dance',\n",
              " 'fantastic',\n",
              " 'happy',\n",
              " 'major',\n",
              " 'moment',\n",
              " 'obvious',\n",
              " 'ones',\n",
              " 'songs',\n",
              " 'unfortunately',\n",
              " '$',\n",
              " 'due',\n",
              " 'imagine',\n",
              " 'modern',\n",
              " 'musical',\n",
              " 'non',\n",
              " 'oscar',\n",
              " 'released',\n",
              " 'ridiculous',\n",
              " 'sexual',\n",
              " 'superb',\n",
              " 'bunch',\n",
              " 'herself',\n",
              " 'obviously',\n",
              " 'opinion',\n",
              " 'sequence',\n",
              " 'upon',\n",
              " 'using',\n",
              " 'word',\n",
              " 'alone',\n",
              " 'b',\n",
              " 'blood',\n",
              " 'bring',\n",
              " 'decent',\n",
              " 'earth',\n",
              " 'french',\n",
              " 'george',\n",
              " 'saying',\n",
              " 'simple',\n",
              " 'single',\n",
              " 'stuff',\n",
              " 'taken',\n",
              " 'talking',\n",
              " 'thriller',\n",
              " 'yourself',\n",
              " 'begin',\n",
              " 'easily',\n",
              " 'easy',\n",
              " 'elements',\n",
              " 'enjoyable',\n",
              " 'filmed',\n",
              " 'four',\n",
              " 'game',\n",
              " 'hour',\n",
              " 'it.<br',\n",
              " 'novel',\n",
              " 'possible',\n",
              " 'rating',\n",
              " 'relationship',\n",
              " 'release',\n",
              " 'review',\n",
              " 'sets',\n",
              " 'somewhat',\n",
              " '/>but',\n",
              " 'annoying',\n",
              " 'buy',\n",
              " 'casting',\n",
              " 'forced',\n",
              " 'knows',\n",
              " 'middle',\n",
              " 'moving',\n",
              " 'nature',\n",
              " 'near',\n",
              " 'parents',\n",
              " 'power',\n",
              " 'richard',\n",
              " 'subject',\n",
              " 'typical',\n",
              " 'wish',\n",
              " 'words',\n",
              " '4',\n",
              " '\\\\the',\n",
              " 'above',\n",
              " 'baby',\n",
              " 'crap',\n",
              " 'crime',\n",
              " 'die',\n",
              " 'era',\n",
              " 'message',\n",
              " 'supporting',\n",
              " 'tale',\n",
              " 'team',\n",
              " 'beyond',\n",
              " 'certain',\n",
              " 'deal',\n",
              " 'eventually',\n",
              " 'exactly',\n",
              " 'eye',\n",
              " 'joe',\n",
              " 'lady',\n",
              " 'murder',\n",
              " 'ok',\n",
              " 'powerful',\n",
              " 'score',\n",
              " 'strange',\n",
              " 'talent',\n",
              " 'tom',\n",
              " 'york',\n",
              " 'anyway',\n",
              " 'avoid',\n",
              " 'episodes',\n",
              " 'future',\n",
              " 'romantic',\n",
              " 'tried',\n",
              " 'violence',\n",
              " 'ways',\n",
              " '5',\n",
              " 'events',\n",
              " 'extremely',\n",
              " 'knew',\n",
              " 'means',\n",
              " 'room',\n",
              " 'average',\n",
              " 'begins',\n",
              " 'cool',\n",
              " 'decided',\n",
              " 'doubt',\n",
              " 'figure',\n",
              " 'form',\n",
              " 'indeed',\n",
              " 'leads',\n",
              " 'miss',\n",
              " 'predictable',\n",
              " 'scary',\n",
              " 'sister',\n",
              " 'stand',\n",
              " 'ten',\n",
              " 'america',\n",
              " 'attention',\n",
              " 'basically',\n",
              " 'credits',\n",
              " 'falls',\n",
              " 'forget',\n",
              " 'jane',\n",
              " 'named',\n",
              " 'needed',\n",
              " 'points',\n",
              " 'question',\n",
              " 'stay',\n",
              " 'surprise',\n",
              " 'among',\n",
              " 'appear',\n",
              " 'ask',\n",
              " 'atmosphere',\n",
              " 'cute',\n",
              " 'earlier',\n",
              " 'fantasy',\n",
              " 'james',\n",
              " 'male',\n",
              " 'plenty',\n",
              " 'possibly',\n",
              " 'reality',\n",
              " 's',\n",
              " 'showing',\n",
              " 'silly',\n",
              " 'success',\n",
              " 'zombies',\n",
              " '/>a',\n",
              " '>',\n",
              " 'call',\n",
              " 'failed',\n",
              " 'feature',\n",
              " 'features',\n",
              " 'gay',\n",
              " 'giving',\n",
              " 'hours',\n",
              " 'huge',\n",
              " 'mention',\n",
              " 'mr.',\n",
              " 'period',\n",
              " 'sequel',\n",
              " 'seriously',\n",
              " 'weak',\n",
              " 'background',\n",
              " 'ben',\n",
              " 'comments',\n",
              " 'emotional',\n",
              " 'fall',\n",
              " 'flat',\n",
              " 'greatest',\n",
              " 'hell',\n",
              " 'jack',\n",
              " 'lame',\n",
              " 'mary',\n",
              " 'masterpiece',\n",
              " 'needs',\n",
              " 'sam',\n",
              " 'setting',\n",
              " 'straight',\n",
              " 'television',\n",
              " 'write',\n",
              " 'clear',\n",
              " 'fair',\n",
              " 'follow',\n",
              " 'hands',\n",
              " 'kept',\n",
              " 'leaves',\n",
              " 'list',\n",
              " 'result',\n",
              " 'says',\n",
              " 'soundtrack',\n",
              " 'state',\n",
              " 'adventure',\n",
              " 'appears',\n",
              " 'beauty',\n",
              " 'culture',\n",
              " 'directing',\n",
              " 'directors',\n",
              " 'edge',\n",
              " 'effort',\n",
              " 'footage',\n",
              " 'meet',\n",
              " 'particular',\n",
              " 'please',\n",
              " 'plus',\n",
              " 'robert',\n",
              " 'romance',\n",
              " 'slightly',\n",
              " 'surprised',\n",
              " 'truth',\n",
              " 'viewers',\n",
              " 'waiting',\n",
              " 'water',\n",
              " 'weird',\n",
              " 'whom',\n",
              " '/>and',\n",
              " '20',\n",
              " '\\\\',\n",
              " 'appreciate',\n",
              " 'cheesy',\n",
              " 'cold',\n",
              " 'editing',\n",
              " 'exciting',\n",
              " 'film.<br',\n",
              " 'hate',\n",
              " 'japanese',\n",
              " 'manages',\n",
              " 'move',\n",
              " 'moves',\n",
              " 'open',\n",
              " 'pay',\n",
              " 'rent',\n",
              " 'social',\n",
              " 'society',\n",
              " 'third',\n",
              " 'whether',\n",
              " 'actual',\n",
              " 'add',\n",
              " 'allen',\n",
              " 'attempts',\n",
              " 'co',\n",
              " 'comment',\n",
              " 'copy',\n",
              " 'de',\n",
              " 'fighting',\n",
              " 'forward',\n",
              " 'free',\n",
              " 'minute',\n",
              " 'older',\n",
              " 'poorly',\n",
              " 'public',\n",
              " 'tension',\n",
              " 'theater',\n",
              " 'trouble',\n",
              " 'viewing',\n",
              " 'won',\n",
              " 'animation',\n",
              " 'badly',\n",
              " 'dream',\n",
              " 'dull',\n",
              " 'ended',\n",
              " 'further',\n",
              " 'hear',\n",
              " 'hot',\n",
              " 'london',\n",
              " 'material',\n",
              " 'mess',\n",
              " 'nearly',\n",
              " 'nudity',\n",
              " 'perfectly',\n",
              " 'portrayed',\n",
              " 'situation',\n",
              " 'somehow',\n",
              " 'suspense',\n",
              " 'various',\n",
              " 'whatever',\n",
              " 'became',\n",
              " 'century',\n",
              " 'considering',\n",
              " 'filled',\n",
              " 'fire',\n",
              " 'learn',\n",
              " 'missing',\n",
              " 'nor',\n",
              " 'odd',\n",
              " 'otherwise',\n",
              " 'pure',\n",
              " 're',\n",
              " 'realistic',\n",
              " 'realize',\n",
              " 'reviews',\n",
              " 'store',\n",
              " 'street',\n",
              " 'telling',\n",
              " 'total',\n",
              " 'unique',\n",
              " 'unless',\n",
              " 'wait',\n",
              " 'western',\n",
              " '/>so',\n",
              " '30',\n",
              " 'apart',\n",
              " 'club',\n",
              " 'creepy',\n",
              " 'deserves',\n",
              " 'dramatic',\n",
              " 'dumb',\n",
              " 'expected',\n",
              " 'interested',\n",
              " 'knowing',\n",
              " 'mad',\n",
              " 'missed',\n",
              " 'note',\n",
              " 'office',\n",
              " 'recommended',\n",
              " 'screenplay',\n",
              " 'sit',\n",
              " ...]"
            ]
          },
          "metadata": {
            "tags": []
          },
          "execution_count": 31
        }
      ]
    },
    {
      "cell_type": "code",
      "metadata": {
        "id": "-OGzS9g_jn4X",
        "colab_type": "code",
        "colab": {
          "base_uri": "https://localhost:8080/",
          "height": 204
        },
        "outputId": "aea2ce72-64a0-4b7e-ca28-ac7071ca0bd6"
      },
      "source": [
        "train_ds.head()"
      ],
      "execution_count": null,
      "outputs": [
        {
          "output_type": "execute_result",
          "data": {
            "text/html": [
              "<div>\n",
              "<style scoped>\n",
              "    .dataframe tbody tr th:only-of-type {\n",
              "        vertical-align: middle;\n",
              "    }\n",
              "\n",
              "    .dataframe tbody tr th {\n",
              "        vertical-align: top;\n",
              "    }\n",
              "\n",
              "    .dataframe thead th {\n",
              "        text-align: right;\n",
              "    }\n",
              "</style>\n",
              "<table border=\"1\" class=\"dataframe\">\n",
              "  <thead>\n",
              "    <tr style=\"text-align: right;\">\n",
              "      <th></th>\n",
              "      <th>sentiment</th>\n",
              "      <th>review</th>\n",
              "    </tr>\n",
              "  </thead>\n",
              "  <tbody>\n",
              "    <tr>\n",
              "      <th>0</th>\n",
              "      <td>1</td>\n",
              "      <td>With all this stuff going down at the moment w...</td>\n",
              "    </tr>\n",
              "    <tr>\n",
              "      <th>1</th>\n",
              "      <td>1</td>\n",
              "      <td>\\The Classic War of the Worlds\\\" by Timothy Hi...</td>\n",
              "    </tr>\n",
              "    <tr>\n",
              "      <th>2</th>\n",
              "      <td>0</td>\n",
              "      <td>The film starts with a manager (Nicholas Bell)...</td>\n",
              "    </tr>\n",
              "    <tr>\n",
              "      <th>3</th>\n",
              "      <td>0</td>\n",
              "      <td>It must be assumed that those who praised this...</td>\n",
              "    </tr>\n",
              "    <tr>\n",
              "      <th>4</th>\n",
              "      <td>1</td>\n",
              "      <td>Superbly trashy and wondrously unpretentious 8...</td>\n",
              "    </tr>\n",
              "  </tbody>\n",
              "</table>\n",
              "</div>"
            ],
            "text/plain": [
              "   sentiment                                             review\n",
              "0          1  With all this stuff going down at the moment w...\n",
              "1          1  \\The Classic War of the Worlds\\\" by Timothy Hi...\n",
              "2          0  The film starts with a manager (Nicholas Bell)...\n",
              "3          0  It must be assumed that those who praised this...\n",
              "4          1  Superbly trashy and wondrously unpretentious 8..."
            ]
          },
          "metadata": {
            "tags": []
          },
          "execution_count": 34
        }
      ]
    },
    {
      "cell_type": "markdown",
      "metadata": {
        "id": "cg3v7Dk5C8MM",
        "colab_type": "text"
      },
      "source": [
        "# Glove Embeddings"
      ]
    },
    {
      "cell_type": "code",
      "metadata": {
        "id": "h2TPQnHh6X0j",
        "colab_type": "code",
        "colab": {}
      },
      "source": [
        "X=train_ds[['review']].copy()\n",
        "y=train_ds[['sentiment']].copy()\n",
        "\n",
        "Xtrain,Xtest,ytrain,ytest=train_test_split(X,y,train_size=0.7,random_state=32,shuffle=True)"
      ],
      "execution_count": 4,
      "outputs": []
    },
    {
      "cell_type": "code",
      "metadata": {
        "id": "IOpARSKe7XDA",
        "colab_type": "code",
        "colab": {}
      },
      "source": [
        "lines=Xtest['review'].apply(lambda x: str(x))\n",
        "\n",
        "lines_list=list([token.lemma_.lower() for token in doc if token.is_alpha] for doc in nlp.pipe(lines, batch_size=1000,disable=['tagger','parser','ner']))\n",
        "\n",
        "#lines_list"
      ],
      "execution_count": 5,
      "outputs": []
    },
    {
      "cell_type": "markdown",
      "metadata": {
        "id": "poBl_2-VEEtA",
        "colab_type": "text"
      },
      "source": [
        "# How to use standard Glove vectors for finding similarities without Gensim\n",
        "\n",
        "To load the pre-trained vectors, we must first create a dictionary that will hold the mappings between words, and the embedding vectors of those words."
      ]
    },
    {
      "cell_type": "code",
      "metadata": {
        "id": "0ly5NzFHDi9o",
        "colab_type": "code",
        "colab": {}
      },
      "source": [
        "import os\n",
        "import numpy as np\n",
        "GLOVE_DIR ='/content/drive/My Drive/Python'\n",
        "print('Indexing word vectors.')\n",
        "embeddings_index = {}\n",
        "f = open(os.path.join(GLOVE_DIR, 'glove.6B.300d.txt'),encoding=\"utf8\")\n",
        "for line in f:\n",
        "    values = line.split()\n",
        "    word = values[0]\n",
        "    coefs = np.asarray(values[1:], dtype='float32')\n",
        "    embeddings_index[word] = coefs\n",
        "f.close()\n",
        "\n",
        "print('Found %s word vectors.' % len(embeddings_index))\n",
        "\n",
        "#print(embeddings_index['banana'])"
      ],
      "execution_count": null,
      "outputs": []
    },
    {
      "cell_type": "code",
      "metadata": {
        "id": "TNhaoY-9uWIb",
        "colab_type": "code",
        "colab": {}
      },
      "source": [
        "from scipy import spatial\n",
        "def find_closest_embeddings(embedding):\n",
        "    return sorted(embeddings_index.keys(), key=lambda word: spatial.distance.euclidean(embeddings_index[word], embedding))\n"
      ],
      "execution_count": 79,
      "outputs": []
    },
    {
      "cell_type": "code",
      "metadata": {
        "id": "RAdh10DauWjN",
        "colab_type": "code",
        "colab": {
          "base_uri": "https://localhost:8080/",
          "height": 187
        },
        "outputId": "0fe52a00-7211-4237-f4f9-181ccc744ea2"
      },
      "source": [
        "find_closest_embeddings(embeddings_index[\"japanese\"])[:10]"
      ],
      "execution_count": 80,
      "outputs": [
        {
          "output_type": "execute_result",
          "data": {
            "text/plain": [
              "['japanese',\n",
              " 'japan',\n",
              " 'tokyo',\n",
              " 'korean',\n",
              " 'chinese',\n",
              " 'taiwanese',\n",
              " 'kyodo',\n",
              " 'hashimoto',\n",
              " 'moreover',\n",
              " 'meanwhile']"
            ]
          },
          "metadata": {
            "tags": []
          },
          "execution_count": 80
        }
      ]
    },
    {
      "cell_type": "markdown",
      "metadata": {
        "id": "tOQYadkz4dWD",
        "colab_type": "text"
      },
      "source": [
        "# Converting  Standard Glove vectors into Gensim- Word2Vec format for finding similarities"
      ]
    },
    {
      "cell_type": "code",
      "metadata": {
        "id": "ZKOunvXkGgtm",
        "colab_type": "code",
        "colab": {
          "base_uri": "https://localhost:8080/",
          "height": 68
        },
        "outputId": "abb2c7f4-1268-45c0-df2f-182232c93973"
      },
      "source": [
        "!pip3 install glove_python\n",
        "#https://medium.com/analytics-vidhya/word-vectorization-using-glove-76919685ee0b\n",
        "#https://medium.com/analytics-vidhya/basics-of-using-pre-trained-glove-vectors-in-python-d38905f356db"
      ],
      "execution_count": 6,
      "outputs": [
        {
          "output_type": "stream",
          "text": [
            "Requirement already satisfied: glove_python in /usr/local/lib/python3.6/dist-packages (0.1.0)\n",
            "Requirement already satisfied: scipy in /usr/local/lib/python3.6/dist-packages (from glove_python) (1.4.1)\n",
            "Requirement already satisfied: numpy in /usr/local/lib/python3.6/dist-packages (from glove_python) (1.18.5)\n"
          ],
          "name": "stdout"
        }
      ]
    },
    {
      "cell_type": "code",
      "metadata": {
        "id": "GT9tced9mU7Y",
        "colab_type": "code",
        "colab": {
          "base_uri": "https://localhost:8080/",
          "height": 122
        },
        "outputId": "694040cf-44b3-4e74-c190-78e4fdada5f2"
      },
      "source": [
        "from gensim.scripts.glove2word2vec import glove2word2vec\n",
        "glove2word2vec(glove_input_file='/content/drive/My Drive/Python/glove.6B.300d.txt', word2vec_output_file=\"/content/drive/My Drive/Python/gensim_glove_vectors.txt\")    \n",
        "from gensim.models.keyedvectors import KeyedVectors\n",
        "model = KeyedVectors.load_word2vec_format(\"/content/drive/My Drive/Python/gensim_glove_vectors.txt\", binary=False)\n"
      ],
      "execution_count": 7,
      "outputs": [
        {
          "output_type": "stream",
          "text": [
            "/usr/local/lib/python3.6/dist-packages/smart_open/smart_open_lib.py:254: UserWarning: This function is deprecated, use smart_open.open instead. See the migration notes for details: https://github.com/RaRe-Technologies/smart_open/blob/master/README.rst#migrating-to-the-new-open-function\n",
            "  'See the migration notes for details: %s' % _MIGRATION_NOTES_URL\n",
            "2020-08-06 07:38:51,767 : INFO : converting 400001 vectors from /content/drive/My Drive/Python/glove.6B.300d.txt to /content/drive/My Drive/Python/gensim_glove_vectors.txt\n",
            "2020-08-06 07:38:58,449 : INFO : loading projection weights from /content/drive/My Drive/Python/gensim_glove_vectors.txt\n",
            "2020-08-06 07:40:56,177 : INFO : loaded (400001, 300) matrix from /content/drive/My Drive/Python/gensim_glove_vectors.txt\n"
          ],
          "name": "stderr"
        }
      ]
    },
    {
      "cell_type": "code",
      "metadata": {
        "id": "-wj5nx9PnEF-",
        "colab_type": "code",
        "colab": {
          "base_uri": "https://localhost:8080/",
          "height": 241
        },
        "outputId": "cb4d762b-d1d7-43eb-a21c-d26ceccdd470"
      },
      "source": [
        "\n",
        "model.most_similar('japanese')\n",
        "\n"
      ],
      "execution_count": 74,
      "outputs": [
        {
          "output_type": "stream",
          "text": [
            "/usr/local/lib/python3.6/dist-packages/gensim/matutils.py:737: FutureWarning: Conversion of the second argument of issubdtype from `int` to `np.signedinteger` is deprecated. In future, it will be treated as `np.int64 == np.dtype(int).type`.\n",
            "  if np.issubdtype(vec.dtype, np.int):\n"
          ],
          "name": "stderr"
        },
        {
          "output_type": "execute_result",
          "data": {
            "text/plain": [
              "[('japan', 0.769140362739563),\n",
              " ('tokyo', 0.6243131160736084),\n",
              " ('korean', 0.6134214401245117),\n",
              " ('chinese', 0.5663821697235107),\n",
              " ('yen', 0.4867936968803406),\n",
              " ('taiwanese', 0.4863933324813843),\n",
              " ('hashimoto', 0.46149420738220215),\n",
              " ('asian', 0.45883551239967346),\n",
              " ('kyodo', 0.45841461420059204),\n",
              " ('foreign', 0.4445464611053467)]"
            ]
          },
          "metadata": {
            "tags": []
          },
          "execution_count": 74
        }
      ]
    },
    {
      "cell_type": "markdown",
      "metadata": {
        "id": "tOXJSuk4hY70",
        "colab_type": "text"
      },
      "source": [
        "# Train Glove model on own corpus, find similarities and save the model\n",
        "\n",
        "https://github.com/alexeygrigorev/avito-duplicates-kaggle/blob/master/prepare_glove_model.py"
      ]
    },
    {
      "cell_type": "code",
      "metadata": {
        "id": "jCohbt5NYke7",
        "colab_type": "code",
        "colab": {}
      },
      "source": [
        "from time import time\n",
        "from glove import Glove, Corpus\n",
        "\n",
        "def train_glove(sentences):\n",
        "    print ('training glove model...')\n",
        "    t0 = time()\n",
        "    \n",
        "    num_features = 300    # Word vector dimensionality\n",
        "    context = 5          # Context window size\n",
        "    learning_rate = 0.05\n",
        "    \n",
        "    corpus = Corpus()\n",
        "    corpus.fit(sentences, window=context)\n",
        "\n",
        "    glove = Glove(no_components=num_features, learning_rate=learning_rate)\n",
        "    glove.fit(corpus.matrix, epochs=30, no_threads=8, verbose=True)\n",
        "    glove.add_dictionary(corpus.dictionary)\n",
        "\n",
        "    print('took %0.5fs.' % (time() - t0))\n",
        "    return (glove)"
      ],
      "execution_count": 20,
      "outputs": []
    },
    {
      "cell_type": "code",
      "metadata": {
        "id": "iklmg3QPYnXk",
        "colab_type": "code",
        "colab": {
          "base_uri": "https://localhost:8080/",
          "height": 578
        },
        "outputId": "5429b70c-0986-427c-8c9a-d7b9c35bf9f2"
      },
      "source": [
        "model=train_glove(lines_list)"
      ],
      "execution_count": 21,
      "outputs": [
        {
          "output_type": "stream",
          "text": [
            "training glove model...\n",
            "Performing 30 training epochs with 8 threads\n",
            "Epoch 0\n",
            "Epoch 1\n",
            "Epoch 2\n",
            "Epoch 3\n",
            "Epoch 4\n",
            "Epoch 5\n",
            "Epoch 6\n",
            "Epoch 7\n",
            "Epoch 8\n",
            "Epoch 9\n",
            "Epoch 10\n",
            "Epoch 11\n",
            "Epoch 12\n",
            "Epoch 13\n",
            "Epoch 14\n",
            "Epoch 15\n",
            "Epoch 16\n",
            "Epoch 17\n",
            "Epoch 18\n",
            "Epoch 19\n",
            "Epoch 20\n",
            "Epoch 21\n",
            "Epoch 22\n",
            "Epoch 23\n",
            "Epoch 24\n",
            "Epoch 25\n",
            "Epoch 26\n",
            "Epoch 27\n",
            "Epoch 28\n",
            "Epoch 29\n",
            "took 169.86294s.\n"
          ],
          "name": "stdout"
        }
      ]
    },
    {
      "cell_type": "code",
      "metadata": {
        "id": "dfVlPCEXbfkk",
        "colab_type": "code",
        "colab": {
          "base_uri": "https://localhost:8080/",
          "height": 102
        },
        "outputId": "b214c701-bb4a-434e-867d-e1aa6cc9e13f"
      },
      "source": [
        "model.most_similar('lead',number=6)"
      ],
      "execution_count": 15,
      "outputs": [
        {
          "output_type": "execute_result",
          "data": {
            "text/plain": [
              "[('audience', 0.9988545790755441),\n",
              " ('set', 0.998696491129534),\n",
              " ('director', 0.9986048814349453),\n",
              " ('eye', 0.9984169486492076),\n",
              " ('include', 0.9983186282532661)]"
            ]
          },
          "metadata": {
            "tags": []
          },
          "execution_count": 15
        }
      ]
    },
    {
      "cell_type": "code",
      "metadata": {
        "id": "Li9x8hvvgeKn",
        "colab_type": "code",
        "colab": {}
      },
      "source": [
        "from gensim.models import Word2Vec, KeyedVectors   \n",
        "\n",
        "model.save('/content/drive/My Drive/Python/glove_final.model')"
      ],
      "execution_count": 17,
      "outputs": []
    },
    {
      "cell_type": "code",
      "metadata": {
        "id": "xGofyKp1g1nI",
        "colab_type": "code",
        "colab": {}
      },
      "source": [
        "#from gensim.models import Word2Vec, KeyedVectors \n",
        "rmodel=model.load('/content/drive/My Drive/Python/glove_final.model')"
      ],
      "execution_count": 18,
      "outputs": []
    },
    {
      "cell_type": "code",
      "metadata": {
        "id": "WtpjiiRXhBvo",
        "colab_type": "code",
        "colab": {
          "base_uri": "https://localhost:8080/",
          "height": 102
        },
        "outputId": "d296465f-5ea9-4174-b02b-2f703f7036d0"
      },
      "source": [
        "rmodel.most_similar('role',number=6)"
      ],
      "execution_count": 34,
      "outputs": [
        {
          "output_type": "execute_result",
          "data": {
            "text/plain": [
              "[('set', 0.9985247659530221),\n",
              " ('child', 0.9984764780995089),\n",
              " ('family', 0.998461097913626),\n",
              " ('in', 0.9981711476296137),\n",
              " ('young', 0.9981509456178514)]"
            ]
          },
          "metadata": {
            "tags": []
          },
          "execution_count": 34
        }
      ]
    },
    {
      "cell_type": "markdown",
      "metadata": {
        "id": "83IIrd0wdMGn",
        "colab_type": "text"
      },
      "source": [
        "# Embedding using Gensim-Word2Vec on own corpus\n",
        "  Save the model and reuse the saved model"
      ]
    },
    {
      "cell_type": "code",
      "metadata": {
        "id": "V7vKOuWPda4t",
        "colab_type": "code",
        "colab": {
          "base_uri": "https://localhost:8080/",
          "height": 955
        },
        "outputId": "3f4eee22-5cc5-4efc-dcb7-d3d4c340da04"
      },
      "source": [
        "w2v_model=gensim.models.Word2Vec(lines_list,size=50,sg=5,min_count=2,workers=3)"
      ],
      "execution_count": 142,
      "outputs": [
        {
          "output_type": "stream",
          "text": [
            "2020-08-06 16:40:03,263 : WARNING : consider setting layer size to a multiple of 4 for greater performance\n",
            "2020-08-06 16:40:03,266 : INFO : collecting all words and their counts\n",
            "2020-08-06 16:40:03,268 : INFO : PROGRESS: at sentence #0, processed 0 words, keeping 0 word types\n",
            "2020-08-06 16:40:03,455 : INFO : collected 28814 word types from a corpus of 1031321 raw words and 4500 sentences\n",
            "2020-08-06 16:40:03,456 : INFO : Loading a fresh vocabulary\n",
            "2020-08-06 16:40:03,502 : INFO : effective_min_count=2 retains 17223 unique words (59% of original 28814, drops 11591)\n",
            "2020-08-06 16:40:03,503 : INFO : effective_min_count=2 leaves 1019730 word corpus (98% of original 1031321, drops 11591)\n",
            "2020-08-06 16:40:03,564 : INFO : deleting the raw counts dictionary of 28814 items\n",
            "2020-08-06 16:40:03,566 : INFO : sample=0.001 downsamples 49 most-common words\n",
            "2020-08-06 16:40:03,568 : INFO : downsampling leaves estimated 723978 word corpus (71.0% of prior 1019730)\n",
            "2020-08-06 16:40:03,629 : INFO : estimated required memory for 17223 words and 50 dimensions: 15500700 bytes\n",
            "2020-08-06 16:40:03,630 : INFO : resetting layer weights\n",
            "2020-08-06 16:40:06,993 : INFO : training model with 3 workers on 17223 vocabulary and 50 features, using sg=5 hs=0 sample=0.001 negative=5 window=5\n",
            "2020-08-06 16:40:08,019 : INFO : EPOCH 1 - PROGRESS: at 20.40% examples, 142527 words/s, in_qsize 5, out_qsize 0\n",
            "2020-08-06 16:40:09,076 : INFO : EPOCH 1 - PROGRESS: at 41.84% examples, 145706 words/s, in_qsize 5, out_qsize 0\n",
            "2020-08-06 16:40:10,095 : INFO : EPOCH 1 - PROGRESS: at 62.60% examples, 146554 words/s, in_qsize 5, out_qsize 0\n",
            "2020-08-06 16:40:11,194 : INFO : EPOCH 1 - PROGRESS: at 85.36% examples, 147444 words/s, in_qsize 6, out_qsize 0\n",
            "2020-08-06 16:40:11,758 : INFO : worker thread finished; awaiting finish of 2 more threads\n",
            "2020-08-06 16:40:11,802 : INFO : worker thread finished; awaiting finish of 1 more threads\n",
            "2020-08-06 16:40:11,814 : INFO : worker thread finished; awaiting finish of 0 more threads\n",
            "2020-08-06 16:40:11,815 : INFO : EPOCH - 1 : training on 1031321 raw words (723793 effective words) took 4.8s, 150286 effective words/s\n",
            "2020-08-06 16:40:12,910 : INFO : EPOCH 2 - PROGRESS: at 21.16% examples, 140086 words/s, in_qsize 5, out_qsize 0\n",
            "2020-08-06 16:40:13,917 : INFO : EPOCH 2 - PROGRESS: at 42.82% examples, 148065 words/s, in_qsize 5, out_qsize 0\n",
            "2020-08-06 16:40:14,960 : INFO : EPOCH 2 - PROGRESS: at 63.60% examples, 146871 words/s, in_qsize 5, out_qsize 0\n",
            "2020-08-06 16:40:16,049 : INFO : EPOCH 2 - PROGRESS: at 85.36% examples, 146480 words/s, in_qsize 5, out_qsize 0\n",
            "2020-08-06 16:40:16,627 : INFO : worker thread finished; awaiting finish of 2 more threads\n",
            "2020-08-06 16:40:16,652 : INFO : worker thread finished; awaiting finish of 1 more threads\n",
            "2020-08-06 16:40:16,659 : INFO : worker thread finished; awaiting finish of 0 more threads\n",
            "2020-08-06 16:40:16,660 : INFO : EPOCH - 2 : training on 1031321 raw words (724114 effective words) took 4.8s, 149773 effective words/s\n",
            "2020-08-06 16:40:17,728 : INFO : EPOCH 3 - PROGRESS: at 20.29% examples, 136503 words/s, in_qsize 4, out_qsize 1\n",
            "2020-08-06 16:40:18,777 : INFO : EPOCH 3 - PROGRESS: at 42.82% examples, 146581 words/s, in_qsize 5, out_qsize 0\n",
            "2020-08-06 16:40:19,821 : INFO : EPOCH 3 - PROGRESS: at 64.60% examples, 148030 words/s, in_qsize 5, out_qsize 0\n",
            "2020-08-06 16:40:20,859 : INFO : EPOCH 3 - PROGRESS: at 86.24% examples, 149117 words/s, in_qsize 5, out_qsize 0\n",
            "2020-08-06 16:40:21,430 : INFO : worker thread finished; awaiting finish of 2 more threads\n",
            "2020-08-06 16:40:21,451 : INFO : worker thread finished; awaiting finish of 1 more threads\n",
            "2020-08-06 16:40:21,484 : INFO : worker thread finished; awaiting finish of 0 more threads\n",
            "2020-08-06 16:40:21,485 : INFO : EPOCH - 3 : training on 1031321 raw words (723773 effective words) took 4.8s, 150189 effective words/s\n",
            "2020-08-06 16:40:22,556 : INFO : EPOCH 4 - PROGRESS: at 21.16% examples, 142876 words/s, in_qsize 5, out_qsize 0\n",
            "2020-08-06 16:40:23,604 : INFO : EPOCH 4 - PROGRESS: at 42.82% examples, 146742 words/s, in_qsize 5, out_qsize 0\n",
            "2020-08-06 16:40:24,678 : INFO : EPOCH 4 - PROGRESS: at 64.40% examples, 146842 words/s, in_qsize 5, out_qsize 0\n",
            "2020-08-06 16:40:25,757 : INFO : EPOCH 4 - PROGRESS: at 87.24% examples, 148321 words/s, in_qsize 5, out_qsize 0\n",
            "2020-08-06 16:40:26,275 : INFO : worker thread finished; awaiting finish of 2 more threads\n",
            "2020-08-06 16:40:26,292 : INFO : worker thread finished; awaiting finish of 1 more threads\n",
            "2020-08-06 16:40:26,302 : INFO : worker thread finished; awaiting finish of 0 more threads\n",
            "2020-08-06 16:40:26,303 : INFO : EPOCH - 4 : training on 1031321 raw words (724367 effective words) took 4.8s, 150565 effective words/s\n",
            "2020-08-06 16:40:27,334 : INFO : EPOCH 5 - PROGRESS: at 20.40% examples, 142231 words/s, in_qsize 6, out_qsize 0\n",
            "2020-08-06 16:40:28,350 : INFO : EPOCH 5 - PROGRESS: at 40.89% examples, 145117 words/s, in_qsize 5, out_qsize 0\n",
            "2020-08-06 16:40:29,370 : INFO : EPOCH 5 - PROGRESS: at 62.64% examples, 148560 words/s, in_qsize 5, out_qsize 0\n",
            "2020-08-06 16:40:30,386 : INFO : EPOCH 5 - PROGRESS: at 84.33% examples, 150158 words/s, in_qsize 5, out_qsize 0\n",
            "2020-08-06 16:40:31,040 : INFO : worker thread finished; awaiting finish of 2 more threads\n",
            "2020-08-06 16:40:31,071 : INFO : worker thread finished; awaiting finish of 1 more threads\n",
            "2020-08-06 16:40:31,104 : INFO : worker thread finished; awaiting finish of 0 more threads\n",
            "2020-08-06 16:40:31,105 : INFO : EPOCH - 5 : training on 1031321 raw words (724284 effective words) took 4.8s, 151128 effective words/s\n",
            "2020-08-06 16:40:31,107 : INFO : training on a 5156605 raw words (3620331 effective words) took 24.1s, 150143 effective words/s\n"
          ],
          "name": "stderr"
        }
      ]
    },
    {
      "cell_type": "code",
      "metadata": {
        "id": "wIEXZGTodzgo",
        "colab_type": "code",
        "colab": {
          "base_uri": "https://localhost:8080/",
          "height": 1000
        },
        "outputId": "1ba80f3f-6d38-4e24-e660-5c6376aa9922"
      },
      "source": [
        "w2v_model.train(lines_list, total_examples=len(lines_list), epochs=10)"
      ],
      "execution_count": 143,
      "outputs": [
        {
          "output_type": "stream",
          "text": [
            "2020-08-06 16:40:31,114 : WARNING : Effective 'alpha' higher than previous training cycles\n",
            "2020-08-06 16:40:31,116 : INFO : training model with 3 workers on 17223 vocabulary and 50 features, using sg=5 hs=0 sample=0.001 negative=5 window=5\n",
            "2020-08-06 16:40:32,132 : INFO : EPOCH 1 - PROGRESS: at 20.40% examples, 144150 words/s, in_qsize 5, out_qsize 0\n",
            "2020-08-06 16:40:33,148 : INFO : EPOCH 1 - PROGRESS: at 40.69% examples, 145984 words/s, in_qsize 5, out_qsize 0\n",
            "2020-08-06 16:40:34,179 : INFO : EPOCH 1 - PROGRESS: at 62.60% examples, 148444 words/s, in_qsize 5, out_qsize 0\n",
            "2020-08-06 16:40:35,227 : INFO : EPOCH 1 - PROGRESS: at 84.47% examples, 149062 words/s, in_qsize 5, out_qsize 0\n",
            "2020-08-06 16:40:35,835 : INFO : worker thread finished; awaiting finish of 2 more threads\n",
            "2020-08-06 16:40:35,852 : INFO : worker thread finished; awaiting finish of 1 more threads\n",
            "2020-08-06 16:40:35,901 : INFO : worker thread finished; awaiting finish of 0 more threads\n",
            "2020-08-06 16:40:35,902 : INFO : EPOCH - 1 : training on 1031321 raw words (723705 effective words) took 4.8s, 151510 effective words/s\n",
            "2020-08-06 16:40:36,961 : INFO : EPOCH 2 - PROGRESS: at 21.27% examples, 144641 words/s, in_qsize 5, out_qsize 0\n",
            "2020-08-06 16:40:37,972 : INFO : EPOCH 2 - PROGRESS: at 41.87% examples, 146781 words/s, in_qsize 5, out_qsize 0\n",
            "2020-08-06 16:40:39,003 : INFO : EPOCH 2 - PROGRESS: at 63.60% examples, 148939 words/s, in_qsize 5, out_qsize 0\n",
            "2020-08-06 16:40:40,039 : INFO : EPOCH 2 - PROGRESS: at 85.22% examples, 149783 words/s, in_qsize 5, out_qsize 0\n",
            "2020-08-06 16:40:40,639 : INFO : worker thread finished; awaiting finish of 2 more threads\n",
            "2020-08-06 16:40:40,677 : INFO : worker thread finished; awaiting finish of 1 more threads\n",
            "2020-08-06 16:40:40,695 : INFO : worker thread finished; awaiting finish of 0 more threads\n",
            "2020-08-06 16:40:40,696 : INFO : EPOCH - 2 : training on 1031321 raw words (724244 effective words) took 4.8s, 151274 effective words/s\n",
            "2020-08-06 16:40:41,720 : INFO : EPOCH 3 - PROGRESS: at 21.16% examples, 149159 words/s, in_qsize 5, out_qsize 0\n",
            "2020-08-06 16:40:42,747 : INFO : EPOCH 3 - PROGRESS: at 41.87% examples, 147914 words/s, in_qsize 4, out_qsize 1\n",
            "2020-08-06 16:40:43,804 : INFO : EPOCH 3 - PROGRESS: at 64.51% examples, 150793 words/s, in_qsize 5, out_qsize 0\n",
            "2020-08-06 16:40:44,821 : INFO : EPOCH 3 - PROGRESS: at 86.24% examples, 151800 words/s, in_qsize 5, out_qsize 0\n",
            "2020-08-06 16:40:45,409 : INFO : worker thread finished; awaiting finish of 2 more threads\n",
            "2020-08-06 16:40:45,427 : INFO : worker thread finished; awaiting finish of 1 more threads\n",
            "2020-08-06 16:40:45,441 : INFO : worker thread finished; awaiting finish of 0 more threads\n",
            "2020-08-06 16:40:45,442 : INFO : EPOCH - 3 : training on 1031321 raw words (723722 effective words) took 4.7s, 152693 effective words/s\n",
            "2020-08-06 16:40:46,453 : INFO : EPOCH 4 - PROGRESS: at 21.16% examples, 151240 words/s, in_qsize 5, out_qsize 0\n",
            "2020-08-06 16:40:47,457 : INFO : EPOCH 4 - PROGRESS: at 40.69% examples, 147244 words/s, in_qsize 5, out_qsize 0\n",
            "2020-08-06 16:40:48,458 : INFO : EPOCH 4 - PROGRESS: at 61.69% examples, 148582 words/s, in_qsize 5, out_qsize 0\n",
            "2020-08-06 16:40:49,516 : INFO : EPOCH 4 - PROGRESS: at 84.33% examples, 150445 words/s, in_qsize 5, out_qsize 0\n",
            "2020-08-06 16:40:50,211 : INFO : worker thread finished; awaiting finish of 2 more threads\n",
            "2020-08-06 16:40:50,213 : INFO : worker thread finished; awaiting finish of 1 more threads\n",
            "2020-08-06 16:40:50,215 : INFO : worker thread finished; awaiting finish of 0 more threads\n",
            "2020-08-06 16:40:50,216 : INFO : EPOCH - 4 : training on 1031321 raw words (724035 effective words) took 4.8s, 151881 effective words/s\n",
            "2020-08-06 16:40:51,246 : INFO : EPOCH 5 - PROGRESS: at 20.40% examples, 142642 words/s, in_qsize 5, out_qsize 0\n",
            "2020-08-06 16:40:52,300 : INFO : EPOCH 5 - PROGRESS: at 41.82% examples, 146017 words/s, in_qsize 4, out_qsize 1\n",
            "2020-08-06 16:40:53,354 : INFO : EPOCH 5 - PROGRESS: at 63.60% examples, 147260 words/s, in_qsize 4, out_qsize 1\n",
            "2020-08-06 16:40:54,372 : INFO : EPOCH 5 - PROGRESS: at 85.22% examples, 149214 words/s, in_qsize 5, out_qsize 0\n",
            "2020-08-06 16:40:54,977 : INFO : worker thread finished; awaiting finish of 2 more threads\n",
            "2020-08-06 16:40:54,986 : INFO : worker thread finished; awaiting finish of 1 more threads\n",
            "2020-08-06 16:40:55,000 : INFO : worker thread finished; awaiting finish of 0 more threads\n",
            "2020-08-06 16:40:55,001 : INFO : EPOCH - 5 : training on 1031321 raw words (724029 effective words) took 4.8s, 151656 effective words/s\n",
            "2020-08-06 16:40:56,005 : INFO : EPOCH 6 - PROGRESS: at 20.40% examples, 145189 words/s, in_qsize 5, out_qsize 0\n",
            "2020-08-06 16:40:57,019 : INFO : EPOCH 6 - PROGRESS: at 40.69% examples, 146782 words/s, in_qsize 5, out_qsize 0\n",
            "2020-08-06 16:40:58,084 : INFO : EPOCH 6 - PROGRESS: at 63.60% examples, 149497 words/s, in_qsize 5, out_qsize 0\n",
            "2020-08-06 16:40:59,140 : INFO : EPOCH 6 - PROGRESS: at 85.22% examples, 149574 words/s, in_qsize 5, out_qsize 0\n",
            "2020-08-06 16:40:59,734 : INFO : worker thread finished; awaiting finish of 2 more threads\n",
            "2020-08-06 16:40:59,765 : INFO : worker thread finished; awaiting finish of 1 more threads\n",
            "2020-08-06 16:40:59,787 : INFO : worker thread finished; awaiting finish of 0 more threads\n",
            "2020-08-06 16:40:59,788 : INFO : EPOCH - 6 : training on 1031321 raw words (724165 effective words) took 4.8s, 151388 effective words/s\n",
            "2020-08-06 16:41:00,841 : INFO : EPOCH 7 - PROGRESS: at 21.16% examples, 144845 words/s, in_qsize 5, out_qsize 0\n",
            "2020-08-06 16:41:01,888 : INFO : EPOCH 7 - PROGRESS: at 42.78% examples, 147838 words/s, in_qsize 5, out_qsize 0\n",
            "2020-08-06 16:41:02,912 : INFO : EPOCH 7 - PROGRESS: at 64.60% examples, 149850 words/s, in_qsize 5, out_qsize 0\n",
            "2020-08-06 16:41:03,952 : INFO : EPOCH 7 - PROGRESS: at 86.24% examples, 150399 words/s, in_qsize 5, out_qsize 0\n",
            "2020-08-06 16:41:04,501 : INFO : worker thread finished; awaiting finish of 2 more threads\n",
            "2020-08-06 16:41:04,558 : INFO : worker thread finished; awaiting finish of 1 more threads\n",
            "2020-08-06 16:41:04,570 : INFO : worker thread finished; awaiting finish of 0 more threads\n",
            "2020-08-06 16:41:04,571 : INFO : EPOCH - 7 : training on 1031321 raw words (723676 effective words) took 4.8s, 151533 effective words/s\n",
            "2020-08-06 16:41:05,630 : INFO : EPOCH 8 - PROGRESS: at 20.40% examples, 138191 words/s, in_qsize 5, out_qsize 0\n",
            "2020-08-06 16:41:06,659 : INFO : EPOCH 8 - PROGRESS: at 42.82% examples, 148840 words/s, in_qsize 5, out_qsize 0\n",
            "2020-08-06 16:41:07,660 : INFO : EPOCH 8 - PROGRESS: at 64.51% examples, 151878 words/s, in_qsize 5, out_qsize 0\n",
            "2020-08-06 16:41:08,674 : INFO : EPOCH 8 - PROGRESS: at 84.33% examples, 149439 words/s, in_qsize 5, out_qsize 0\n",
            "2020-08-06 16:41:09,324 : INFO : worker thread finished; awaiting finish of 2 more threads\n",
            "2020-08-06 16:41:09,342 : INFO : worker thread finished; awaiting finish of 1 more threads\n",
            "2020-08-06 16:41:09,369 : INFO : worker thread finished; awaiting finish of 0 more threads\n",
            "2020-08-06 16:41:09,370 : INFO : EPOCH - 8 : training on 1031321 raw words (723983 effective words) took 4.8s, 151109 effective words/s\n",
            "2020-08-06 16:41:10,419 : INFO : EPOCH 9 - PROGRESS: at 21.16% examples, 145694 words/s, in_qsize 5, out_qsize 0\n",
            "2020-08-06 16:41:11,443 : INFO : EPOCH 9 - PROGRESS: at 42.82% examples, 149959 words/s, in_qsize 5, out_qsize 0\n",
            "2020-08-06 16:41:12,461 : INFO : EPOCH 9 - PROGRESS: at 63.60% examples, 149555 words/s, in_qsize 5, out_qsize 0\n",
            "2020-08-06 16:41:13,479 : INFO : EPOCH 9 - PROGRESS: at 84.33% examples, 149193 words/s, in_qsize 5, out_qsize 0\n",
            "2020-08-06 16:41:14,117 : INFO : worker thread finished; awaiting finish of 2 more threads\n",
            "2020-08-06 16:41:14,139 : INFO : worker thread finished; awaiting finish of 1 more threads\n",
            "2020-08-06 16:41:14,152 : INFO : worker thread finished; awaiting finish of 0 more threads\n",
            "2020-08-06 16:41:14,154 : INFO : EPOCH - 9 : training on 1031321 raw words (724304 effective words) took 4.8s, 151649 effective words/s\n",
            "2020-08-06 16:41:15,239 : INFO : EPOCH 10 - PROGRESS: at 21.27% examples, 140978 words/s, in_qsize 5, out_qsize 0\n",
            "2020-08-06 16:41:16,297 : INFO : EPOCH 10 - PROGRESS: at 43.76% examples, 148107 words/s, in_qsize 5, out_qsize 0\n",
            "2020-08-06 16:41:17,325 : INFO : EPOCH 10 - PROGRESS: at 65.31% examples, 149972 words/s, in_qsize 5, out_qsize 0\n",
            "2020-08-06 16:41:18,336 : INFO : EPOCH 10 - PROGRESS: at 87.24% examples, 151460 words/s, in_qsize 5, out_qsize 0\n",
            "2020-08-06 16:41:18,880 : INFO : worker thread finished; awaiting finish of 2 more threads\n",
            "2020-08-06 16:41:18,903 : INFO : worker thread finished; awaiting finish of 1 more threads\n",
            "2020-08-06 16:41:18,924 : INFO : worker thread finished; awaiting finish of 0 more threads\n",
            "2020-08-06 16:41:18,925 : INFO : EPOCH - 10 : training on 1031321 raw words (724180 effective words) took 4.8s, 151991 effective words/s\n",
            "2020-08-06 16:41:18,927 : INFO : training on a 10313210 raw words (7240043 effective words) took 47.8s, 151434 effective words/s\n"
          ],
          "name": "stderr"
        },
        {
          "output_type": "execute_result",
          "data": {
            "text/plain": [
              "(7240043, 10313210)"
            ]
          },
          "metadata": {
            "tags": []
          },
          "execution_count": 143
        }
      ]
    },
    {
      "cell_type": "code",
      "metadata": {
        "id": "TpI2N8m5ehth",
        "colab_type": "code",
        "colab": {
          "base_uri": "https://localhost:8080/",
          "height": 258
        },
        "outputId": "77348405-98f3-4724-d4ed-1fd832b10f91"
      },
      "source": [
        "w2v_model.wv.most_similar('plot')"
      ],
      "execution_count": 144,
      "outputs": [
        {
          "output_type": "stream",
          "text": [
            "2020-08-06 16:41:18,937 : INFO : precomputing L2-norms of word weight vectors\n",
            "/usr/local/lib/python3.6/dist-packages/gensim/matutils.py:737: FutureWarning: Conversion of the second argument of issubdtype from `int` to `np.signedinteger` is deprecated. In future, it will be treated as `np.int64 == np.dtype(int).type`.\n",
            "  if np.issubdtype(vec.dtype, np.int):\n"
          ],
          "name": "stderr"
        },
        {
          "output_type": "execute_result",
          "data": {
            "text/plain": [
              "[('storyline', 0.8199487924575806),\n",
              " ('dialogue', 0.7991106510162354),\n",
              " ('convolute', 0.7771885991096497),\n",
              " ('premise', 0.7746027708053589),\n",
              " ('story', 0.7615073323249817),\n",
              " ('nutshell', 0.7545708417892456),\n",
              " ('laughably', 0.7541012167930603),\n",
              " ('development', 0.7538366317749023),\n",
              " ('linear', 0.7509469389915466),\n",
              " ('ridiculousness', 0.742781400680542)]"
            ]
          },
          "metadata": {
            "tags": []
          },
          "execution_count": 144
        }
      ]
    },
    {
      "cell_type": "code",
      "metadata": {
        "id": "VY3m-mV7rLZQ",
        "colab_type": "code",
        "colab": {
          "base_uri": "https://localhost:8080/",
          "height": 139
        },
        "outputId": "a8044f94-493e-4cbf-917c-ac15b4daa5d4"
      },
      "source": [
        "\n",
        "w2v_model.save(\"/content/drive/My Drive/Python/word2vec.model\")"
      ],
      "execution_count": 145,
      "outputs": [
        {
          "output_type": "stream",
          "text": [
            "2020-08-06 16:41:20,462 : INFO : saving Word2Vec object under /content/drive/My Drive/Python/word2vec.model, separately None\n",
            "2020-08-06 16:41:20,464 : INFO : not storing attribute vectors_norm\n",
            "2020-08-06 16:41:20,466 : INFO : not storing attribute cum_table\n",
            "/usr/local/lib/python3.6/dist-packages/smart_open/smart_open_lib.py:254: UserWarning: This function is deprecated, use smart_open.open instead. See the migration notes for details: https://github.com/RaRe-Technologies/smart_open/blob/master/README.rst#migrating-to-the-new-open-function\n",
            "  'See the migration notes for details: %s' % _MIGRATION_NOTES_URL\n",
            "2020-08-06 16:41:20,607 : INFO : saved /content/drive/My Drive/Python/word2vec.model\n"
          ],
          "name": "stderr"
        }
      ]
    },
    {
      "cell_type": "code",
      "metadata": {
        "id": "LIEP79UJ1P3r",
        "colab_type": "code",
        "colab": {
          "base_uri": "https://localhost:8080/",
          "height": 190
        },
        "outputId": "a3a7c9cd-3a4a-44f6-ce4a-7bc36d6eb689"
      },
      "source": [
        "#from gensim.models import Word2Vec, KeyedVectors \n",
        "\n",
        "loaded_model = Word2Vec.load('/content/drive/My Drive/Python/word2vec.model')"
      ],
      "execution_count": 146,
      "outputs": [
        {
          "output_type": "stream",
          "text": [
            "2020-08-06 16:41:20,622 : INFO : loading Word2Vec object from /content/drive/My Drive/Python/word2vec.model\n",
            "/usr/local/lib/python3.6/dist-packages/smart_open/smart_open_lib.py:254: UserWarning: This function is deprecated, use smart_open.open instead. See the migration notes for details: https://github.com/RaRe-Technologies/smart_open/blob/master/README.rst#migrating-to-the-new-open-function\n",
            "  'See the migration notes for details: %s' % _MIGRATION_NOTES_URL\n",
            "2020-08-06 16:41:20,733 : INFO : loading wv recursively from /content/drive/My Drive/Python/word2vec.model.wv.* with mmap=None\n",
            "2020-08-06 16:41:20,735 : INFO : setting ignored attribute vectors_norm to None\n",
            "2020-08-06 16:41:20,737 : INFO : loading vocabulary recursively from /content/drive/My Drive/Python/word2vec.model.vocabulary.* with mmap=None\n",
            "2020-08-06 16:41:20,739 : INFO : loading trainables recursively from /content/drive/My Drive/Python/word2vec.model.trainables.* with mmap=None\n",
            "2020-08-06 16:41:20,740 : INFO : setting ignored attribute cum_table to None\n",
            "2020-08-06 16:41:20,742 : INFO : loaded /content/drive/My Drive/Python/word2vec.model\n"
          ],
          "name": "stderr"
        }
      ]
    },
    {
      "cell_type": "code",
      "metadata": {
        "id": "N3nXDk3SJ33S",
        "colab_type": "code",
        "colab": {
          "base_uri": "https://localhost:8080/",
          "height": 258
        },
        "outputId": "adb11f69-a2c3-4d07-e1c3-6cb6731b0e1f"
      },
      "source": [
        "loaded_model.wv.most_similar('role')"
      ],
      "execution_count": 147,
      "outputs": [
        {
          "output_type": "stream",
          "text": [
            "2020-08-06 16:41:20,787 : INFO : precomputing L2-norms of word weight vectors\n",
            "/usr/local/lib/python3.6/dist-packages/gensim/matutils.py:737: FutureWarning: Conversion of the second argument of issubdtype from `int` to `np.signedinteger` is deprecated. In future, it will be treated as `np.int64 == np.dtype(int).type`.\n",
            "  if np.issubdtype(vec.dtype, np.int):\n"
          ],
          "name": "stderr"
        },
        {
          "output_type": "execute_result",
          "data": {
            "text/plain": [
              "[('sellers', 0.7252811789512634),\n",
              " ('actress', 0.7105032205581665),\n",
              " ('uncredited', 0.7030029892921448),\n",
              " ('tierney', 0.6850537061691284),\n",
              " ('grant', 0.6818700432777405),\n",
              " ('choice', 0.6799255609512329),\n",
              " ('hamlet', 0.6768991947174072),\n",
              " ('colman', 0.6652531623840332),\n",
              " ('actor', 0.6622415781021118),\n",
              " ('miscast', 0.6578194499015808)]"
            ]
          },
          "metadata": {
            "tags": []
          },
          "execution_count": 147
        }
      ]
    },
    {
      "cell_type": "code",
      "metadata": {
        "id": "rjdXet4W10ni",
        "colab_type": "code",
        "colab": {
          "base_uri": "https://localhost:8080/",
          "height": 71
        },
        "outputId": "8a6685ea-e8f6-45f5-a32a-26c4905d2f25"
      },
      "source": [
        "sim_words = {words: [item[0] for item in loaded_model.wv.most_similar([words], topn=5)]\n",
        "                  for words in ['plot', 'movie','play','role','cast','story','history']}"
      ],
      "execution_count": 150,
      "outputs": [
        {
          "output_type": "stream",
          "text": [
            "/usr/local/lib/python3.6/dist-packages/gensim/matutils.py:737: FutureWarning: Conversion of the second argument of issubdtype from `int` to `np.signedinteger` is deprecated. In future, it will be treated as `np.int64 == np.dtype(int).type`.\n",
            "  if np.issubdtype(vec.dtype, np.int):\n"
          ],
          "name": "stderr"
        }
      ]
    },
    {
      "cell_type": "code",
      "metadata": {
        "id": "cZT26d5-2H77",
        "colab_type": "code",
        "colab": {
          "base_uri": "https://localhost:8080/",
          "height": 136
        },
        "outputId": "6609d837-d805-473b-f81d-c0edb71d508d"
      },
      "source": [
        "sim_words"
      ],
      "execution_count": 151,
      "outputs": [
        {
          "output_type": "execute_result",
          "data": {
            "text/plain": [
              "{'cast': ['support', 'actor', 'ensemble', 'stormare', 'persuasively'],\n",
              " 'history': ['finnish', 'beginning', 'breakthrough', 'revolution', 'wwii'],\n",
              " 'movie': ['film', 'folks', 'dunno', 'it', 'wrestlemania'],\n",
              " 'play': ['hilt', 'reprise', 'magruder', 'bowie', 'walker'],\n",
              " 'plot': ['storyline', 'dialogue', 'convolute', 'premise', 'story'],\n",
              " 'role': ['sellers', 'actress', 'uncredited', 'tierney', 'grant'],\n",
              " 'story': ['tale', 'premise', 'plot', 'retell', 'linear']}"
            ]
          },
          "metadata": {
            "tags": []
          },
          "execution_count": 151
        }
      ]
    },
    {
      "cell_type": "code",
      "metadata": {
        "id": "e-EUkDEl2ZQI",
        "colab_type": "code",
        "colab": {
          "base_uri": "https://localhost:8080/",
          "height": 54
        },
        "outputId": "4a981f1f-46b0-43a7-f2d0-01701d5e2362"
      },
      "source": [
        "loaded_model.wv.vocab.keys()"
      ],
      "execution_count": 55,
      "outputs": [
        {
          "output_type": "execute_result",
          "data": {
            "text/plain": [
              "dict_keys(['well', 'what', 'can', 'it', 'be', 'say', 'about', 'this', 'disaster', 'i', 'watch', 'because', 'air', 'on', 'cable', 'regret', 'for', 'waste', 'my', 'time', 'but', 'at', 'little', 'do', 'money', 'br', 'creature', 'the', 'cheesy', 'you', 'get', 'please', 'need', 'to', 'very', 'generous', 'not', 'anger', 'by', 'cheap', 'halloween', 'costume', 'oh', 'good', 'there', 'also', 'display', 'of', 'horrible', 'act', 'f', 'x', 'and', 'dialogue', 'confrontation', 'with', 'unbelievable', 'a', 'much', 'pathetic', 'scene', 'wrong', 'from', 'direct', 'video', 'flick', 'make', 'full', 'moon', 'pictures', 'movie', 'look', 'like', 'one', 'all', 'cost', 'only', 'thing', 'trash', 'sexy', 'woman', '-pron-', 'see', 'prince', 'in', 'matt', 'think', 'he', 'great', 'singe', 'boy', 'probably', 'his', 'performance', 'music', 'that', 's', 'why', 'win', 'oscar', 'or', 'something', 'now', 'have', 'under', 'belt', 'although', 'curse', 'way', 'film', 'just', 'sure', 'no', 'kid', 'room', 'without', 'reveal', 'plot', 'should', 'really', 'go', 'out', 'your', 'collection', 'complete', 'unless', 'else', 'possibly', 'except', 'ugly', 'sorry', 'jan', 'suffer', 'mostly', 'poor', 'edit', 'lack', 'if', 'director', 'so', 'love', 'work', 'instead', 'cut', 'down', 'pace', 'keep', 'attention', 'add', 'footage', 'shoot', 'together', 'maybe', 'two', 'cool', 'entire', 'them', 'spoiler', 'when', 'benkei', 'petrify', 'camera', 'start', 'spin', 'around', 'him', 'okay', 'we', 'move', 'will', 'stop', 'guy', 'forget', 'flood', 'mediocrity', 'last', 'duel', 'is', 'may', 'unlike', 'early', 'sword', 'handle', 'shanao', 'mask', 'could', 'find', 'stuntman', 'who', 'somewhat', 'resemble', 'asano', 'tadanobu', 'give', 'right', 'ahead', 'up', 'fight', 'extreme', 'close', 'clash', 'same', 'angle', 'learn', 'american', 'produce', 'bullet', 'train', 'ninja', 'personally', 'village', 'raid', 'tribute', 'pay', 'social', 'activist', 'previous', 'generation', 'confront', 'police', 'violent', 'demonstration', 'their', 'college', 'year', 'situation', 'where', 'innocence', 'oppress', 'authoritative', 'arm', 'branch', 'government', 'unwilling', 'understand', 'seem', 'message', 'common', 'japanese', 'medium', 'due', 'strong', 'influence', 'socialist', 'communist', 'political', 'minority', 'version', 'salary', 'man', 'other', 'recent', 'example', 'end', 'people', 'speak', 'language', 'praise', 'worthy', 'material', 'lose', 'which', 'market', 'play', 'lot', 'different', 'interpretation', 'legendary', 'encounter', 'between', 'legend', 'popular', 'folklore', 'detach', 'contemporary', 'theme', 'after', 'minute', 'over', 'visual', 'technique', 'care', 'how', 'want', 're', 'interpret', 'story', 'crazy', 'lips', 'unpleasant', 'trend', 'among', 'new', 'ignore', 'audience', 'target', 'foreign', 'festival', 'order', 'gain', 'fast', 'international', 'fame', 'sense', 'point', 'fest', 'introduce', 'world', 'kind', 'country', 'certainly', 'gojoe', 'every', 'single', '2', 'while', 'unhappily', 'always', 'hard', 'switch', 'off', 'once', 'especially', 'such', 'classic', 'use', 'call', 'lover', 'me', 'humphrey', 'bogart', 'wife', 'lauren', 'bacall', 'both', 'couple', 'actor', 'big', 'fraud', 'opinion', 'neither', 'espionage', 'nor', 'romantic', 'even', 'convince', 'mixture', 'genre', 'cause', 'tension', 'uncertain', 'whether', 'would', 'stay', 'part', 'another', 'overrate', 'many', 'during', 'kick', 'some', 'ass', 'never', 'bore', 'angelina', 'jolie', 'disappoint', 'reason', 'files', 'david', 'duchovny', 'finally', 'an', 'iranian', 'non', 'documentary', 'entertain', 'black', 'comedy', 'subversive', 'young', 'girl', 'subtly', 'system', 'its', 'football', 'funny', 'place', 'real', 'event', 'character', 'extra', 'purposely', 'choose', 'professional', 'presence', 'notion', 'root', 'heart', 'stone', 'blind', 'excellently', 'script', 'challenge', 'authority', 'almost', 'absurd', 'freshness', 'jury', 'grand', 'prize', 'berlin', 'dear', 'reader', 'near', 'perfect', 'hold', 'read', 'novel', 'though', 'fact', 'rather', 'enjoy', 'lead', 'decision', 'pursue', 'book', 'having', 'word', 'austen', 'write', 'compare', 'any', 'her', 'line', 'dialog', 'clever', 'witty', 'deliver', 'source', 'laugh', 'loud', 'british', 'verbal', 'spot', 'paltrow', 'completely', 'nail', 'role', 'matchmaker', 'credible', 'consistent', 'extremely', 'irritate', 'however', 'mean', 'tend', 'repeat', 'excessively', 'honestly', 'amuse', '\\ufeff1', 'they', 'appear', 'cinematography', 'marvelous', 'everything', 'utterly', 'gorgeous', 'doe', 'obvious', 'manner', 'prefer', 'claim', 'finish', 'again', 'brief', 'recommend', 'fan', 'romance', 'jess', 'franco', 'than', 'bite', 'geträumte', 'know', 'succubus', 'accord', 'slightly', 'exaggerate', 'weird', 'acclaim', 'mid', 'interest', 'composer', 'through', 'soundtrack', 'happy', 'few', 'discover', 'expect', 'clip', 'lion', 'cucumber', 'ost', 'overwhelm', 'phone', 'ring', 'let', 'since', 'moment', 'grip', 'then', 'stumble', 'begin', 'impress', 'remember', 'before', 'chronologically', 'come', 'three', 'late', 'kinda', 'puzzle', 'beautiful', 'stuff', 'godard', 'occupy', 'spread', 'later', 'hear', 'art', 'old', 'fashion', 'take', 'week', 'reply', 'fritz', 'lang', 'yesterday', 'janine', 'reynaud', 'actress', 'course', 'howard', 'vernon', 'regular', 'luckily', 'spoil', 'dummy', 'erotic', 'wild', 'tomorrow', 'accessible', 'help', 'possess', 'stench', 'bad', 'surprisingly', 'watchable', 'several', 'level', 'first', 'dean', 'jagger', 'relation', 'mick', 'respectable', 'support', 'garner', 'category', 'high', 'here', 'truly', 'unique', 'actually', 'head', 'hair', 'far', 'show', 'eventually', 'phenomenon', 'paul', 'newman', 'whose', 'silver', 'consider', 'shear', 'cheesiness', 'special', 'effect', 'unnamed', 'cambodian', 'wade', 'water', 'walk', 'background', 'poorly', 'project', 'behind', 'plus', 'leave', 'dry', 'horrid', 'continuity', 'mindlessly', 'abound', 'throughout', 'imagine', 'ask', 'bela', 'lugosi', 'george', 'zucco', 'star', 'grade', 'z', 'horror', 'class', 'fun', 'short', 'worth', 'apprentice', 'strike', 'refresh', 'format', 'similar', 'reality', 'core', 'still', 'donald', 'trump', 'wonderful', 'host', 'main', 'judge', 'cast', 'coup', 'intelligent', 'pick', 'contestant', 'appreciate', 'york', 'city', 'mark', 'burnett', 'crap', 'excellent', 'nyc', 'unto', 'itself', 'jazz', 'tune', 'easily', 'alway', 'top', 'amazing', 'race', 'amaze', 'originality', 'wear', 'case', 'broadcaster', 'bang', 'job', 'present', 'season', 'row', 'next', 'concept', 'conclusion', 'continuously', 'thereafter', 'charm', 'idea', 'dragon', 'earth', 'struggle', 'someone', 'evil', 'einon', 'stab', 'bowen', 'dennis', 'quaid', 'dark', 'lord', 'half', 'grow', 'thewlis', 'selfish', 'king', 'meanwhile', 'friend', 'draco', 'voice', 'sir', 'sean', 'connery', 'reward', 'feel', 'pain', 'hurt', 'kill', 'pete', 'gilbert', 'jason', 'isaacs', 'felton', 'julie', 'christie', 'queen', 'john', 'gielgud', 'arthur', 'nominate', 'best', 'effects', 'cccc', 'bollywood', 'trailer', 'nice', 'family', 'salman', 'khan', 'ever', 'too', 'keen', 'rani', 'preity', 'huge', 'hit', 'raj', 'priya', 'meet', 'fall', 'marry', 'switzerland', 'honeymoon', 'back', 'pregnant', 'joy', 'dada', 'amrish', 'puri', 'cricket', 'day', 'accident', 'miscarriage', 'doctor', 'chopra', 'prem', 'tell', 'she', 'long', 'anymore', 'quiet', 'decide', 'surrogacy', 'baby', 'hand', 'name', 'madhubala', 'dancer', 'prostitute', 'bribe', 'agree', 'change', 'completley', 'become', 'spend', 'night', 'church', 'alone', 'confirm', 'happen', 'proper', 'ruin', 'song', 'favourite', 'hai', 'yeh', 'colourful', 'deserve', 'particularly', 'us', 'break', 'alchemy', 'barbra', 'streisand', 'kris', 'kristofferson', 'surprise', 'golden', 'globe', 'award', 'grammy', 'anyone', 'often', 'criticize', 'dare', 'involve', 'surely', 'artistry', 'touch', 'rich', 'color', 'setting', 'set', 'china', 'log', 'rate', 'richard', 'dreyfus', 'raoul', 'julia', 'greatly', 'remind', 'untimely', 'demise', 'opportunity', 'sit', 'intrigue', 'terror', 'fear', 'tv', 'embarrass', 'melbourne', 'diabolical', 'amateurish', 'makeup', 'as', 'more', 'stupid', 'stun', 'put', 'type', 'utter', 'rubbish', 'avoid', 'telly', 'savalas', 'frank', 'cooper', 'mexico', 'serve', 'father', 'figure', 'immigrant', 'danny', 'de', 'la', 'paz', 'benny', 'romero', 'impend', 'wed', 'tough', 'boss', 'eddie', 'albert', 'commander', 'smuggler', 'michael', 'chico', 'possibility', 'repulsive', 'ought', 'steer', 'clear', 'stomach', 'cow', 'slaughter', 'cecilia', 'steal', 'border', 'tony', 'richardson', 'significance', 'french', 'title', 'des', 'literally', 'birth', 'obscure', 'perhaps', 'english', 'teenage', 'marie', 'anne', 'floriane', 'member', 'swim', 'team', 'base', 'paris', 'suburb', 'drama', 'development', 'sexual', 'feature', 'unusual', 'concentrate', 'exclusively', 'relationship', 'themselves', 'nothing', 'parent', 'teacher', 'adult', 'appearance', 'portray', 'shy', 'retire', 'slim', 'petite', 'plain', 'jane', 'glamorous', 'blonde', 'handsome', 'male', 'swimmer', 'francois', 'describe', 'smite', 'return', 'affection', 'admirer', 'indeed', 'crush', 'attractive', 'chart', 'friendship', 'develop', 'simply', 'convenient', 'excuse', 'presumably', 'object', 'date', 'objection', 'female', 'realise', 'despite', 'image', 'centre', 'feeling', 'reverse', 'conventional', 'stereotype', 'sexuality', 'chunky', 'typically', 'yet', 'heterosexual', 'whereas', 'conventionally', 'feminine', 'lesbian', 'age', 'enough', 'controversial', 'topic', 'lesbianism', 'deal', 'subject', 'sensitive', 'pauline', 'adele', 'louise', 'complex', 'capable', 'numb', 'sex', 'genuinely', 'sluttish', 'behaviour', 'device', 'hide', 'outside', 'herself', 'celine', 'basis', 'must', 'regard', 'highly', 'promise', 'newcomer', 'hal', 'hartley', 'create', 'filmic', 'syriana', 'retain', 'signature', 'idiosyncratic', 'style', 'decade', 'approach', 'caution', 'brilliant', 'production', 'ninety', 'critic', 'colorful', 'offer', 'observation', 'life', 'region', 'island', 'offbeat', 'initial', 'stem', 'description', 'pleasant', 'manage', 'mesh', 'establish', 'focus', 'original', 'trademark', 'along', 'singular', 'cinematographic', 'appropriate', 'current', 'state', 'war', 'foster', 'element', 'side', 'bring', 'skill', 'mention', 'breath', 'into', 'own', 'fine', 'vision', 'fans', 'parker', 'posey', 'bloom', 'ripe', 'plenty', 'ok', 'pull', 'sitter', 'moses', 'pretty', 'weak', 'sort', 'silly', 'overall', 'wonder', 'school', 'myself', 'yes', 'joke', 'stand', 'crowd', 'totally', 'humor', 'stick', 'kentucky', 'fried', 'amazon', 'women', 'tunnel', 'groove', 'tube', 'today', 'view', 'super', 'oneself', 'truth', 'swig', 'flight', 'conspiratorial', 'theory', 'child', 'turn', 'belief', 'deny', 'logic', 'healthy', 'send', 'space', 'shuttle', 'orbit', 'soviet', 'program', 'mission', 'remain', 'provide', 'cia', 'clause', 'secret', 'suck', 'fit', 'quite', 'coherent', 'rare', 'total', 'flop', 'indicate', 'redeem', 'mangle', 'potential', 'bill', 'jennifer', 'hewitt', 'horde', 'submit', 'grace', 'catch', 'glimpse', 'form', 'clothe', 'eye', 'candy', 'nevertheless', 'whole', 'tempt', 'positive', 'contrary', 'relevant', 'dougray', 'scott', 'friendly', 'refreshing', 'thank', 'softcore', 'hinge', 'sister', 'husband', 'heck', 'wait', 'period', 'low', 'budget', 'comedic', 'tour', 'force', 'ton', 'memorable', 'quote', 'instance', 'soon', 'law', 'earn', 'anywhere', 'thirty', 'eleven', 'thousand', 'dollar', 'delivery', 'sell', 'eugene', 'levy', 'hilarious', 'sleazy', 'filmmaker', 'fu', 'rediscover', 'gem', 'trashed', 'outrage', 'pair', 'moonshine', 'guest', 'duke', 'each', 'riotous', 'exposure', 'jerry', 'obnoxious', 'cash', 'springer', 'hype', 'talk', 'uncensored', 'producer', 'gong', 'central', 'motion', 'picture', 'turkey', 'channel', 'favorite', 'animate', 'animation', 'appeal', 'charlie', 'german', 'shepard', 'unlikable', 'kiddie', 'frighten', 'treat', 'don', 'bluth', 'buff', 'tissue', 'handy', 'fail', 'cry', 'arguably', 'disney', 'watership', 'neighbor', 'heavenly', 'masterpiece', 'notorious', 'quarter', 'century', 'ban', 'obscurity', 'asset', 'hey', 'los', 'angeles', 'recently', 'available', 'home', 'veil', 'slowly', 'lift', 'offend', 'masse', 'likely', 'bear', 'arouse', 'passion', 'gratuitous', 'protracted', 'xxx', 'horse', 'follow', 'nearly', 'hour', 'dull', 'arrange', 'marriage', 'melodrama', 'nudity', 'nonstop', 'sequence', 'masturbation', 'flashback', 'allege', 'beauty', 'beast', 'naked', 'run', 'mansion', 'nobody', 'supposedly', 'protective', 'aunt', 'putt', 'guess', 'forward', 'thru', 'banality', 'effort', 'beyond', 'substantive', 'moral', 'symbolism', 'carnality', 'doubt', 'unfortunately', 'notoriety', 'forbid', 'tame', 'marlon', 'brando', 'hot', 'streetcar', 'named', 'desire', 'waterfront', 'sinatra', 'invent', 'himself', 'screen', 'portrayal', 'nathan', 'detroit', 'choice', 'player', 'terrific', 'sing', 'sky', 'masterson', 'addition', 'jean', 'simmons', 'vivian', 'stage', 'girlfriend', 'superlative', 'stubby', 'nicely', 'respect', 'eric', 'clapton', 'rockin', 'boat', 'leonard', 'thomas', 'dick', 'van', 'dyke', 'harsh', 'mannered', 'rough', 'excellence', 'musical', 'soooooo', 'lady', 'brother', 'anime', 'series', 'interesting', 'excite', 'beautifully', 'render', 'execute', 'explain', 'away', 'dangle', 'proverbial', 'carrot', 'viewer', 'entice', 'succeed', 'episode', 'disappointment', 'sci', 'fi', 'thriller', 'giant', 'robot', 'adventure', 'backdrop', 'psycho', 'babble', 'quasi', 'religious', 'preachy', 'exploitation', 'negative', 'slogan', 'emotion', 'alternate', 'ending', 'grossly', 'insult', 'temperature', 'iq', 'liberal', 'feminist', 'etc', 'seal', 'draft', 'combat', 'accept', 'physically', 'regardless', 'men', 'breast', 'fee', 'san', 'physical', 'strength', 'par', 'lastly', 'bloody', 'hoot', 'hell', 'upset', 'warm', 'lousy', 'anticipation', 'frankly', 'idiotic', 'honesty', 'exactly', 'sympathy', 'rude', 'clean', 'commit', 'hollywood', 'throw', 'token', 'diane', 'keaton', 'somewhere', 'fiction', 'macabre', 'stephen', 'suggest', 'scary', 'door', 'burst', 'open', 'bug', 'ten', 'foot', 'tall', 'lurch', 'scare', 'hundred', 'lurk', 'unseen', 'unknown', 'tightly', 'haunting', 'bont', 'metaphorically', 'yell', 'everybody', 'diminish', 'immediately', 'jump', 'cgi', 'pot', 'pan', 'madly', 'scream', 'everyone', 'filmmakers', 'apparently', 'believe', 'compensate', 'shortcoming', 'endeavor', 'impressive', 'insistent', 'obtrusive', 'distract', 'wind', 'stare', 'admiration', 'annoyance', 'immerse', 'nadir', 'sheer', 'stupidity', 'statue', 'gush', 'mouth', 'try', 'drown', 'liam', 'neeson', 'marrow', 'fountain', 'clearly', 'thrash', 'flail', 'glug', 'ho', 'hum', 'annoy', 'jackson', 'dumbed', 'ridiculous', 'screenplay', 'committee', 'stoner', 'uh', 'ceil', 'creepy', 'face', 'spiky', 'trap', 'sole', 'save', 'awful', 'owen', 'wilson', 'luke', 'sanderson', 'floor', 'magic', 'carpet', 'ride', 'o', 'death', 'construct', 'witless', 'grotesquely', 'heavy', 'fill', 'clunky', 'pointless', 'vacuous', 'textbook', 'fräulein', 'doktor', 'industry', 'western', 'europe', 'decline', 'past', 'studio', 'rope', 'italy', 'france', 'england', 'void', 'james', 'bond', 'usa', 'release', 'theater', 'chain', 'cent', 'afternoon', 'admission', 'price', 'clint', 'eastwood', 'spaghetti', 'dollars', 'distributor', 'italian', 'crime', 'usually', 'house', 'exception', 'sicilian', 'clan', 'european', 'co', 'zhivago', 'talent', 'intelligence', 'officer', 'spy', 'either', 'wall', 'game', 'opposite', 'fire', 'squad', 'chance', 'cynical', 'attitude', 'across', 'national', 'vietnam', 'era', 'steamy', 'suzy', 'damage', 'performer', 'process', 'shed', 'overseas', 'distribution', 'business', 'fox', 'columbia', 'distribute', 'caller', 'mgm', 'india', 'value', 'land', 'underneath', 'unload', 'loot', 'raise', 'build', 'casino', 'las', 'vegas', 'gift', 'shop', 'memorabile', 'giveaway', 'auction', 'prop', 'gulf', 'charles', 'company', 'board', 'directors', 'library', 'universal', 'recall', 'chief', 'robert', 'evans', 'bury', 'local', 'station', 'typecast', 'bumble', 'bbc', 'detective', 'brown', 'titanic', 'standard', 'reserve', 'usual', 'memory', 'accurate', 'cavalry', 'gas', 'cover', 'battle', 'alberto', 'helm', 'spirit', 'degrade', 'adaptation', 'tale', 'mike', 'myers', 'ashamed', 'rip', 'jim', 'carrey', 'beat', 'able', 'cake', 'recover', 'major', 'surgery', 'flash', 'imagination', 'escapism', 'sadly', 'our', 'society', 'discount', 'small', 'attempt', 'easy', 'shakespeare', 'achievement', 'sake', 'cop', 'affinity', 'lapd', 'dreams', 'haunt', 'unable', 'crisis', 'respond', 'farnsworth', 'predictable', 'triumph', 'harvard', 'william', 'haines', 'patent', 'brash', 'smart', 'aleck', 'serious', 'until', 'reject', 'wise', 'hero', 'formula', 'comic', 'annie', 'rooney', 'mary', 'pickford', 'marion', 'davies', 'swing', 'tragedy', 'facial', 'expression', 'marines', 'lon', 'chaney', 'west', 'joan', 'crawford', 'brian', 'jack', 'sickly', 'roommate', 'ralph', 'bushman', 'rival', 'edward', 'connelly', 'alden', 'torrence', 'guinn', 'williams', 'grady', 'sutton', 'note', 'wayne', 'debut', 'yale', 'five', 'box', 'office', 'shame', 'largely', 'talented', 'teen', 'experience', 'live', 'magnificent', 'reflection', 'upon', 'detail', 'enhance', 'triangle', 'dramatic', 'develope', 'strongly', 'occur', 'rest', 'sam', 'waterston', 'versatile', 'district', 'attorney', 'strict', 'tess', 'harper', 'london', 'reese', 'witherspoon', 'fourteen', 'road', 'academy', 'compel', 'phony', 'summary', 'overdo', 'soap', 'opus', 'comment', 'middle', 'earthquake', 'gasp', 'dante', 'peak', 'butcher', 'slap', 'dumb', 'large', 'wood', 'mountain', 'esque', 'exist', 'downtown', 'ala', 'advise', 'wanna', 'nash', 'spate', 'convert', 'emma', 'possible', 'impostor', 'stubborn', 'general', 'atmosphere', 'convey', 'exceedingly', 'sweet', 'merry', 'nature', 'christmas', 'unusually', 'shaft', 'light', 'harriet', 'knightley', 'practical', 'contrast', 'affectation', 'outburst', 'against', 'churchill', 'bernard', 'hepton', 'absurdity', 'samantha', 'morton', 'protégé', 'soft', 'firm', 'eventual', 'coupling', 'uniquely', 'delight', 'beating', 'tag', 'expose', 'four', 'culkin', 'replace', 'alex', 'bland', 'entirely', 'fault', 'vocabulary', 'prank', 'copy', 'crook', 'chicken', 'rainy', 'premier', 'sundance', 'hope', 'towelhead', 'countless', 'dozen', 'problem', 'obviously', 'originate', 'concern', 'cultural', 'organic', 'human', 'derive', 'alicia', 'famous', 'edith', 'mind', 'spite', 'adapt', 'author', 'devastate', 'stale', 'simplistic', 'white', 'villain', 'condescend', 'ironic', 'treatment', 'culture', 'fresh', 'review', 'online', 'shallow', 'manipulative', 'amateur', 'reviewer', 'site', 'frequently', 'racial', 'gender', 'issue', 'deeply', 'provoke', 'profound', 'insight', 'person', 'rend', 'safely', 'pass', 'cartoon', 'bugs', 'bunny', 'marvin', 'martian', 'dog', 'include', 'looney', 'tunes', 'reasonably', 'prepare', 'capture', 'mars', 'trusty', 'track', 'rabbit', 'greet', 'trick', 'kolchak', 'quickly', 'suspenseful', 'abc', 'friday', 'sophomore', 'nbc', 'barney', 'miller', 'swat', 'january', 'darren', 'mcgavin', 'beg', 'contract', 'matheson', 'jackie', 'gleason', 'archie', 'bunker', 'ins', 'manual', 'typewriter', 'quaint', 'ancient', 'lucky', 'simon', 'oakland', 'reprise', 'kay', 'pollack', 'share', 'philosophy', 'bunch', 'control', 'soul', 'thought', 'hardly', 'important', 'l', 't', 'e', 'n', 'guideline', 'contain', 'listen', 'parachute', 'straight', 'unfunny', 'downright', 'anything', 'remotely', 'trace', 'wit', 'incomprehensible', 'entertainment', 'films', 'incredible', 'saturday', 'premiere', 'comparison', 'inevitable', 'snl', 'skit', 'shapiro', 'truthfully', 'sleep', 'induce', 'excursion', 'ken', 'swear', 'god', 'unreal', 'infantile', 'sneak', 'dad', 'porno', 'mag', 'street', 'dance', 'definitely', 'desperately', 'cleverness', 'piece', 'unfathomable', 'actual', 'bet', 'genius', 'garbage', 'mental', 'illness', 'graphically', 'depict', 'accurately', 'mentally', 'ill', 'psychiatrist', 'corrupt', 'sick', 'intense', 'depress', 'son', 'madsen', 'folk', 'porn', 'wooden', 'crappy', 'hate', 'question', 'doggy', 'doo', 'virginia', 'nude', 'stinker', 'wacky', 'sponsor', 'crapola', 'distinct', 'misfortune', 'morning', 'incoherent', 'drive', 'emptiness', 'chronicles', 'vanity', 'greendale', 'penny', 'front', 'neil', 'contribute', 'buffalo', 'springfield', 'recording', 'composition', 'rust', 'harvest', 'mirror', 'ball', 'pen', 'precious', 'cringeworthy', 'merit', 'unimpressive', 'polemic', 'buy', 'bank', 'account', 'dedicate', 'ron', 'lucas', 'trait', 'rampage', 'useful', 'willow', 'reliant', 'superficial', 'semi', 'peter', 'weir', 'knockoff', 'quality', 'adage', 'conquer', 'lynch', 'already', 'subtext', 'goof', 'commentary', 'analysis', 'cinematic', 'dud', 'preview', 'glad', 'disgust', 'fart', 'pride', 'action', 'shootout', 'list', 'dave', 'foley', 'penis', 'poop', 'dude', 'pussy', 'gary', 'coleman', 'bush', 'idiot', 'minor', 'uwe', 'boll', 'most', 'cat', 'lots', 'cameo', 'maker', 'postal', 'uhm', 'adaption', 'kudos', 'mr', 'cassavetes', 'bold', 'auteur', 'confine', 'realism', 'cinema', 'applaud', 'fascinate', 'insane', 'somehow', 'craft', 'lengthy', 'ad', 'libbed', 'rant', 'draw', 'motor', 'tactic', 'acceptable', 'devastatingly', 'rowlands', 'artificial', 'disturb', 'gena', 'uninhibited', 'drink', 'confuse', 'remainder', 'tap', 'sustain', 'seamless', 'imdb', 'prove', 'brainwash', 'yourself', 'pretend', 'woody', 'allen', 'accuse', 'psyche', 'endlessly', 'self', 'indulgent', 'demonstrate', 'structure', 'dose', 'essential', 'employ', 'discipline', 'sharp', 'realistic', 'devotee', 'student', 'worship', 'anti', 'establishment', 'deity', 'dumbing', 'string', 'argument', 'reach', 'indies', 'churn', 'clichéd', 'nowadays', 'eat', 'red', 'herring', 'cheri', 'christian', 'effective', 'mother', 'unsympathetic', 'traumatic', 'discomforting', 'unintentional', 'thumb', 'satisfy', 'cheapen', 'sound', 'credit', 'wisely', 'gandhi', 'chapter', 'harilal', 'mislead', 'akshaye', 'khanna', 'shefali', 'justice', 'respective', 'leap', 'internal', 'sometimes', 'difficult', 'freedom', 'crow', 'isolate', 'beal', 'seven', 'mysterious', 'warning', 'caretaker', 'tibetan', 'dead', 'passage', 'ghoul', 'tacky', 'roll', 'equal', 'midnight', 'eternity', 'decent', 'harrison', 'tensionless', 'direction', 'eerie', 'moody', 'atmospheric', 'laziness', 'within', 'bob', 'clark', 'things', 'inferior', 'drab', 'unfulfilled', 'foundation', 'limit', 'matter', 'dreary', 'performances', 'recognizable', 'b', 'mainly', 'rigid', 'carradine', 'ireland', 'faith', 'domergue', 'wash', 'demand', 'macaulay', 'ham', 'slow', 'grind', 'premise', 'cross', 'zombie', 'engage', 'occult', 'supernatural', 'edge', 'graveyard', 'prevail', 'rot', 'baffle', 'inspire', 'deliciously', 'downbeat', 'constantly', 'drag', 'existent', 'generic', 'score', 'flounder', 'shuddery', 'gothic', 'cue', 'blandly', 'frame', 'wrap', 'awhile', 'reflect', 'amitabh', 'die', 'apology', 'villainy', 'undercut', 'aryan', 'honest', 'unsung', 'heroine', 'true', 'veteran', 'thespian', 'contribution', 'conviction', 'sail', 'habit', 'settle', 'average', 'search', 'miss', 'mystify', 'kasdan', 'promote', 'certain', 'absolutely', 'thread', 'arc', 'absolute', 'masterwork', 'marvel', 'perfection', 'weave', 'sap', 'meter', 'casual', 'mesmerize', 'fuzzy', 'affect', 'significantly', 'page', 'flaw', 'african', 'perception', 'recognize', 'shake', 'admire', 'parallel', 'shift', 'reassess', 'angst', 'eh', 'final', 'result', 'hole', 'conceive', 'nightmare', 'scenario', 'loosely', 'knit', 'gap', 'loose', 'numerous', 'kidnap', 'victim', 'bizarre', 'cathartic', 'therapy', 'shelter', 'runaway', 'eight', 'roof', 'solve', 'immediate', 'enforcement', 'segment', 'oprah', 'conclude', 'pure', 'suppose', 'condemn', 'join', 'spoilers', 'mistake', 'perfectly', 'bellows', 'gradually', 'disillusion', 'unsatisfied', 'gypped', 'difference', 'rarely', 'letdown', 'resolution', 'vary', 'lindsay', 'disease', 'grave', 'contemplate', 'suicide', 'sudden', 'arrest', 'hello', 'cheat', 'admit', 'taste', 'unravel', 'myron', 'breckinridge', 'rex', 'reed', 'myra', 'raquel', 'welch', 'destroy', 'masculinity', 'proceed', 'teach', 'history', 'lecherous', 'huston', 'hunky', 'roger', 'herren', 'farrah', 'fawcett', 'gore', 'vidal', 'unfilmable', 'naturally', 'hire', 'decidedly', 'questionable', 'andy', 'backus', 'mae', 'lower', 'r', 'tasteless', 'sodomizes', 'rusty', 'wildly', 'sad', 'chew', 'scenery', 'nauseate', 'bless', 'crack', 'whatever', 'disbelief', 'virgin', 'allow', 'apply', 'wish', 'inexplicable', 'excess', 'violence', 'intentional', 'characteristic', 'postmodern', 'brilliance', 'quick', 'seclude', 'cabin', 'orgy', 'progress', 'topless', 'wrestle', 'diaper', 'latecomer', 'unwittingly', 'monster', 'muddy', 'precede', 'slay', 'participant', 'count', 'oral', 'receive', 'seed', 'consequently', 'passionate', 'masturbate', 'sever', 'gut', 'imply', 'got', 'subtitle', 'populate', 'vcr', 'equivalent', 'shock', 'beaver', 'trilogy', 'session', 'trent', 'harris', 'ny', 'website', 'has', 'sincerely', 'web', 'incredibly', 'boot', 'cameraman', 'fictional', 'section', 'penn', 'crispin', 'glover', 'curiosity', 'item', 'making', 'gritty', 'update', 'nervous', 'laughter', 'daughter', 'rating', 'fair', 'vote', 'paper', 'mail', 'tool', 'free', 'advertisement', 'gordon', 'greed', 'douglas', 'persona', 'morph', 'service', 'agent', 'garrison', 'solid', 'security', 'ss', 'behalf', 'president', 'likewise', 'eva', 'longoria', 'jodie', 'suspend', 'fbi', 'escapist', 'surface', 'above', 'post', 'beneath', 'veneer', 'stunt', 'straightforward', 'secondary', 'margaret', 'hamilton', 'aka', 'wicked', 'witch', 'everett', 'horton', 'obsessive', 'compulsive', 'sig', 'marx', 'brothers', 'nemesis', 'casablanca', 'opera', 'intentioned', 'gang', 'apart', 'poke', 'convention', 'indication', 'wry', 'stock', 'interruption', 'context', 'successful', 'lens', 'assume', 'hysterical', 'shot', 'unnecessary', 'inside', 'dramatise', 'melodramatic', 'relief', 'continue', 'unnoticed', 'writer', 'valiant', 'stanton', 'hitchcock', 'television', 'ultimately', 'inject', 'quit', 'struggling', 'artist', 'meg', 'tilly', 'suddenly', 'wealthy', 'enigmatic', 'ellen', 'burstyn', 'mural', 'paint', 'unused', 'ballroom', 'gather', 'party', 'artistic', 'dream', 'mysteriously', 'function', 'decease', 'resemblance', 'superb', 'lend', 'yarn', 'scrutiny', 'match', 'emotional', 'intensity', 'teeter', 'camp', 'dreamy', 'waif', 'routine', 'charge', 'betrayal', 'southern', 'epic', 'hollywoods', 'restate', 'cary', 'grant', 'victor', 'mclaglen', 'was', 'fairbanks', 'jaffe', 'climb', 'laboriously', 'pinnacle', 'temple', 'blow', 'warn', 'enthrall', 'underrate', 'guru', 'manchu', 'caricature', 'articulate', 'historically', 'inform', 'defeat', 'army', 'alexander', 'mystical', 'nationalist', 'indian', 'gunga', 'din', 'nazi', 'tremendous', 'wow', 'g', 'spoof', 'shred', 'basically', 'goofy', 'rubber', 'suit', 'closet', 'aftermath', 'newspaper', 'military', 'aim', 'besides', 'shuffle', 'roar', 'occasionally', 'pop', 'shriek', 'alien', 'scientist', 'attract', 'carry', 'wimpy', 'insist', 'senseless', 'atkins', 'certifiably', 'ultra', 'chronicle', 'harry', 'russo', 'nut', 'rubberneck', 'doll', 'bitch', 'massive', 'amount', 'drug', 'rape', 'repetitive', 'lean', 'toward', 'tom', 'green', 'laurie', 'fully', 'jasmin', 'tit', 'repeatedly', 'ago', 'rivet', 'knowledgeable', 'astound', 'purchase', 'dvd', 'whenever', 'triangular', 'tea', 'plantation', 'ceylon', 'powerful', 'planter', 'finch', 'tender', 'elizabeth', 'taylor', 'jungle', 'bride', 'endanger', 'elegant', 'dazzle', 'strange', 'echo', 'determination', 'ghost', 'temper', 'obsess', 'dangerous', 'fury', 'animal', 'confusion', 'boredom', 'pretentious', 'foreman', 'dana', 'andrews', 'yorkshire', 'brood', 'master', 'innocent', 'hunt', 'menace', 'wide', 'tropical', 'bungalow', 'exotic', 'rage', 'stampede', 'bull', 'elephant', 'exquisite', 'liz', 'creative', 'energy', 'willful', 'debutante', 'rebel', 'tongue', 'drivel', 'stacey', 'dorn', 'payment', 'holiday', 'highlight', 'whilst', 'obligatory', 'min', 'disappear', 'nicole', 'clock', 'bar', 'second', 'joe', 'public', 'cotton', 'coffee', 'cup', 'planet', 'busy', 'phillips', 'erika', 'christensen', 'nomination', 'mona', 'lisa', 'smile', 'cute', 'grandson', 'ice', 'warner', 'cuss', 'bridge', 'chinese', 'watcher', 'loyalty', 'institution', 'amazingly', 'gentle', 'mildly', 'humorous', 'retrospect', 'threaten', 'status', 'quo', 'soprano', 'unfold', 'array', 'gambler', 'brilliantly', 'patrick', 'revolve', 'round', 'mob', 'gandolfini', 'balance', 'afraid', 'imagery', 'believable', 'paulie', 'steve', 'nephew', 'christopher', 'imperioli', 'promotion', 'carmela', 'edie', 'falco', 'uncle', 'junior', 'dominic', 'represent', 'chase', 'modern', 'caliber', 'wire', 'dexter', 'sopranos', 'godfather', 'pulp', 'americana', 'resist', 'pleasure', 'frost', 'delectable', 'rag', 'nit', 'compact', 'chris', 'conflict', 'bottom', 'successfully', 'simple', 'refuse', 'lie', 'limitation', 'commentator', 'mystery', 'science', 'automatically', 'k', 'check', 'filmmaking', 'mood', 'asleep', 'screaming', 'skull', 'thus', 'photography', 'logical', 'progression', 'nonsense', 'believability', 'personality', 'badly', 'curious', 'danish', 'slam', 'gold', 'storyline', 'knock', 'advance', 'starring', 'morgan', 'freeman', 'anniston', 'skeptical', 'conceptual', 'sacred', 'sacrilegious', 'extent', 'power', 'confused', 'bruce', 'nolan', 'reporter', 'luck', 'unsuccessful', 'bat', 'fairly', 'shaky', 'anchorman', 'evan', 'baxter', 'comical', 'complain', 'gripe', 'tire', 'heh', 'electrician', 'janitor', 'holy', 'jesus', 'christ', 'mess', 'enter', 'flagrant', 'abuse', 'personal', 'lesson', 'pray', 'theology', 'statement', 'popcorn', 'mine', 'feud', 'strive', 'nineteenth', 'heavily', 'fictionalize', 'brooklyn', 'spanish', 'walsh', 'recreate', 'saloon', 'singer', 'pert', 'slick', 'brodie', 'beery', 'hearted', 'connors', 'fay', 'wray', 'maria', 'bello', 'sugar', 'coat', 'coyote', 'mummy', 'achieve', 'independent', 'elevate', 'combine', 'overlook', 'snob', 'study', 'conduct', 'center', 'empathy', 'connie', 'molly', 'hagan', 'resolve', 'notice', 'relegate', 'earnest', 'angel', 'roberta', 'rent', 'am', 'yellow', 'store', 'controversy', 'surround', 'seize', 'custom', 'therefore', 'swedish', 'lena', 'particular', 'united', 'states', 'politician', 'ordinary', 'denizen', 'politic', 'classmate', 'pornographic', 'cheaply', 'countryman', 'staple', 'ingmar', 'bergman', 'answer', 'ford', 'commend', 'purpose', 'america', 'meat', 'potato', 'pun', 'intend', 'zodiac', 'killer', 'worst', 'hess', 'left', 'seventy', 'stiff', 'competition', 'press', 'awkward', 'screech', 'painful', 'halt', 'attach', 'boom', 'computer', 'autopsy', 'aircraft', 'carrier', 'takeoff', 'visually', 'screw', 'interject', 'cannibal', 'killing', 'navy', 'bloodthirsty', 'maniac', 'gate', 'troma', 'dirty', 'somebody', 'huh', 'dsm', 'iv', 'psychiatric', 'disorder', 'congressional', 'congressman', 'yeah', 'eighty', 'haircut', 'subplot', 'sign', 'puerto', 'rican', 'clueless', 'rico', 'descendant', 'contradict', 'genuine', 'junk', 'rosie', 'perez', 'ricans', 'made', 'jules', 'naudet', 'narrate', 'niro', 'firefighter', 'hanlon', 'heartbreaking', 'shine', 'naive', 'knowing', 'expand', 'everyday', 'compose', 'these', 'brave', 'increase', 'brad', 'dourif', 'marginally', 'ludicrous', 'laughable', 'fx', 'bother', 'canal', 'enjoyable', 'bamboo', 'fingernail', 'detmers', 'hungry', 'prowl', 'toy', 'prey', 'lash', 'lust', 'crash', 'terrorist', 'fiancé', 'wardrobe', 'flower', 'rooftop', 'greek', 'recitation', 'indulge', 'unrestrained', 'fantastic', 'apartment', 'ease', 'restrain', 'menu', 'affirm', 'magical', 'impossible', 'alan', 'arkin', 'multi', 'rose', 'immortal', 'beloved', 'glenne', 'accent', 'slasher', 'unbelievably', 'formulaic', 'valentine', 'distinguish', 'summer', 'urban', 'sequel', 'psychotic', 'stalk', 'overly', 'elaborate', 'motive', 'unmask', 'murder', 'anyway', 'eg', 'fish', 'partner', 'alive', 'suspect', 'implausible', 'escape', 'letter', 'mini', 'typical', 'slash', 'goal', 'fulfill', 'survive', 'bloodshed', 'demon', 'anybody', 'frechette', 'radical', 'leftist', 'campus', 'riot', 'flee', 'desert', 'plane', 'airport', 'fly', 'car', 'daria', 'step', 'circle', 'swoop', 'duck', 'acquaint', 'strangely', 'aerial', 'soulful', 'conversation', 'sand', 'evade', 'realize', 'tryst', 'poignant', 'eraserhead', 'ramble', 'vague', 'complicate', 'meaning', 'reckless', 'zabriski', 'rob', 'prison', 'sentence', 'lb', 'weight', 'splendid', 'debris', 'float', 'explosion', 'stroke', 'rider', 'resonate', 'counterculture', 'avant', 'guard', 'showcase', 'upheaval', 'youth', 'rebellion', 'drop', 'corner', 'bright', 'spark', 'winner', 'australian', 'oppose', 'royal', 'flat', 'wang', 'priest', 'latter', 'various', 'catalogue', 'industrial', 'equipment', 'address', 'plumb', 'alice', 'miranda', 'otto', 'seriously', 'divide', 'writing', 'absent', 'adulthood', 'logically', 'alongside', 'chilean', 'lopez', 'del', 'hoyo', 'letters', 'heather', 'graham', 'pile', 'metaphor', 'blatant', 'cohesive', 'quirky', 'peripheral', 'trouble', 'australia', 'immigration', 'policy', 'rack', 'unlikely', 'odd', 'hackneyed', 'gun', 'duty', 'dimensional', 'shatter', 'magnificence', 'sheryl', 'cd', 'reference', 'arts', 'ricardo', 'basic', 'novice', 'introduction', 'protagonist', 'antagonist', 'climax', 'valid', 'commercial', 'academic', 'deconstruct', 'term', 'tim', 'jeunet', '3', 'parody', 'justify', 'disrespect', 'define', 'childish', 'vengeance', 'portuguese', 'connection', 'exercise', 'carefully', 'plan', 'diversity', 'location', 'enrich', 'refer', 'bmw', 'severely', 'condition', 'product', 'placement', 'stylish', 'poppins', 'angela', 'delightful', 'lansbury', 'dotty', 'tomlinson', 'chop', 'roddy', 'gal', 'lovely', 'forsythe', 'briny', 'sea', 'believing', 'stretch', 'cliché', 'invader', 'attack', 'march', 'britain', 'pixar', 'grotesque', 'aspiration', 'spectrum', 'critical', 'flex', 'campy', 'identically', 'serial', 'speed', 'asian', 'travel', 'traditional', 'spell', 'webster', 'alternative', 'cashier', 'wave', 'bye', 'foolishly', 'silence', 'enthusiastically', 'surf', 'sunday', 'grab', 'hook', 'oops', 'domestic', 'month', 'prior', 'wholly', 'lock', 'bulk', 'endure', 'icon', 'sophisticate', 'grainy', 'vast', 'tech', 'rig', 'mute', 'unease', 'ugliness', 'permeate', 'undermine', 'devil', 'unnerve', 'route', 'growl', 'slaver', 'overtly', 'hostile', 'unsophisticated', 'chill', 'hyper', 'crystal', 'optical', 'printer', 'digital', 'confection', 'satisfyingly', 'inhabit', 'yvette', 'unspectacular', 'crenna', 'merely', 'succumb', 'paranoid', 'schizophrenia', 'explanation', 'gimmick', 'length', 'vehicle', 'glow', 'occasional', 'stereotypical', 'derogatory', 'eastern', 'stitch', 'hilary', 'duff', 'chick', 'crisp', 'yonica', 'britney', 'spears', 'mannerism', 'grasp', 'cusack', 'slapstick', 'humour', 'chuckle', 'mohr', 'fifties', 'expedition', 'patter', 'nora', 'hayden', 'resident', 'kruschen', 'sight', 'les', 'sport', 'billy', 'goat', 'beard', 'exterior', 'fake', 'tint', 'range', 'tout', 'amoeba', 'insect', 'venus', 'unforgettable', 'rat', 'spider', 'survivor', 'hypnotic', 'angry', 'reportedly', 'cult', 'psychedelic', 'sixties', 'static', 'greatness', 'entry', 'lukas', 'nazis', 'bette', 'davis', 'educate', 'relax', 'propaganda', 'noble', 'fascism', 'speech', 'brat', 'extend', 'scumbag', 'romanian', 'discernible', 'hammett', 'lillian', 'curio', 'cancel', 'mock', 'somethings', 'freak', 'nation', 'lives', 'seat', 'powerhouse', 'sweat', 'shower', 'afterward', 'theoretically', 'turkish', 'copenhagen', 'denmark', 'borrow', 'transfer', 'kung', 'expert', 'champion', 'safe', 'impression', 'education', 'cheer', 'revenge', 'xian', 'instructor', 'hidden', 'tiger', 'crouching', 'hurricane', 'height', 'storm', 'window', 'tree', 'upright', 'leaf', 'sunlight', 'visible', 'illuminate', 'treetop', 'evaporate', 'rain', 'homeowner', 'insurance', 'sunshine', 'alienate', 'sidney', 'pegg', 'journalist', 'magazine', 'cream', 'trashing', 'oblige', 'operation', 'technical', 'aspect', 'characterization', 'haiku', 'indie', 'silent', 'kornbluth', 'sony', 'bemuse', 'forgive', 'istanbul', 'korea', 'jeon', 'yeon', 'homeward', 'bound', 'success', 'archetypal', 'wan', 'lovable', 'prissy', 'princess', 'pamper', 'bounce', 'sassy', 'dynamic', 'overdue', 'bud', 'communication', 'dingo', 'snatch', 'lindy', 'chamberlain', 'meryl', 'streep', 'neill', 'grief', 'seventh', 'mourn', 'sadness', 'communicate', 'existence', 'mass', 'outlet', 'equally', 'fred', 'schepisi', 'bubble', 'soothe', 'danger', 'peril', 'diver', 'springs', 'florida', 'lloyd', 'bridges', 'dive', 'rerun', 'underwater', 'lake', 'grandmother', 'flipper', 'undersea', 'advantage', 'natural', 'environment', 'neatly', 'skip', 'cuba', 'undercover', 'bolivia', 'soderbergh', 'che', 'guevara', 'tragic', 'guerrilla', 'warfare', 'escapade', 'destine', 'benicio', 'toro', 'loudly', 'revolution', 'guardian', 'bradshaw', 'contention', 'depiction', 'surfeit', 'model', 'strip', 'endear', 'psychological', 'enshrine', 'scottish', 'carlyle', 'seminal', 'heroes', 'imaginary', 'unrealistic', 'storytelling', 'undergo', 'trial', 'tribulation', 'obtain', 'barely', 'wealth', 'divine', 'intervention', 'courage', 'lost', 'ark', 'rise', 'empower', 'intellectual', 'clarity', 'equate', 'colour', 'breathtaking', 'mise', 'en', 'authenticity', 'heighten', 'maximise', 'flexibility', 'groundbreaking', 'mm', 'convenience', 'functionality', 'package', 'weigh', 'mere', 'beatles', 'attune', 'cuban', 'virtue', 'critics', 'justification', 'tin', 'dictatorship', 'narrative', 'glance', 'interview', 'ex', 'comrade', 'coach', 'minutia', 'bolivian', 'commendable', 'integrity', 'document', 'significant', 'slice', 'failure', 'utmost', 'vain', 'cynically', 'martyr', 'sacrifice', 'inconsiderate', 'ability', 'longstanding', 'illegal', 'parts', 'invite', 'seek', 'earnestly', 'bias', 'inevitably', 'engender', 'populist', 'oceans', 'phrase', 'murderous', 'marxist', 'fat', 'martial', 'sammo', 'hung', 'farm', 'visit', 'tang', 'lung', 'wherever', 'rely', 'imitate', 'mimick', 'idol', 'lee', 'nose', 'showdown', 'consist', 'fighter', 'opponent', 'adventures', 'weekday', 'mole', 'watching', 'thereof', 'reeves', 'superman', 'foam', 'pad', 'impose', 'furry', 'fool', 'zipper', 'sleeve', 'hem', 'fabric', 'tailor', 'painfully', 'forgivable', 'contrive', 'deteriorate', 'lois', 'pr', 'benson', 'town', 'rabble', 'reasonable', 'nip', 'phyllis', 'coates', 'seemingly', 'instantly', 'comfortable', 'hamlet', 'partially', 'undoubtedly', 'leonardo', 'romeo', 'juliet', 'kenneth', 'branagh', 'affluent', 'relate', 'misery', 'transcend', 'deep', 'racism', 'washington', 'fisher', 'careful', 'relinquish', 'dismemberment', 'body', 'perpetuate', 'unthoughtful', 'expectation', 'gaze', 'entrench', 'afro', 'discourse', 'spectator', 'antwone', 'naval', 'viewers', 'pimp', 'whore', 'dealer', 'forth', 'constitute', 'displace', 'aggression', 'presently', 'validity', 'via', 'recognition', 'counterpart', 'racist', 'denzel', 'derek', 'sexist', 'negate', 'push', 'aside', 'ingenious', 'sexism', 'garden', 'helluva', 'selection', 'haired', 'skin', 'superhero', 'cheek', 'tone', 'heroic', 'risk', 'adversary', 'misfire', 'nobility', 'ignite', 'nurse', 'usher', 'devise', 'patronize', 'eyes', 'festivity', 'waits', 'weapon', 'inventor', 'penchant', 'shout', 'cuthbert', 'mix', 'egg', 'rouse', 'troublesome', 'trio', 'shoveler', 'macy', 'blue', 'raja', 'hank', 'azaria', 'furious', 'ben', 'stiller', 'nowhere', 'casanova', 'frankenstein', 'geoffrey', 'rush', 'exhibit', 'lithgow', 'debonair', 'pastiche', 'bake', 'tie', 'slum', 'household', 'roy', 'chronically', 'defensive', 'waitress', 'hangout', 'sleek', 'claire', 'wisdom', 'fellow', 'wes', 'studi', 'sphinx', 'group', 'garofalo', 'zellweger', 'exchange', 'bowl', 'sue', 'screwball', 'emily', 'watson', 'spellbind', 'bell', 'stolid', 'magnetic', 'lewis', 'lucille', 'exasperation', 'barbecue', 'adorable', 'breed', 'sigh', 'exclaim', 'encourage', 'hail', 'bare', 'lasser', 'hartman', 'fondness', 'greg', 'kinnear', 'captain', 'ricky', 'jay', 'publicist', 'mitchell', 'reubens', 'olin', 'glory', 'mexican', 'viewpoint', 'cowboy', 'arness', 'bowie', 'persuasively', 'keith', 'davy', 'lorne', 'greene', 'houston', 'antonio', 'santa', 'anna', 'dignity', 'owe', 'soldier', 'mount', 'prevent', 'scriptwriter', 'failing', 'raul', 'magnificently', 'susannah', 'dickinson', 'kathleen', 'pennsylvania', 'probable', 'dis', 'sentimental', 'shall', 'frits', 'janus', 'dissing', 'rathke', 'exit', 'ear', 'hang', 'brutal', 'lindum', 'svendsen', 'bent', 'mejding', 'tyrant', 'community', 'breakdown', 'hippie', 'hi', 'freddie', 'unconvincing', 'miserably', 'scandinavian', 'journey', 'dictator', 'cartoonish', 'feet', 'burton', 'shelf', 'roth', 'terrible', 'bartleby', 'maintain', 'tedious', 'schlock', 'terribly', 'perceive', 'remake', 'acting', 'ticket', 'gene', 'vincent', 'negotiate', 'double', 'mafia', 'charity', 'hmm', 'johnny', 'departure', 'herein', 'competent', 'sow', 'silk', 'purse', 'dorothy', 'expense', 'parminder', 'nagra', 'kiera', 'punjabi', 'jonathon', 'meyers', 'cook', 'secretly', 'pinky', 'abroad', 'mysteries', 'inconsistent', 'thrill', 'closure', 'california', 'murderer', 'unaware', 'companion', 'pitt', 'winfield', 'odyssey', 'sympathetic', 'underlie', 'morality', 'freddy', 'joker', 'suspense', 'unborn', 'swiss', 'cheese', 'completeness', 'messy', 'titular', 'vermin', 'horrific', 'awry', 'slug', 'mutate', 'pollution', 'malicious', 'tooth', 'flesh', 'excrete', 'poison', 'none', 'actively', 'overreact', 'glove', 'react', 'instinctively', 'defend', 'medical', 'greenhouse', 'spill', 'volatile', 'chemical', 'explode', 'blame', 'portrait', 'favorable', 'sheriff', 'hick', 'lumpy', 'sidekick', 'forty', 'drunken', 'skinny', 'genital', 'demonic', 'leslie', 'neilson', 'declare', 'parade', 'lace', 'salad', 'fate', 'helpful', 'harmless', 'greedy', 'alcoholic', 'rapist', 'climactic', 'villainous', 'burn', 'cower', 'helplessly', 'sewer', 'crapfest', 'illogical', 'twist', 'lame', 'dub', 'disc', 'necessarily', 'depend', 'imaginative', 'til', 'schweiger', 'forlani', 'readily', 'nuance', 'accidentally', 'imaginable', 'flog', 'corporation', 'ultimate', 'subtlety', 'nerd', 'fantasy', 'programme', 'apparent', 'hacker', 'ned', 'bellamy', 'tip', 'muslim', 'africa', 'abusive', 'explicitly', 'endorse', 'ready', 'criminal', 'enable', 'fortunately', 'cameroonian', 'equality', 'exploit', 'practitioner', 'legal', 'secure', 'notable', 'uplift', 'court', 'pragmatically', 'progressive', 'joyous', 'inhabitant', 'north', 'concede', 'betray', 'naiveté', 'reiser', 'standup', 'spotlight', 'warmly', 'gently', 'folks', 'falk', 'workaholic', 'muriel', 'olympia', 'dukakis', 'mackenzie', 'connolly', 'lydia', 'jordan', 'rachel', 'whereabouts', 'trip', 'regroup', 'pro', 'belong', 'harp', 'mercilessly', 'corny', 'transplant', 'bart', 'mel', 'brooks', 'blazing', 'saddles', 'weekly', 'sitcom', 'desperate', 'louis', 'gossett', 'impersonate', 'embarrassment', 'hbo', 'el', 'slab', 'news', 'hiv', 'hysteria', 'normally', 'judgmental', 'protect', 'leo', 'germany', 'unexpected', 'identify', 'whom', 'superior', 'unit', 'those', 'elite', 'karl', 'wilde', 'sink', 'treasure', 'south', 'hunter', 'territorial', 'shark', 'sneer', 'galleon', 'shove', 'argue', 'health', 'convict', 'shape', 'necronomicon', 'dreadfully', 'euro', 'tripe', 'slip', 'whatsoever', 'measure', 'numbingly', 'dodgy', 'chuck', 'cleveland', 'ohio', 'aid', 'leftover', 'blender', 'strain', 'mad', 'living', 'trim', 'distant', 'damn', 'gory', 'jewel', 'gorehounds', 'viel', 'hopefully', 'mishandle', 'audio', 'loop', 'uncut', 'graphic', 'spice', 'tourist', 'vacation', 'area', 'druids', 'celebration', 'samhain', 'inbreed', 'mutant', 'cliff', 'shoulder', 'entrails', 'blood', 'limb', 'herschell', 'territory', 'behold', 'boyfriend', 'cave', 'bind', 'table', 'geek', 'insert', 'torso', 'pit', 'gross', 'gruesome', 'jenna', 'jameson', 'neck', 'crotch', 'glee', 'drain', 'yummy', 'intestine', 'forever', 'innards', 'lay', 'bathroom', 'imo', 'presentation', 'trade', 'desi', 'fabulous', 'entrance', 'parisian', 'flavour', 'fade', 'absorb', 'subtle', 'dung', 'heap', 'bathe', 'renew', 'singularly', 'charmless', 'properly', 'bizarrely', 'commission', 'astrid', 'creation', 'gasoline', 'tanker', 'scar', 'violently', 'zombies', 'satire', 'shaun', 'torment', 'shane', 'meadows', 'exert', 'attendant', 'brass', 'identity', 'below', 'unhinge', 'abandon', 'conceal', 'underpin', 'exquisitely', 'surreal', 'monochrome', 'distance', 'grimy', 'bleak', 'veer', 'farce', 'cliche', 'poelvoorde', 'compellingly', 'ambition', 'individual', 'pidgeon', 'deadly', 'epiphany', 'despair', 'potentially', 'captivate', 'refreshingly', 'key', 'onto', 'scratch', 'brand', 'wrinkle', 'sincere', 'wander', 'afterlife', 'contact', 'funky', 'electrical', 'fuzz', 'airwave', 'electronic', 'phenomena', 'suspension', 'tolerate', 'strand', 'noise', 'awake', 'bushy', 'tail', 'syndrome', 'pity', 'intention', 'skim', 'basilisk', 'shinobi', 'choreograph', 'transform', 'manga', 'freakish', 'design', 'immense', 'wrongly', 'characters', 'dramatically', 'mutilate', 'gennosuke', 'vengeful', 'leader', 'japan', 'worthless', 'exceptionally', 'unattractive', 'misplace', 'hopeless', 'depth', 'historical', 'alas', 'harshly', 'repair', 'otherwise', 'seizure', 'massacre', 'classify', 'items', 'generally', 'specific', 'transmit', 'silberling', 'uncompromising', 'vega', 'grocery', 'propose', 'simplicity', 'underestimate', 'directly', 'endless', 'express', 'duration', 'sofia', 'coppola', 'generate', 'tokyo', 'naturalness', 'collaboration', 'phedon', 'papamichael', 'sceneries', 'kaufman', 'specify', 'improvise', 'executive', '5', 'saga', 'zane', 'yaphet', 'kotto', 'lezlie', 'deane', 'sheep', 'bruckheimer', 'poster', 'nic', 'cage', 'excitement', 'kip', 'are', 'sparkle', 'hectic', 'movement', 'tradition', 'dictate', 'heir', 'proud', 'adopt', 'warmth', 'humanity', 'tho', 'straw', 'monkey', 'slave', 'entwine', 'require', 'observe', 'heritage', 'boil', 'baker', 'texas', 'malta', 'gunfight', 'dress', 'monk', 'jail', 'elaine', 'flare', 'catchy', 'bryan', 'adams', 'hans', 'zimmer', 'darkness', 'apocalypse', 'invade', 'stir', 'lament', 'forsa', 'busty', 'helga', 'everytime', 'terrify', 'mayor', 'pufnstuf', 'allegedly', 'flute', 'billie', 'halliday', 'alright', 'gay', 'fairy', 'suitable', 'investigation', 'overplay', 'card', 'memorial', 'requisite', 'umbrella', 'fictitious', 'revel', 'joel', 'schumacher', 'machine', 'colin', 'matthew', 'shea', 'nam', 'torture', 'enemy', 'based', 'elmore', 'blackmail', 'schieder', 'naughty', 'psychopath', 'kelly', 'preston', 'hooker', 'connect', 'blackmailer', 'ann', 'babe', 'suggestion', 'recommended', 'allegation', 'aggravate', 'assault', 'improper', 'broom', 'jock', 'glen', 'ridge', 'jersey', 'matarazzo', 'da', 'ally', 'sheedy', 'stoltz', 'upper', 'adore', 'lieutenant', 'slut', 'basement', 'sufficiently', 'cogent', 'ideal', 'plaintiff', 'faux', 'false', 'slimy', 'trust', 'linda', 'tripp', 'buddy', 'incident', 'tape', 'consequence', 'roller', 'coaster', 'organize', 'interfere', 'obstacle', 'overcome', 'characterize', 'prosecutor', 'pago', 'seaside', 'club', 'compliment', 'bravura', 'essentially', 'blond', 'complement', 'groom', 'wistful', 'barge', 'east', 'orange', 'prejudice', 'reaffirm', 'rhetorical', 'photo', 'chip', 'strictly', 'whim', 'smear', 'dirt', 'abduct', 'beam', 'sun', 'schedule', 'futuristic', 'atoz', 'ha', 'duplicate', 'destruction', 'trek', 'dvds', 'sis', 'kirk', 'eccentric', 'repute', 'bully', 'coo', 'ye', 'spock', 'mccoy', 'barbaric', 'tendency', 'ancestor', 'responsible', 'transition', 'million', 'correct', 'error', 'vulcan', 'nasty', 'bait', 'rearrange', 'comely', 'exile', 'cold', 'punishment', 'union', 'opener', 'reminder', 'elderly', 'evidently', 'suicidal', 'wolfe', 'neat', 'definite', 'cosmic', 'slant', 'argento', 'vicious', 'headmistress', 'sadistic', 'undertone', 'incest', 'elsewhere', 'turner', 'movies', 'maltin', 'department', 'pursuit', 'peer', 'blondell', 'career', 'brophy', 'mcbride', 'candidate', 'gag', 'inventive', 'peg', 'explore', 'sniper', 'guilty', 'undivided', 'takashi', 'miike', 'grandfather', 'divorce', 'honor', 'doing', 'skirt', 'beehive', 'yokai', 'resentment', 'discard', 'manifest', 'befriend', 'benign', 'band', 'mechanical', 'directorial', 'unexperienced', 'occasion', 'thoughtful', 'transport', 'provocative', 'oliver', 'games', 'mein', 'das', 'experiment', 'lampoon', 'reunion', 'execution', 'sorely', 'nanosecond', 'civil', 'lawyer', 'philadelphia', 'training', 'queens', 'upcoming', 'biker', 'commitment', 'brawl', 'jerome', 'davenport', 'hunting', 'vulgarity', 'response', 'rock', 'jab', 'pressure', 'wane', 'sensationalized', 'viola', 'traffic', 'kate', 'leopold', 'heaven', 'solaris', 'steven', 'doom', 'clooney', 'tear', 'nonetheless', 'popularity', 'boyz', 'lawrence', 'finding', 'memoir', 'quenton', 'murphy', 'ed', 'norton', 'presley', 'goony', 'goo', 'chair', 'less', 'mentor', 'universe', 'chauffeur', 'carson', 'ca', 'brentwood', 'research', 'cal', 'fernando', 'valley', 'salma', 'hayek', 'penelope', 'cruz', 'disgruntled', 'allude', 'worldly', 'advice', 'reliable', 'debit', 'cell', 'survival', 'instinct', 'preserve', 'ego', 'substantially', 'flirt', 'adultery', 'fizzle', 'martin', 'affair', 'saw', 'reel', 'reaction', 'artsy', 'seems', 'nick', 'outsider', 'does', 'adam', 'underdog', 'lonely', 'voyeur', 'youthful', 'juno', 'comprise', 'hallam', 'misguide', 'contemplative', 'foe', 'foreground', 'psychosis', 'parameter', 'swiftly', 'interrupt', 'assert', 'obsession', 'insanity', 'hinder', 'sporadic', 'relatable', 'clue', 'frustratingly', 'jamie', 'obviousness', 'blunt', 'conscious', 'register', 'trainspotting', 'scale', 'building', 'voyeurism', 'peep', 'giddy', 'neutral', 'propel', 'ideological', 'perspective', 'drunkenly', 'foreshadow', 'motivation', 'participate', 'flamboyant', 'needlessly', 'ambiguous', 'unappealing', 'mister', 'jones', 'elmer', 'payoff', 'afflict', 'dinner', 'redundant', 'text', 'pet', 'acknowledge', 'clunkers', 'decently', 'backstory', 'emmanuel', 'incompetent', 'random', 'poetic', 'wtf', 'cloud', 'gloomy', 'continuous', 'wee', 'edgy', 'hip', 'scarecrow', 'gymnast', 'flip', 'twirl', 'voluptuous', 'flawless', 'cousin', 'necessity', 'walter', 'matthau', 'burns', 'vaudeville', 'grudge', 'prime', 'benjamin', 'rosetta', 'orson', 'welles', 'grandma', 'picky', 'granted', 'fester', 'consistently', 'slide', 'explicit', 'trouser', 'blindingly', 'partly', 'derange', 'insatiable', 'dressed', 'exam', 'weep', 'tierney', 'sanders', 'reginald', 'gardner', 'carey', 'hardwicke', 'henry', 'hathaway', 'wwii', 'brit', 'colony', 'empire', 'sultan', 'plethora', 'sensibility', 'native', 'dye', 'drum', 'potent', 'punch', 'ufo', 'rewatch', 'stars', 'ebts', 'nondescript', 'sorta', 'oddity', 'astonish', 'oddly', 'pact', 'needed', 'combo', 'antonioni', 'blowup', 'photographer', 'subsequently', 'evidence', 'knowledge', 'majority', 'vs', 'variety', 'unimportant', 'carter', 'pov', 'forgettable', 'cherish', 'campaign', 'cerebral', 'inspirational', 'severe', 'daniel', 'brenda', 'fricker', 'awesome', 'undercurrent', 'powerfully', 'deniro', 'smooth', 'sync', 'luscious', 'spiritual', 'clown', 'outer', 'bucket', 'razor', 'wilder', 'additional', 'larry', 'daily', 'unlucky', 'ironically', 'victorian', 'increasingly', 'carell', 'lude', 'profanity', 'principle', 'inappropriate', 'stitzer', 'temperament', 'blatantly', 'poker', 'necessary', 'multiple', 'rudd', 'seth', 'rogen', 'romany', 'malco', 'impressively', 'showing', 'revelation', 'confident', 'catherine', 'keener', 'conservative', 'evolve', 'conquest', 'confidence', 'preach', 'considerable', 'improvement', 'crude', 'ac', 'tor', 'shelley', 'winters', 'hint', 'certificate', 'massage', 'seedy', 'curtain', 'seduce', 'outfit', 'navel', 'puff', 'oscars', 'disable', 'prosthetic', 'shakespearean', 'anthony', 'aristocratic', 'chorus', 'cockney', 'kurt', 'russell', 'elvis', 'record', 'guitar', 'birthday', 'suspicious', 'relatively', 'ignorant', 'quantum', 'physic', 'choke', 'ship', 'explorer', 'speaker', 'loony', 'spectacular', 'joyful', 'claude', 'cyborg', 'somnolence', 'tank', 'partake', 'concoction', 'walmart', 'till', 'frustrate', 'currently', 'sob', 'pierre', 'leaud', 'empty', 'blank', 'sweetly', 'charmingly', 'flicker', 'preferably', 'uneven', 'wake', 'anniversary', 'bombing', 'tuesday', 'comfort', 'enlighten', 'columbo', 'rank', 'bogglingly', 'muddle', 'unwatchable', 'slight', 'ingredient', 'proceeding', 'lt', 'omit', 'altogether', 'plague', 'tarzan', 'happily', 'ivory', 'civilization', 'determine', 'rarity', 'ape', 'dreadful', 'print', 'content', 'seeing', 'weissmuller', 'skimpy', 'cloth', 'maureen', 'weismuller', 'pieces', 'unintentionally', 'malcolm', 'mcdowell', 'sub', 'prom', 'carrie', 'jeremy', 'briefly', 'hopelessly', 'arrogant', 'importantly', 'terrorize', '6', 'uncommon', 'deliberately', 'behavior', 'link', 'hateful', 'cardboard', 'predict', 'leg', 'scalpel', 'relentless', 'unstoppable', 'emotionless', 'gigantic', 'knife', 'plagiarize', 'meyer', 'nosebleed', 'shameless', 'removal', 'bleed', 'reluctant', 'unexplained', 'theatrical', 'battlefield', 'paxton', 'headline', 'snort', 'biblical', 'kubrick', 'iii', 'melvyn', 'ninotchka', 'garbo', 'maxine', 'worker', 'clarence', 'macbride', 'position', 'senator', 'policeman', 'dunnit', 'flair', 'verbally', 'hall', 'lucy', 'sensational', 'jeff', 'fahey', 'relay', 'mario', 'competitive', 'enterprise', 'institute', 'definitive', 'mendacious', 'debunk', 'report', 'skeptic', 'guide', 'inconvenient', 'demolition', 'pseudo', 'scientific', 'psychic', 'philip', 'gerald', 'jfk', 'idiocy', 'al', 'scam', 'annoying', 'miscast', 'sellers', 'smarmy', 'filmography', 'solely', 'pilot', 'immune', 'nostalgic', 'moonlighting', 'manipulate', 'demolish', 'furnishing', 'inept', 'masculine', 'assistance', 'susan', 'conspiracy', 'backlash', 'stamp', 'willis', 'test', 'jazzy', 'similarity', 'scotland', 'yard', 'investigate', 'bid', 'nifty', 'bible', 'squirt', 'acid', 'soak', 'expire', 'inspector', 'gum', 'whip', 'hood', 'klan', 'fireplace', 'hearth', 'robe', 'alight', 'overtone', 'practically', 'haul', 'riddle', 'weakness', 'drew', 'glare', 'liner', 'timothy', 'hutton', 'mulder', 'mode', 'chemistry', 'lip', 'gillian', 'anderson', 'skippy', 'ties', 'metal', 'satanic', 'fog', 'ozzy', 'osbourne', 'preacher', 'slumber', 'leather', 'w', 'fringe', 'claustrophobic', 'outstanding', 'actors', 'pleasance', 'dr', 'loomis', 'vital', 'curtis', 'marvellous', 'asylum', 'shockingly', 'nonexistent', 'awe', 'pack', 'unsurpassed', 'spit', 'imitation', 'flattery', 'ornament', 'disdain', 'schindler', 'sumptuous', 'whoopi', 'comedienne', 'begins', 'russian', 'submarine', 'twice', 'lifeless', 'wolf', 'fraternity', 'goon', 'sane', 'heartwarming', 'shoestring', 'hammy', 'objective', 'rings', 'wraith', 'frodo', 'galadriel', 'grandiose', 'intrusive', 'stress', 'importance', 'tax', 'nz', 'saving', 'faithful', 'originally', 'bakshi', 'deviate', 'onion', 'tilt', 'anonymous', 'indestructible', 'unfinished', 'messily', 'dispose', 'kylie', 'minogue', 'ringwald', 'jessica', 'napier', 'mayhem', 'erupt', 'clumsy', 'deliberate', 'difficulty', 'homage', 'ashanti', 'precise', 'moore', 'caine', 'anansa', 'beverley', 'johnson', 'medicine', 'arabic', 'trader', 'suleiman', 'ustinov', 'englishman', 'helicopter', 'holden', 'arab', 'malik', 'bedi', 'liberty', 'omar', 'sharif', 'cobra', 'towards', 'rogue', 'harness', 'sophistication', 'abundance', 'gear', 'likable', 'sixty', 'constant', 'convincingly', 'lighten', 'tyne', 'daly', 'siegel', 'considerably', 'netflix', 'seymour', 'hoffman', 'electrify', 'lumet', 'petty', 'testament', 'capote', 'hawke', 'educational', 'eager', 'rule', 'kiss', 'asse', 'cipher', 'blast', 'smoke', 'network', 'twelve', 'linger', 'con', 'doze', 'execrable', 'adjective', 'hack', 'uninspired', 'impossibly', 'labor', 'illusion', 'narcotic', 'brain', 'unbearable', 'tasteful', 'sheik', 'bow', 'stack', 'oil', 'bottle', 'skyscraper', 'whomever', 'cap', 'pound', 'marathon', 'horrendous', 'mediocre', 'glass', 'shoes', 'coming', 'shoe', 'montage', 'singing', 'bolt', 'downey', 'sr', 'command', 'shoehorn', 'liceman', 'chilly', 'barbara', 'bach', 'criminally', 'marble', 'moan', 'writhe', 'cleavage', 'retard', 'feed', 'revolt', 'condom', 'mince', 'pedophile', 'jerk', 'videotape', 'goldie', 'hawn', 'randomly', 'hippy', 'deservedly', 'stephanie', 'thoroughly', 'hilariously', 'burt', 'reynolds', 'arnold', 'schwarzenegger', 'property', 'derision', 'appall', 'erase', 'trading', 'places', 'hours', 'charlotte', 'tight', 'blouse', 'humdrum', 'chosen', 'rescue', 'classy', 'atypical', 'load', 'times', 'ward', 'reunite', 'orphan', 'reminisce', 'workout', 'bump', 'gentleman', 'bitter', 'recommendation', 'eyebrow', 'cbs', 'manager', 'opening', 'specifically', 'whisker', 'album', 'wine', 'tiny', 'lily', 'alligator', 'orchestra', 'ii', 'goodman', 'kooky', 'playfully', 'stomp', 'mink', 'comes', 'did', 'medley', 'finale', 'days', 'fiber', 'pertain', 'sappy', 'wonderfully', 'identifiable', 'illustrate', 'blockbuster', 'meds', 'wagon', 'collar', 'feather', 'disco', 'foretell', 'narration', 'wreak', 'havoc', 'polyester', 'elementary', 'vagina', 'suspiciously', 'camcorder', 'path', 'barker', 'impact', 'bowel', 'pencil', 'thin', 'armature', 'ominous', 'equip', 'laser', 'balsa', 'weirdness', 'nugget', 'information', 'cuff', 'coca', 'cola', 'nope', 'meddle', 'einstein', 'bootleg', 'recorder', 'hayao', 'miyazaki', 'prominent', 'spielberg', 'fragment', 'lushness', 'tally', 'portfolio', 'artwork', 'pazu', 'sheeta', 'quest', 'laputa', 'jonathan', 'swift', 'portion', 'pastoral', 'multitude', 'moss', 'dichotomy', 'technology', 'irony', 'running', 'airship', 'spike', 'patron', 'inappropriately', 'disjoint', 'irrelevent', 'math', 'esteem', 'outline', 'aware', 'loser', 'auto', 'biography', 'awaken', 'cookie', 'sperm', 'wet', 'afterwards', 'contemptible', 'underline', 'scheme', 'sensible', 'autobiography', 'christy', 'remarkable', 'masterful', 'per', 'weekend', 'following', 'audition', 'choreographer', 'zach', 'atenborough', 'number', 'shorten', 'prairie', 'broadcast', 'radio', 'ronnie', 'zoom', 'crucial', 'eliminate', 'exact', 'hamlisch', 'lyric', 'choreography', 'bennett', 'rehearsal', 'cassie', 'alyson', 'tsh', 'split', 'intro', 'backwoods', 'testosterone', 'overload', 'paintball', 'according', 'article', 'savage', 'nearby', 'whoever', 'macho', 'arrival', 'bewilder', 'maniacal', 'arsenal', 'hideout', 'derivative', 'vivid', 'efficient', 'plausible', 'sadist', 'krueger', 'aforementioned', 'camouflage', 'joyously', 'sleeper', 'ginger', 'unite', 'combination', 'concert', 'familiar', 'limelight', 'gaunt', 'haggard', 'perform', 'complaint', 'darius', 'muscular', 'dystrophy', 'un', 'nineteen', 'wheelchair', 'mtv', 'georgia', 'balloon', 'ocean', 'canyon', 'orleans', 'sale', 'ambiguity', 'fix', 'cohen', 'aspire', 'widowed', 'judd', 'hirsch', 'tribeca', 'enchant', 'successor', 'tad', 'cheezy', 'hop', 'directer', 'rework', 'dash', 'milan', 'kundera', 'cope', 'tomas', 'mistress', 'layer', 'neglect', 'neverending', 'creativity', 'animator', 'surrealistic', 'norm', 'ridiculousness', 'nonsensical', 'inane', 'unanswered', 'mascara', 'synopsis', 'apologize', 'lol', 'decency', 'josh', 'holloway', 'jorge', 'garcia', 'alias', 'albeit', 'amusement', 'park', 'bulldog', 'sandra', 'locke', 'wrist', 'heres', 'paste', 'mindless', 'everywhere', 'duh', 'factory', 'magnitude', 'invention', 'mistakenly', 'normal', 'file', 'cinematograph', 'rohmer', 'elliot', 'apex', 'reactionary', 'unabashed', 'defense', 'monarchy', 'hideous', 'lout', 'polish', 'lacking', 'recreation', 'conceit', 'pastime', 'despicable', 'discussion', 'allowance', 'disagree', 'hairy', 'airhead', 'feast', 'deed', 'catholic', 'continuation', 'lars', 'von', 'trier', 'belly', 'goer', 'needless', 'ejaculate', 'poetry', 'elegance', 'inspiration', 'zen', 'thick', 'wobbly', 'skillfully', 'photograph', 'emphasize', 'identification', 'effeminate', 'hairless', 'pristine', 'butch', 'reversal', 'behave', 'mate', 'simpsons', 'phenomenal', 'realistically', 'ineptness', 'minimum', 'toe', 'fetishist', 'modest', 'hollow', 'meaningless', 'dominate', 'futile', 'wannabes', 'dim', 'cannes', 'hence', 'dani', 'sexually', 'goth', 'lad', 'danni', 'compete', 'def', 'temptation', 'broad', 'melancholy', 'whereby', 'philosophically', 'funeral', 'baio', 'fiend', 'ransom', 'eliot', 'mill', 'prosaic', 'defiant', 'sibling', 'separate', 'childhood', 'revival', 'subdue', 'defy', 'sentiment', 'smother', 'overbear', 'relentlessly', 'connive', 'narcissistic', 'socially', 'relative', 'gruff', 'discord', 'herd', 'pillow', 'snore', 'overact', 'humiliate', 'dax', 'liv', 'tyler', 'lackluster', 'intolerable', 'dislike', 'rendition', 'myth', 'instrumental', 'bust', 'shroud', 'accomplishment', 'hitler', 'misunderstand', 'humanize', 'sympathize', 'unspeakable', 'flawlessly', 'impersonation', 'hopkins', 'accomplish', 'repulse', 'depravity', 'virulent', 'ant', 'semitism', 'magnetism', 'adolf', 'modine', 'nazism', 'stilt', 'stormare', 'liev', 'choppy', 'niece', 'braun', 'thankfully', 'incapable', 'exterminate', 'capability', 'omega', 'sprawl', 'typify', 'ilk', 'additionally', 'virtually', 'irrelevant', 'infectious', 'fatal', 'careless', 'ineffective', 'etcetera', 'evident', 'halfway', 'reading', 'ms', 'bondage', 'former', 'frivolous', 'heiress', 'mildred', 'pale', 'uneducated', 'impudent', 'authentic', 'enthusiasm', 'undesirable', 'launch', 'phillip', 'rogers', 'unclear', 'refine', 'steiner', 'supplement', 'shudder', 'repetition', 'max', 'sally', 'calendar', 'francis', 'dee', 'gone', 'lure', 'curiously', 'despise', 'masochistic', 'principal', 'enslave', 'loosen', 'gallon', 'outdate', 'subsequent', 'trivia', 'volunteer', 'organization', 'vegetarian', 'outdoor', 'bird', 'sooner', 'being', 'acceptance', 'cruelty', 'drawing', 'hurry', 'athlete', 'soccer', 'condescension', 'hindu', 'ceremony', 'angie', 'psychologist', 'promiscuity', 'bystander', 'blake', 'nancy', 'extension', 'palma', 'crib', 'infamous', 'museum', 'method', 'recurrent', 'motif', 'herrmann', 'flow', 'influential', 'hone', 'improve', 'agonizingly', 'structurally', 'frontal', 'skew', 'implicit', 'visceral', 'puritanical', 'emphasis', 'fond', 'overhead', 'whale', 'cutaway', 'flashy', 'viewed', 'prowess', 'intricately', 'nest', 'cube', 'metropolitan', 'primary', 'panache', 'integrate', 'risqué', 'underuse', 'primarily', 'relic', 'pakistani', 'pakistan', 'patty', 'insightful', 'hew', 'manic', 'depressive', 'cates', 'shadow', 'sketchy', 'bearing', 'stability', 'consciousness', 'diagnosis', 'skate', 'girls', 'hockey', 'block', 'skater', 'katelin', 'scholarship', 'benefit', 'directed', 'eytan', 'comparative', 'celebrate', 'westerners', 'safety', 'zone', 'israeli', 'civilian', 'israel', 'capital', 'tel', 'noam', 'ohad', 'knoller', 'ashraf', 'yousef', 'sweid', 'climate', 'intricate', 'interplay', 'unavoidable', 'vibrant', 'stark', 'profoundly', 'unhappy', 'happiness', 'resentful', 'envision', 'circumstance', 'humble', 'ourselves', 'tenacity', 'toilet', 'hammer', 'supply', 'beer', 'bit', 'champ', 'burgundy', 'gel', 'salvage', 'alarm', 'maya', 'rudolph', 'disk', 'improv', 'ferrell', 'turns', 'primer', 'domain', 'alert', 'motivate', 'rumor', 'rental', 'merian', 'ernest', 'migration', 'winter', 'graze', 'capsule', 'drastic', 'river', 'brutally', 'sufficient', 'fancy', 'inter', 'detract', 'indigenous', 'docu', 'chang', 'kong', 'mile', 'bee', 'carl', 'monson', 'ruled', 'anders', 'laura', 'ivy', 'agony', 'bomb', 'deathbed', 'vanessa', 'redgrave', 'maid', 'lila', 'wittenborn', 'mamie', 'gummer', 'dane', 'welcome', 'hugh', 'dancy', 'cottage', 'servant', 'arden', 'graduate', 'confess', 'insecure', 'unstable', 'nina', 'toni', 'collette', 'constance', 'natasha', 'worry', 'decoration', 'motherhood', 'ross', 'bisexual', 'fulfillment', 'brazil', 'ettore', 'scola', 'giancarlo', 'giannini', 'vittorio', 'radically', 'wreck', 'enrage', 'darryl', 'hannah', 'faint', 'proposition', 'dump', 'sausage', 'lone', 'neo', 'jew', 'laurence', 'fishburne', 'professor', 'busta', 'rhymes', 'smug', 'grin', 'wipe', 'guilt', 'ruth', 'simper', 'worse', 'humane', 'squirm', 'emotionally', 'atrocity', 'biko', 'anthem', 'attest', 'creed', 'population', 'tug', 'heartstrings', 'witness', 'hallmark', 'attenborough', 'apartheid', 'option', 'zero', 'roughly', 'bicker', 'speaking', 'cemetery', 'savor', 'stray', 'dudley', 'liza', 'minnelli', 'multimillionaire', 'parasite', 'future', 'robin', 'leaden', 'egyptian', 'infinitely', 'fascination', 'franklin', 'schaffner', 'egyptologist', 'erica', 'baron', 'lesley', 'cairo', 'antique', 'hamdi', 'seti', 'locate', 'tomb', 'discovery', 'tutankhamun', 'grisly', 'tantalise', 'trustworthy', 'maurice', 'sinister', 'langella', 'attraction', 'disregard', 'plausibility', 'resourceful', 'bimbo', 'brainless', 'crosse', 'fare', 'awfully', 'sluggish', 'tedium', 'aptly', 'sum', 'tiresome', 'unimaginative', 'cape', 'hunchback', 'moviegoer', 'verisimilitude', 'pose', 'picnic', 'pant', 'pocket', 'epitomize', 'spree', 'inanimate', 'wargames', 'dork', 'wu', 'lizard', 'venom', 'ish', 'centipede', 'speedy', 'scorpion', 'sasquatch', 'ringu', 'outright', 'filipino', 'affiliate', 'philippines', 'stoop', 'techno', 'sox', 'nicholson', 'stewart', 'amc', 'religion', 'billion', 'follower', 'bread', 'teaching', 'extremist', 'percent', 'kkk', 'ira', 'percentage', 'literal', 'cleverly', 'quotable', 'mushroom', 'phil', 'daniels', 'geoff', 'joint', 'purely', 'shirt', 'freebird', 'ealing', 'welsh', 'field', 'minus', 'atrocious', 'favor', 'nine', 'attend', 'qualify', 'overabundance', 'remark', 'truck', 'size', 'sixteen', 'mar', 'groan', 'toby', 'drawl', 'vein', 'insipid', 'yawn', 'confession', 'unlikeable', 'label', 'official', 'horribly', 'rebuild', 'overgrow', 'chaotic', 'overdubs', 'reinforce', 'botch', 'casting', 'exasperate', 'lacklustre', 'console', 'reassure', 'shatner', 'fuss', 'stein', 'sitting', 'dentist', 'interval', 'optimism', 'cure', 'insomnia', 'vault', 'innovation', 'emerge', 'damian', 'szifron', 'argentina', 'fondo', 'pablo', 'trapero', 'federal', 'alfredo', 'díaz', 'silverstein', 'luis', 'luque', 'assign', 'disposition', 'complexity', 'trespass', 'patrol', 'robber', 'diego', 'peretti', 'notch', 'summarize', 'assure', 'pub', 'uncontrollably', 'recognisable', 'viewings', 'synthesize', 'platform', 'mazes', 'monsters', 'heyday', 'dungeons', 'dragons', 'rpg', 'geeks', 'engross', 'satan', 'blah', 'legitimate', 'socialize', 'mundane', 'allure', 'gaming', 'request', 'robbie', 'cutout', 'cavern', 'pardu', 'warrior', 'atop', 'towers', 'hanks', 'blubber', 'worthwhile', 'underwhelm', 'scoop', 'exceed', 'banter', 'compared', 'fluffy', 'wisp', 'nostalgia', 'myrna', 'loy', 'modify', 'blandings', 'builds', 'lightly', 'soften', 'politics', 'communism', 'democrat', 'democratic', 'congresswoman', 'helen', 'nixon', 'robards', 'activism', 'noticeable', 'jr', 'active', 'conservatism', 'threat', 'blacklist', 'reappear', 'mainstream', 'translation', 'forum', 'pattern', 'elliott', 'duc', 'turmoil', 'aristocrat', 'hesitate', 'denounce', 'louvre', 'canvas', 'lifetime', 'fluent', 'nobleman', 'ensemble', 'edison', 'crumble', 'lowbrow', 'spacey', 'spare', 'justin', 'timberlake', 'forte', 'll', 'j', 'musician', 'kevin', 'gulp', 'alternately', 'monotone', 'blandness', 'rotten', 'tomato', 'uncomfortable', 'goldblum', 'escapee', 'pardo', 'pronounce', 'analyze', 'canadian', 'heartily', 'mamet', 'droll', 'punk', 'chi', 'mcdonald', 'cannibalistic', 'kent', 'pseudonym', 'brody', 'camper', 'unfortunate', 'backpacking', 'wilderness', 'playful', 'barrett', 'falling', 'teddi', 'sharon', 'arrive', 'ghostly', 'apparition', 'pour', 'simmer', 'dwell', 'compound', 'fracture', 'handicap', 'plead', 'fund', 'gargantuan', 'tower', 'dread', 'picturesque', 'landscape', 'smell', 'predator', 'intimidate', 'punish', 'refrigerator', 'repairman', 'interact', 'pa', 'novelty', 'hokey', 'giggle', 'hideously', 'unfamiliar', 'woods', 'forest', 'filthy', 'tatter', 'effectively', 'penetration', 'silhouette', 'formation', 'plea', 'crawl', 'corpse', 'sunrises', 'humans', 'jake', 'gyllenhaal', 'johnston', 'associate', 'honey', 'shrink', 'homer', 'fagin', 'lester', 'dodger', 'dickens', 'tirade', 'morbid', 'gwyne', 'dale', 'denise', 'crosby', 'ellie', 'gage', 'maine', 'farmer', 'jud', 'hiss', 'infant', 'translate', 'screenwriter', 'attic', 'unbearably', 'stagger', 'bag', 'myriad', 'others', 'maudlin', 'infuriate', 'instant', 'astronaut', 'fatuous', 'nasa', 'misinformation', 'irritation', 'apollo', 'burner', 'downhill', 'richards', 'intervene', 'workplace', 'stall', 'mercifully', 'travesty', 'customer', 'serviceable', 'shapely', 'moniker', 'fleeting', 'pluck', 'assistant', 'dwarf', 'greenaway', 'orchid', 'collapse', 'altar', 'dust', 'snoop', 'lair', 'fetch', 'ray', 'foil', 'adrien', 'convolute', 'ia', 'congrats', 'unpopular', 'zabriskie', 'loved', 'legitimately', 'fanatic', 'notte', 'passenger', 'drift', 'spade', 'pink', 'floyd', 'loneliness', 'desolation', 'historic', 'marker', 'highway', 'erect', 'rocky', 'enormously', 'inclination', 'invisible', 'journalism', 'pictorially', 'arthouse', 'private', 'airplane', 'diva', 'facile', 'filter', 'foreigner', 'criticism', 'advertise', 'billboard', 'capitalism', 'secretary', 'suburban', 'rod', 'birds', 'offensively', 'trite', 'mocumentary', 'rap', 'nwh', 'tasty', 'gangster', 'spinal', 'hat', 'hippo', 'crocodile', 'banks', 'stevenson', 'emelius', 'browne', 'potter', 'cindy', 'ian', 'weighill', 'snart', 'salem', 'knight', 'monologue', 'pious', 'exemplify', 'fodder', 'internet', 'gossip', 'outta', 'baseketball', 'surefire', 'edition', 'thumbs', 'cinematheque', 'august', 'cinemascope', 'michelangelo', 'beforehand', 'specially', 'panoramic', 'university', 'sweep', 'se', 'impressionistic', 'turbulent', 'activity', 'pause', 'creatively', 'willingly', 'rapt', 'tangentially', 'recur', 'lesser', 'appreciative', 'thunderous', 'applause', 'damme', 'freshman', 'wannabe', 'sophomoric', 'telegraph', 'ouch', 'akin', 'saget', 'belushi', 'diagnose', 'aids', 'virus', 'announce', 'congratulate', 'marcel', 'eternal', 'alfre', 'woodard', 'kline', 'mcdonnell', 'penance', 'serum', 'overblown', 'deaf', 'insufferable', 'pool', 'arch', 'uk', 'inner', 'caribbean', 'babylon', 'haine', 'predictably', 'intelligently', 'escalate', 'saul', 'bufford', 'pusser', 'bo', 'svenson', 'defensively', 'geisha', 'embodiment', 'degenerate', 'esther', 'artifice', 'boorish', 'ziyi', 'zhang', 'flying', 'mai', 'ying', 'michelle', 'glimmer', 'wo', 'li', 'cillian', 'loss', 'anxious', 'joseph', 'photographic', 'ageless', 'melody', 'yo', 'ma', 'violin', 'accompaniment', 'samurai', 'formal', 'specialize', 'pre', 'global', 'economy', 'stream', 'drip', 'dimension', 'inaccuracy', 'sarandon', 'thanks', 'smith', 'jedi', 'muppets', 'boggle', 'six', 'goodness', 'dupe', 'blur', 'cab', 'uma', 'thurman', 'depart', 'squeeze', 'meets', 'rainn', 'injury', 'faris', 'fright', 'wanda', 'sykes', 'layman', 'bombastic', 'indistinguishable', 'celluloid', 'barf', 'grim', 'stanwyck', 'eldest', 'estate', 'developer', 'inherit', 'fortune', 'byron', 'barr', 'pacino', 'scandal', 'idealistic', 'bridget', 'fonda', 'aiello', 'franciosa', 'inoffensive', 'astonishingly', 'laughless', 'allo', 'decay', 'vegetable', 'wedding', 'underpinning', 'yugoslavia', 'tito', 'teenager', 'palpable', 'joey', 'martha', 'quinn', 'frankie', 'annette', 'baseball', 'sweetin', 'candace', 'cameron', 'avid', 'entity', 'je', 'seine', 'marais', 'sant', 'coen', 'buscemi', 'du', 'hispanic', 'shampoo', 'salesman', 'chinatown', 'lookalike', 'correctly', 'restaurant', 'juliette', 'binoche', 'grieve', 'eiffel', 'mime', 'discuss', 'quartier', 'homeless', 'hoskins', 'unromantic', 'madeleine', 'vampire', 'lachaise', 'craven', 'mortimer', 'sewell', 'saint', 'denis', 'portman', 'latin', 'depardieu', 'gazzara', 'arrondissement', 'muscle', 'saints', 'madman', 'fido', 'matrix', 'housewife', 'corleone', 'thump', 'installment', 'staff', 'mobster', 'ponder', 'remarkably', 'operator', 'intimate', 'bed', 'sin', 'authorship', 'sophia', 'saddle', 'emote', 'lovemaking', 'fondle', 'backside', 'kitchen', 'marionette', 'glenn', 'vinnie', 'thankless', 'platter', 'strengthen', 'families', 'someday', 'snooze', 'thirdly', 'task', 'duvall', 'hagen', 'underplay', 'assassination', 'hotel', 'penthouse', 'sicily', 'financial', 'shenanigan', 'unbalance', 'manipulation', 'sometime', 'indulgence', 'mop', 'batman', 'uneasy', 'vastly', 'differ', 'iconic', 'int', 'grayson', 'watergate', 'jimmy', 'venomous', 'serpent', 'cliffhanging', 'doc', 'bronze', 'pal', 'paperback', 'theatre', 'batter', 'fedora', 'adventurer', 'philanthropist', 'bleach', 'bulletproof', 'charlton', 'heston', 'clone', 'harm', 'virtual', 'incarnation', 'entourage', 'archaeologist', 'construction', 'engineer', 'invulnerable', 'kryptonite', 'dent', 'exude', 'geography', 'seas', 'walker', 'irish', 'nationality', 'hilton', 'marilyn', 'monroe', 'moll', 'untalented', 'drawback', 'tribe', 'dogfight', 'biplane', 'prone', 'afterthought', 'matinée', 'rumour', 'colgate', 'twinkle', 'caption', 'gung', 'patriotic', 'underling', 'pamela', 'er', 'assassin', 'yacht', 'snake', 'swirl', 'dispatch', 'electric', 'logo', 'mould', 'plastic', 'ensure', 'origin', 'suspicion', 'spring', 'zeus', 'optimistically', 'treck', 'merchandise', 'diehl', 'miami', 'vice', 'lifeguard', 'baywatch', 'thankful', 'shortly', 'shiver', 'spine', 'blob', 'pleasantly', 'gere', 'terry', 'misty', 'mundae', 'ruby', 'larocca', 'buyer', 'mysticism', 'pupil', 'instruct', 'thorough', 'fry', 'sec', 'jeez', 'morris', 'linear', 'bishop', 'hospital', 'recognise', 'patient', 'buildup', 'unveil', 'malone', 'gym', 'smoking', 'stylize', 'yep', 'bay', 'overlong', 'megan', 'robotic', 'initially', 'bankrupt', 'fondly', 'vhs', 'robo', 'nuclear', 'holocaust', 'outlaw', 'mano', 'representative', 'shogun', 'whichever', 'bot', 'marketplace', 'achilles', 'bout', 'maximum', 'dolph', 'lundgren', 'ivan', 'drago', 'violate', 'bargain', 'rematch', 'helmet', 'rules', 'titan', 'budgetary', 'constraint', 'assed', 'stuart', 'aurally', 'maslin', 'beach', 'nudist', 'adelaide', 'peninsula', 'copious', 'marcie', 'eliza', 'belonging', 'exploration', 'gail', 'bonnie', 'paula', 'collins', 'jenny', 'necklace', 'unofficial', 'aloud', 'variable', 'boon', 'aussie', 'carnal', 'sunset', 'factor', 'discomfort', 'pubescent', 'mills', 'tourism', 'sunny', 'distinctly', 'verite', 'cinemas', 'rash', 'experimentation', 'reputation', 'collector', 'internationally', 'critique', 'spectacle', 'catastrophe', 'opposition', 'jacques', 'orientation', 'understatement', 'proportion', 'romp', 'lunch', 'avenue', 'substance', 'meaningful', 'disorient', 'sogo', 'ishii', 'rave', 'fffc', 'mild', 'pertinent', 'blend', 'puke', 'hallway', 'unconventional', 'elitist', 'slop', 'ebert', 'virginity', 'emperor', 'indicative', 'trippy', 'kamikaze', 'inexplicably', 'third', 'beavis', 'mumble', 'mutter', 'volume', 'remote', 'behead', 'sweater', 'weirdo', 'aluminum', 'gunpoint', 'h', 'atlantis', 'trot', 'md', 'tomboy', 'mechanic', 'quirk', 'vinny', 'novello', 'fr', 'guido', 'sarducci', 'milo', 'thatch', 'giddily', 'perch', 'knee', 'pith', 'rourke', 'vocal', 'nimoy', 'dying', 'santorini', 'minimalism', 'snap', 'twine', 'pepper', 'runic', 'celtic', 'symbol', 'transliterate', 'eire', 'eireann', 'hibernia', 'viking', 'iceland', 'icy', 'mis', 'tranliterated', 'roman', 'inscription', 'journal', 'leviathan', 'atlantian', 'clairvoyance', 'astral', 'automatic', 'atlantians', 'comprehend', 'indo', 'converse', 'cataclysm', 'operate', 'machinery', 'illiteracy', 'kida', 'deification', 'kashakim', 'foolishness', 'handedly', 'killed', 'oversee', 'lava', 'robots', 'electricity', 'likeness', 'kings', 'gibberish', 'astrological', 'ripping', 'audrey', 'dome', 'liquid', 'appease', 'correctness', 'powersource', 'restore', 'coddle', 'cycle', 'lightning', 'ours', 'chasten', 'dime', 'raiders', 'seep', 'harold', 'robbins', 'technically', 'holland', 'katherine', 'hepburn', 'bochner', 'trashy', 'befit', 'sober', 'korean', 'americas', 'freeze', 'sergeant', 'ryker', 'sgt', 'select', 'defect', 'nations', 'invaluable', 'traitor', 'proof', 'capt', 'bradford', 'amos', 'courtroom', 'graves', 'murray', 'norman', 'fell', 'winkler', 'clerks', 'whitaker', 'dreck', 'mcavoy', 'observer', 'regrettable', 'passive', 'amin', 'irresponsible', 'lazy', 'dicaprio', 'scrawny', 'lick', 'pervy', 'kerry', 'arrogance', 'badass', 'bend', 'knot', 'accommodate', 'expansive', 'pension', 'rake', 'fuse', 'steel', 'explosive', 'twenty', 'consumer', 'roadster', 'noir', 'downwards', 'leech', 'bobby', 'psychopathic', 'reminiscent', 'pluto', 'extremis', 'trebor', 'franks', 'pansy', 'nudie', 'parlour', 'guffaw', 'heat', 'raimy', 'sociopathic', 'ennui', 'sheet', 'readout', 'motel', 'scheider', 'bullock', 'seagal', 'baddy', 'underdeveloped', 'scant', 'frankenheimer', 'erroneous', 'irs', 'bracket', 'sleaze', 'revolutionary', 'looter', 'lan', 'luise', 'rainer', 'consecutive', 'dutiful', 'muni', 'upward', 'mobility', 'inverse', 'slavery', 'accusation', 'misogyny', 'starvation', 'invasion', 'refugee', 'soup', 'bone', 'toss', 'hut', 'realist', 'fireman', 'extraordinary', 'rookie', 'vernacular', 'pfeiffer', 'emphasise', 'swish', 'reiner', 'amidst', 'lobby', 'eery', 'forlorn', 'neighbour', 'ordeal', 'enormous', 'rumble', 'tremble', 'mortally', 'wound', 'oblivious', 'banal', 'diary', 'cctv', 'coverage', 'rick', 'riefenstahl', 'drape', 'flag', 'ground', 'dubious', 'camerawork', 'alain', 'resnais', 'mon', 'whirlwind', 'swoon', 'intrude', 'thrust', 'responsibility', 'pond', 'dip', 'parents', 'trueness', 'individually', 'unfair', 'hopeful', 'cram', 'purportedly', 'patently', 'retell', 'rugged', 'hayward', 'charmian', 'pirate', 'yukon', 'correspondent', 'alfred', 'leading', 'lackadaisical', 'crummy', 'hissy', 'catalog', 'alpha', 'afghanistan', 'iraq', 'previously', 'boring', 'refund', 'homemade', 'correspond', 'marketable', 'degree', 'professionalism', 'excessive', 'frequent', 'gesture', 'oftentimes', 'abruptly', 'jar', 'relevance', 'shots', 'classically', 'preposterous', 'winningly', 'sarcastic', 'code', 'sagan', 'lessen', 'moreover', 'intentionally', 'kilter', 'counter', 'receptive', 'sarcasm', 'wartime', 'perry', 'croft', 'dads', 'windsor', 'colonel', 'hewlett', 'knowles', 'impersonator', 'gunner', 'beaumont', 'hayes', 'piano', 'parkins', 'eater', 'macdonald', 'percy', 'edwards', 'rangi', 'ram', 'bates', 'char', 'wallah', 'punkah', 'dino', 'catchphrase', 'proverb', 'posh', 'homophobic', 'watched', 'shut', 'shamble', 'delusion', 'leak', 'lucio', 'fulci', 'plentiful', 'bruno', 'mattei', 'schizophrenic', 'gleeful', 'adherence', 'impatient', 'undead', 'gutsy', 'limp', 'gardener', 'might', 'th', 'shoddy', 'stagnant', 'erratic', 'rebecca', 'saire', 'capulet', 'daytime', 'stagnate', 'coupled', 'ryecart', 'lightweight', 'friar', 'mercutio', 'rickman', 'micheal', 'convent', 'sadism', 'jewish', 'abraham', 'repent', 'crusade', 'nunsploitation', 'serbian', 'gypsy', 'kusturica', 'lola', 'daydream', 'momentarily', 'appreciation', 'enjoyment', 'waver', 'revert', 'bartender', 'crony', 'avenge', 'jewelry', 'tighten', 'aniston', 'antic', 'zap', 'crackle', 'tearfully', 'somber', 'elements', 'button', 'superbly', 'cynicism', 'natured', 'steam', 'moron', 'blackboard', 'pointy', 'potty', 'sicken', 'kindness', 'vulnerable', 'manson', 'fixation', 'unsatisfying', 'remedy', 'toronto', 'optimistic', 'tease', 'senior', 'citizen', 'anal', 'candle', 'molestation', 'seidl', 'hamper', 'croc', 'nerve', 'juvenile', 'tons', 'backseat', 'millionaire', 'playboy', 'relish', 'sly', 'dryly', 'valet', 'delicious', 'miraculous', 'rapport', 'deft', 'lively', 'mann', 'uncaring', 'kindly', 'tatum', 'brennan', 'corruption', 'dawson', 'calvet', 'flippen', 'gannon', 'mcintire', 'skagway', 'collect', 'miner', 'elect', 'gunman', 'madden', 'ambush', 'townspeople', 'sling', 'gunbelt', 'beside', 'symbolic', 'blaze', 'intrinsically', 'emblematic', 'geeky', 'humorless', 'carol', 'manning', 'caroline', 'munro', 'tormentor', 'ostensibly', 'compassion', 'rudely', 'maul', 'amongst', 'accompany', 'hardcore', 'dilemma', 'credibility', 'willaim', 'boyd', 'hopalong', 'cassidy', 'homespun', 'mythic', 'pander', 'legacy', 'throat', 'horseback', 'plainness', 'positively', 'gosh', 'campfire', 'cattle', 'urge', 'jealous', 'jaw', 'lounge', 'objectively', 'repercussion', 'dysfunctional', 'unresolved', 'fisherman', 'raymond', 'altman', 'exposition', 'poignantly', 'gabriel', 'byrne', 'hanging', 'thereby', 'desolate', 'weather', 'garment', 'arctic', 'jafar', 'lambert', 'hillyer', 'skimp', 'stewarts', 'fem', 'frances', 'drake', 'pathos', 'karloff', 'radium', 'melt', 'were', 'agatha', 'barry', 'fitzgerald', 'violet', 'qualm', 'respectful', 'recapture', 'maverick', 'xx', 'flyer', 'rom', 'com', 'hudson', 'mug', 'ah', 'divulge', 'atheist', 'kim', 'basinger', 'cybil', 'sheppard', 'quickie', 'cull', 'rampant', 'masquerade', 'neptune', 'chauvinistic', 'offensive', 'sheen', 'puppet', 'crab', 'harrow', 'seeker', 'gin', 'cigarette', 'caramel', 'chocolate', 'andie', 'organ', 'claptrap', 'symbolize', 'growth', 'mercy', 'outing', 'dishearten', 'carve', 'bloodletting', 'exec', 'garris', 'magically', 'flimsy', 'dedication', 'binge', 'frighteningly', 'stub', 'recompense', 'fifteen', 'compilation', 'mythical', 'henchwoman', 'vol', 'wholeheartedly', 'labyrinth', 'masters', 'outlandish', 'cg', 'characterisation', 'droppingly', 'tiempo', 'valientes', 'fist', 'admirable', 'madonna', 'profile', 'league', 'quirkiness', 'alec', 'guinness', 'err', 'laboratory', 'lab', 'textile', 'gough', 'cecil', 'greenwood', 'unexpectedly', 'expenditure', 'legally', 'intent', 'steward', 'tycoon', 'panic', 'suppress', 'calculation', 'suppression', 'owner', 'hypocrisy', 'profit', 'celebrity', 'scout', 'alonzo', 'ralphie', 'comedian', 'ethnicity', 'oxymoron', 'hassle', 'finnish', 'bum', 'sarah', 'happening', 'betroth', 'await', 'cardinal', 'roam', 'fantasize', 'bestiality', 'sandler', 'longest', 'rapper', 'inflection', 'dylan', 'mcdermott', 'overshadow', 'berate', 'relieve', 'crud', 'transparent', 'fundamentalist', 'recoup', 'paltry', 'pump', 'bus', 'multiplex', 'audacity', 'deem', 'shamelessly', 'sucker', 'mindset', 'rationality', 'simultaneously', 'vanish', 'fervently', 'trumpet', 'descend', 'realization', 'evangelist', 'martini', 'snuff', 'trail', 'stigma', 'periodically', 'undress', 'fetish', 'prurient', 'ka', 'akira', 'kurosawa', 'samurais', 'warlords', 'dweller', 'drunkard', 'beggar', 'tramp', 'stepfather', 'genus', 'addict', 'pitiful', 'therapist', 'rosanna', 'arquette', 'informative', 'shadowy', 'morrisey', 'woefully', 'anticlimactic', 'tramell', 'faithfully', 'caprica', 'prequel', 'battlestar', 'galactica', 'polly', 'clarice', 'syfy', 'lush', 'remnant', 'christianity', 'judaism', 'messiah', 'pedestal', 'ounce', 'madrid', 'spain', 'uncredited', 'user', 'mcqueen', 'meteorite', 'crater', 'unwisely', 'quietly', 'hallan', 'devour', 'earl', 'bert', 'unsurprisingly', 'fields', 'mooch', 'posse', 'theodore', 'inconsequential', 'yuck', 'payton', 'calmly', 'proclaim', 'reiterate', 'cole', 'coupe', 'rhys', 'swashbuckling', 'errol', 'flynn', 'persuasive', 'apocalyptic', 'environmental', 'unsettle', 'surpass', 'sf', 'unemployment', 'unhealthy', 'food', 'synthetic', 'soylent', 'eminent', 'tense', 'uncanny', 'grueling', 'robinson', 'supportive', 'abominable', 'nightmarish', 'boogers', 'spawn', 'reproduce', 'munchies', 'gremlins', 'disposal', 'badness', 'criterium', 'friends', 'requirement', 'gist', 'rub', 'betty', 'siege', 'alamo', 'independence', 'crockett', 'baldwin', 'col', 'travis', 'ogden', 'bernstein', 'rehearse', 'beverly', 'hill', 'feinstone', 'brooke', 'sadden', 'sutherland', 'bertrand', 'tavernier', 'criterion', 'screening', 'quintessential', 'folksy', 'wallop', 'stalwart', 'meek', 'memorably', 'meaty', 'prosecute', 'inexperienced', 'rigorous', 'humanistic', 'notably', 'lincoln', 'tackle', 'prisoner', 'veritable', 'incidentally', 'griffith', 'gladly', 'introvert', 'baleful', 'cedric', 'mismatch', 'mathieu', 'absence', 'carnival', 'subtitles', 'professionally', 'superfluous', 'starter', 'cafe', 'destiny', 'firstly', 'jayston', 'sorcha', 'rochester', 'had', 'zelah', 'favour', 'lowood', 'dig', 'manifestation', 'reno', 'cassel', 'tolkien', 'classical', 'framework', 'faithfulness', 'differently', 'fellowship', 'intact', 'hobbits', 'adequate', 'aragorn', 'squire', 'gandalf', 'amid', 'aura', 'wart', 'underground', 'collide', 'rotoscoped', 'retro', 'orc', 'surrounding', 'rotoscoping', 'hobbit', 'gollum', 'reduce', 'ambitious', 'spotty', 'dune', 'mordor', 'passionately', 'iago', 'smirk', 'bard', 'evilness', 'inherently', 'perennial', 'radar', 'drench', 'hoc', 'complementary', 'duo', 'improbable', 'jaded', 'supervisor', 'philander', 'cannavale', 'deduce', 'coin', 'deceptively', 'nutshell', 'alike', 'keenan', 'wayans', 'hills', 'vulgar', 'jacket', 'horizon', 'python', 'palace', 'francisco', 'harken', 'cagney', 'edwardian', 'firmly', 'elizabethan', 'mentality', 'stain', 'crescendo', 'snicker', 'moments', 'olivier', 'justly', 'claudius', 'monarch', 'impale', 'heroically', 'rapier', 'stud', 'overtake', 'unintended', 'curry', 'butler', 'bakery', 'purple', 'dinosaur', 'multiply', 'fold', 'fraction', 'summation', 'disgusting', 'incur', 'wrath', 'purist', 'programmer', 'fourty', 'unpretentious', 'oddness', 'exaggeration', 'palatable', 'carlson', 'makin', 'useless', 'mitchum', 'extrovert', 'frannie', 'vow', 'extremities', 'cheerful', 'lately', 'cinemax', 'caper', 'yum', 'schooler', 'jewison', 'cher', 'gardenia', 'lorenzo', 'broadway', 'stardom', 'hapless', 'iceberg', 'kudo', 'untrue', 'brontë', 'eyre', 'understandable', 'lecture', 'stoicism', 'premature', 'essence', 'clumsily', 'patch', 'injustice', 'amoral', 'literary', 'played', 'graceful', 'mature', 'wring', 'calm', 'rational', 'granddaughter', 'bannen', 'viciously', 'effortless', 'wrestler', 'hunters', 'nielsen', 'orient', 'novella', 'arnie', 'undertake', 'colonial', 'vignette', 'chocolat', 'outcome', 'backup', 'lmn', 'crucifix', 'cheryl', 'corin', 'nemec', 'austin', 'twang', 'expensive', 'capitol', 'dawn', 'september', 'prologue', 'succession', 'deadline', 'busby', 'berkeley', 'barty', 'toddler', 'keeler', 'plaster', 'powell', 'donnelly', 'invoke', 'geometry', 'startle', 'pretense', 'bacon', 'unquestionable', 'meteor', 'mitch', 'definition', 'aw', 'moustache', 'snack', 'venice', 'agreement', 'profession', 'indirectly', 'draggy', 'avail', 'stranger', 'ascend', 'poverty', 'prix', 'expressiveness', 'adept', 'lane', 'silverstone', 'expertise', 'adrian', 'mcelhone', 'argh', 'hatred', 'swallow', 'seals', 'gladiator', 'arena', 'shiny', 'pee', 'ashley', 'thief', 'bagdad', 'wondrous', 'korda', 'citadel', 'kingdom', 'preparation', 'demille', 'paramount', 'ingram', 'genie', 'interior', 'miklos', 'june', 'duprez', 'conrad', 'veidt', 'sorcerer', 'sabu', 'stable', 'arabian', 'nights', 'topple', 'alter', 'northern', 'protestant', 'captive', 'scenes', 'inaudible', 'glitches', 'ethel', 'enforce', 'harlow', 'eadie', 'wisecrack', 'missouri', 'hardy', 'censor', 'lionel', 'barrymore', 'paige', 'oughta', 'pitch', 'looks', 'showbiz', 'wizard', 'oz', 'nat', 'pendleton', 'olympic', 'medal', 'franchot', 'widescreen', 'downside', 'nypd', 'franz', 'closeup', 'ogle', 'congo', 'godzilla', 'ripoff', 'yeti', 'bigfoot', 'archeologist', 'datum', 'businessman', 'tcm', 'hedy', 'unintelligible', 'censorship', 'lyrical', 'sleepless', 'shipwreck', 'sloppy', 'playwright', 'raw', 'unedited', 'solitude', 'infatuated', 'dysfunction', 'rehabilitation', 'aesthetic', 'stealth', 'pardon', 'swipe', 'infiltrate', 'commandeer', 'enforcer', 'sands', 'detonate', 'afghan', 'undetected', 'jerky', 'understate', 'dizzy', 'amicus', 'specialist', 'anthology', 'omnibus', 'dripped', 'doubtlessly', 'admittedly', 'delightfully', 'cushing', 'denholm', 'ravish', 'ingrid', 'afford', 'rural', 'novelist', 'wax', 'sublime', 'nanny', 'employer', 'upbringing', 'nyree', 'porter', 'chloe', '4', 'henderson', 'jon', 'pertwee', 'carla', 'allusion', 'firecracker', 'robbery', 'nonchalantly', 'occurrence', 'maclean', 'montana', '20', 'tumble', 'minister', 'boys', 'concur', 'misfit', 'offset', 'gamble', 'homogenize', 'kindred', 'effervescence', 'seldom', 'redford', 'chicago', 'attain', 'epitome', 'consternation', 'unity', 'blinders', 'epigram', 'perseverance', 'yearn', 'outlook', 'precarious', 'recollection', 'sorrow', 'recipient', 'sermon', 'misunderstanding', 'decrepit', 'polarize', 'murky', 'desultory', 'prolific', 'bittersweet', 'rumination', 'merge', 'yawner', 'soo', 'ineptitude', 'brutality', 'cliffhangers', 'andrew', 'stevens', 'abysmal', 'hurl', 'doubtful', 'gypo', 'informer', 'judas', 'deanna', 'durbin', 'pasternak', 'polar', 'impulsive', 'setback', 'daring', 'mom', 'jeanette', 'jose', 'iturbi', 'disparate', 'shrill', 'emphatic', 'energetic', 'effervescent', 'instruction', 'publicize', 'stressful', 'assurance', 'demeanor', 'garland', 'immensely', 'coy', 'glorious', 'instrument', 'pons', 'creme', 'winninger', 'binnie', 'barnes', 'brady', 'milland', 'mischa', 'auer', 'grapes', 'charismatic', 'adolescent', 'loach', 'frenchman', 'faso', 'muster', 'widely', 'roach', 'scurry', 'dogma', 'tent', 'analogy', 'casper', 'dien', 'nevada', 'translator', 'assist', 'mummify', 'resurrect', 'ritual', 'fishbourne', 'appendix', 'examination', 'wright', 'nintendo', 'peach', 'bowser', 'castle', 'lets', 'toad', 'alliance', 'luigi', 'boo', 'gameplay', 'growing', 'jolly', 'peaceful', 'touching', 'interaction', 'madhur', 'bhandarkar', 'glam', 'intrinsic', 'voyeuristic', 'streak', 'deplorable', 'encroach', 'debate', 'mechanism', 'crashers', 'newly', 'socialite', 'authoress', 'sketch', 'therein', 'sen', 'sharma', 'madhavi', 'underbelly', 'cosmetic', 'editor', 'passively', 'cog', 'suffocate', 'homosexual', 'assimilate', 'manoj', 'datta', 'brim', 'ditto', 'boman', 'sandhya', 'mridul', 'atul', 'kulkarni', 'underwrite', 'incorporate', 'homosexuality', 'satiate', 'sect', 'ravage', 'sincerity', 'finesse', 'abhishek', 'hurts', 'sofa', 'officially', 'nap', 'amputate', 'damsel', 'distress', 'hostel', 'chainsaw', 'isolation', 'nutcase', 'wholesome', 'smack', 'abrupt', 'widespread', 'misconception', 'administrator', 'governor', 'recruit', 'schools', 'aristocracy', 'tutor', 'governess', 'mac', 'chatter', 'bruise', 'embassy', 'vicariously', 'victory', 'ruthlessly', 'allegory', 'flourish', 'schoolboy', 'buck', 'furthermore', 'malign', 'poem', 'airbrush', 'sailor', 'evaluation', 'disclose', 'trauma', 'familial', 'cybill', 'shepherd', 'versus', 'bandwagon', 'aide', 'mighty', 'lapse', 'passable', 'mall', 'harass', 'thug', 'rid', 'toolbox', 'politically', 'caucasian', 'hysterically', 'hoodlum', 'amanda', 'tapping', 'replacement', 'rda', 'dismay', 'utterance', 'lid', 'prospect', 'bearable', 'tactical', 'jeopardy', 'markedly', 'claudia', 'stargate', 'breathe', 'spaceship', 'pyramid', 'monstrosity', 'torch', 'illumination', 'decor', 'egypt', 'uniform', 'sarcophagus', 'heal', 'sgc', 'wwi', 'torpedo', 'bulldozer', 'assorted', 'cringe', 'olsen', 'twin', 'referee', 'overtime', 'foresee', 'dopey', 'mandy', 'sports', 'mommy', 'suzanna', 'kitten', 'loren', 'ratio', 'waist', 'splendidly', 'thigh', 'ankle', 'idealize', 'butt', 'undo', 'curve', 'rear', 'towel', 'tub', 'blindfold', 'bikini', 'flirtation', 'horniness', 'pathological', 'impulse', 'latina', 'housekeeper', 'televise', 'uber', 'nordic', 'reconcile', 'vida', 'rio', 'reform', 'promptly', 'overuse', 'eyeball', 'beret', 'used', 'overweight', 'guitarist', 'creator', 'lyman', 'contractually', 'obligate', 'hazy', 'tsunami', 'anton', 'courtney', 'jonestown', 'dandy', 'warhols', 'bjm', 'gig', 'bash', 'alcohol', 'consume', 'depression', 'musically', 'ondi', 'timoner', 'friggin', 'akshay', 'u', 'jackass', 'kumar', 'versatility', 'candoli', 'conte', 'nightclub', 'duet', 'duning', 'stooges', 'warlock', 'remains', 'flashlight', 'hoard', 'mushed', 'uphill', 'inherent', 'scope', 'similarly', 'precision', 'pervasive', 'stuffy', 'marine', 'corps', 'guadalcanal', 'adviser', 'promisingly', 'anita', 'digger', 'penury', 'fastidious', 'blithely', 'alternatively', 'permit', 'handkerchief', 'foolish', 'contrivance', 'ridicule', 'consent', 'remove', 'stealing', 'offense', 'neurotic', 'anxiety', 'newborn', 'cylinder', 'coop', 'jilt', 'teller', 'nicolas', 'culp', 'agency', 'client', 'mouse', 'fragata', 'ash', 'luc', 'penguins', 'bertille', 'noël', 'bruneau', 'badger', 'muck', 'snow', 'litter', 'bubbly', 'undeniably', 'winslet', 'aesthetically', 'filmy', 'upendra', 'limaye', 'dial', 'joshi', 'tara', 'excel', 'rapid', 'gideon', 'firefighters', 'fledge', 'seeking', 'engine', 'naudets', 'sift', 'benetakos', 'firehouse', 'vet', 'unthinkable', 'detector', 'grate', 'upwards', 'airlines', 'smash', 'manhattan', 'arduous', 'injure', 'selfless', 'pavement', 'flame', 'sensationalistic', 'evacuate', 'chaplain', 'fallout', 'structural', 'breathtakingly', 'separately', 'hug', 'embrace', 'fearful', 'sombre', 'bravery', 'perish', 'heroism', 'dribble', 'basketball', 'hasselhoff', 'felix', 'unger', 'lemmon', 'madison', 'walther', 'bachelor', 'paradise', 'alimony', 'chat', 'helpless', 'told', 'repartee', 'mathau', 'slob', 'royalty', 'strawberry', 'tart', 'juicy', 'swarm', 'begrudgingly', 'sear', 'fleischer', 'hospitalise', 'linderby', 'medic', 'tribal', 'continent', 'chopper', 'customary', 'rightfully', 'seller', 'entitle', 'anguish', 'c', 'spencer', 'gf', 'kristi', 'uniformly', 'port', 'spew', 'depressingly', 'corman', 'chock', 'info', 'span', 'compile', 'lsd', 'jung', 'depp', 'marijuana', 'cocaine', 'practice', 'rainbow', 'weaken', 'better', 'yank', 'crank', 'hunger', 'alcoholism', 'economic', 'devastation', 'systematic', 'societal', 'homelessness', 'cliched', 'drifter', 'ranch', 'zealand', 'regan', 'hers', 'terence', 'hesitant', 'aidan', 'jared', 'satisfaction', 'years', 'daves', 'garfield', 'foxhole', 'eerily', 'tonight', 'grenade', 'coincidence', 'denial', 'blindness', 'ache', 'ghetto', 'republic', 'resilient', 'pedro', 'guevarra', 'castro', 'victimize', 'barman', 'belgian', 'dirk', 'dtv', 'belle', 'jaq', 'gus', 'cinderella', 'anastasia', 'stepsister', 'lucifer', 'incidental', 'tchaikovsky', 'cuteness', 'unoriginal', 'bethany', 'cox', 'plant', 'itchy', 'icky', 'katsu', 'swordsman', 'hanzo', 'treasury', 'swordplay', 'briggs', 'cinematographer', 'josie', 'rodney', 'bennet', 'filler', 'skinhead', 'kissy', 'rhyme', 'tee', 'footnote', 'socket', 'mobile', 'youtube', 'betcha', 'bra', 'astaire', 'fontaine', 'manor', 'suitor', 'keggs', 'gardiner', 'bratty', 'sabotage', 'wodehouse', 'gracie', 'ditzy', 'foggy', 'gershwin', 'exceptional', 'meander', 'solo', 'dancing', 'groener', 'rotate', 'barrel', 'repetitious', 'looking', 'prance', 'croon', 'misuse', 'dour', 'elope', 'prolong', 'balcony', 'conveniently', 'trapeze', 'travolta', 'honkeytonk', 'redneck', 'sissy', 'debra', 'winger', 'gilley', 'went', 'boogie', 'rocks', 'theft', 'knowingly', 'hatch', 'implement', 'misdirection', 'unplanned', 'climatic', 'mia', 'kirshner', 'undergraduate', 'hadley', 'meredith', 'respectively', 'sheridan', 'taye', 'diggs', 'setup', 'swain', 'residence', 'furnish', 'comatose', 'motionless', 'dismiss', 'styx', 'crust', 'frumpy', 'jackman', 'rifle', 'covet', 'winchester', 'quarry', 'namely', 'mcnally', 'dan', 'duryea', 'millard', 'heartthrob', 'cod', 'slapdash', 'holly', 'exploitative', 'epidemic', 'netherlands', 'returns', 'phantasm', 'dracula', 'binder', 'cheadle', 'breakout', 'drunk', 'dustin', 'autistic', 'traumatize', 'nuanced', 'damon', 'jada', 'pinkett', 'saffron', 'burrows', 'reign', 'battery', 'priceless', 'phoney', 'tawdry', 'thinly', 'disguise', 'warden', 'tina', 'rejoice', 'wendy', 'joanna', 'distinctive', 'sterile', 'employee', 'management', 'longman', 'le', 'farrell', 'reclusive', 'trendy', 'hodge', 'continually', 'colleague', 'undoubted', 'browse', 'thirteen', 'sons', 'roosevelt', 'approximately', 'stoddard', 'boisterous', 'tr', 'disrupt', 'flirtatious', 'forerunner', 'decorum', 'galaxy', 'rintaro', 'leiji', 'publish', 'matsumoto', 'wars', 'harlock', 'unidentified', 'tetsurô', 'cruel', 'mecha', 'maetel', 'october', 'masako', 'boyhood', 'manhood', 'puberty', 'devotion', 'shell', 'metropolis', 'chunk', 'pic', 'besiege', 'reptile', 'sfx', 'montgomery', 'bronson', 'unscathed', 'turf', 'versa', 'chess', 'distrust', 'outtakes', 'walken', 'blink', 'roberts', 'beals', 'ethan', 'trapping', 'tango', 'audacious', 'precisely', 'scriptures', 'legitimacy', 'baptize', 'baptist', 'believer', 'peek', 'jerusalem', 'blessed', 'magdalene', 'parable', 'resurrection', 'shady', 'marco', 'forthcoming', 'changeling', 'circa', 'quarrel', 'bridgers', 'unleash', 'tenant', 'neighborhood', 'dillon', 'shelli', 'ryan', 'smartly', 'outweigh', 'buoy', 'magrath', 'dern', 'wedge', 'subjective', 'upside', 'backyard', 'harmful', 'inflict', 'lovingly', 'surrogate', 'woodward', 'waster', 'unsuspecting', 'renter', 'standpoint', 'closely', 'wavelength', 'fassbinder', 'haje', 'wasteland', 'protector', 'elias', 'rubble', 'cyborgs', 'scrap', 'katt', 'galligan', 'bounty', 'whiny', 'predecessor', 'aggressively', 'competently', 'venoms', 'shaw', 'skeletal', 'deficiency', 'hurray', 'gackt', 'sho', 'kei', 'taro', 'yamamoto', 'royale', 'hyde', 'aloof', 'hom', 'pave', 'bonus', 'coerce', 'offender', 'babbage', 'flock', 'vigilante', 'comer', 'allison', 'puppy', 'astray', 'narrow', 'awol', 'verdict', 'starz', 'bomber', 'segal', 'snakes', 'eighties', 'turgid', 'nod', 'gregory', 'disservice', 'boundary', 'nomadic', 'swindle', 'treacherous', 'predatory', 'breaker', 'overnight', 'destructive', 'alley', 'tepid', 'hairdo', 'dish', 'desk', 'wrack', 'milk', 'nerdy', 'slashings', 'defunct', 'carpenter', 'cement', 'rhythm', 'jc', 'cody', 'slo', 'mo', 'scully', 'hurtle', 'abortion', 'fender', 'clinic', 'nitpick', 'rib', 'telephone', 'perlman', 'easter', 'lunatic', 'dc', 'wham', 'bam', 'whiz', 'daddy', 'abstraction', 'dislikeable', 'wallpaper', 'rail', 'mst', 'angelica', 'glue', 'rugby', 'rosemary', 'appreciable', 'permissive', 'homecoming', 'mckee', 'ownership', 'frantically', 'seclusion', 'radioactive', 'breakthrough', 'summon', 'rukh', 'weakling', 'trophy', 'heel', 'horn', 'deer', 'embark', 'benet', 'radiation', 'adulteress', 'chambermaid', 'tracy', 'bloodless', 'warren', 'beatty', 'ace', 'caprice', 'seductive', 'breathless', 'mahoney', 'advancement', 'shit', 'malden', 'streets', 'maggie', 'invest', 'launder', 'unintelligent', 'clay', 'wallace', 'archive', 'bathtub', 'warners', 'talkie', 'irene', 'technicolor', 'werewolf', 'kane', 'hodder', 'simplify', 'dispense', 'lamarr', 'dreyer', 'bourgeois', 'timid', 'impotent', 'productive', 'kit', 'lynde', 'rivers', 'karen', 'har', 'doris', 'loves', 'outcast', 'barn', 'blows', 'longtime', 'conscience', 'esai', 'morales', 'gil', 'supposed', 'rhetoric', 'spout', 'campbell', 'zoe', 'hernandez', 'moynahan', 'drone', 'reconsider', 'petition', 'clutter', 'holcomb', 'kansas', 'november', 'truman', 'touchstone', 'filmed', 'distaste', 'hickock', 'centerpiece', 'deliberation', 'given', 'trivial', 'anvil', 'cargo', 'modestly', 'pc', 'mod', 'net', 'jiggle', 'forbidden', 'benchmark', 'hmmm', 'robby', 'solicitor', 'kidd', 'coastal', 'gifford', 'widow', 'mrs', 'drablow', 'swamp', 'tide', 'marsh', 'whelm', 'goose', 'tingle', 'disquiet', 'psychologically', 'characterise', 'fragile', 'randomness', 'moran', 'marvelously', 'rawlins', 'clare', 'plight', 'herbert', 'fabricate', 'secretive', 'smoothly', 'masterfully', 'feat', 'stimulate', 'spook', 'regime', 'aleksei', 'restless', 'andrei', 'judith', 'hometown', 'haddonfield', 'strode', 'bookworm', 'brackett', 'lynda', 'der', 'vigorous', 'enlist', 'leigh', 'soulless', 'lighting', 'materialize', 'voorhees', 'landmark', 'allot', 'crown', 'mira', 'nair', 'alejandro', 'gonzález', 'iñárritu', 'youssef', 'chahine', 'stance', 'collective', 'sergio', 'martino', 'giallo', 'colors', 'locked', 'peculiar', 'investigator', 'greece', 'gialli', 'denouement', 'muse', 'edwige', 'fenech', 'supreme', 'strindberg', 'deluxe', 'creak', 'cohesion', 'discredit', 'uninteresting', 'reconstruction', 'thailand', 'treason', 'accuracy', 'asia', 'rated', 'quebec', 'gangsta', 'chasing', 'amy', 'zilch', 'nada', 'shlock', 'ya', 'coulda', 'ee', 'carnivorous', 'cutesy', 'carlos', 'mencia', 'bestow', 'unmitigated', 'stultify', 'idyllic', 'income', 'shutter', 'goldberg', 'thieve', 'heist', 'archetype', 'cracker', 'apprehend', 'added', 'widmark', 'peters', 'thelma', 'mono', 'pickpocket', 'inadvertently', 'microfilm', 'possession', 'communists', 'ritter', 'informant', 'floozy', 'beep', 'lever', 'joyride', 'verhoeven', 'goldsmith', 'eszterhas', 'substitute', 'razzie', 'angels', 'outfield', 'miracle', 'orchestrate', 'plate', 'nitpicking', 'yvonne', 'munsters', 'bonanza', 'pernell', 'landon', 'blocker', 'wanted', 'harmony', 'hijinks', 'hoss', 'patriarch', 'delinquency', 'hawaii', 'mischief', 'topical', 'flavor', 'dilute', 'dement', 'homework', 'anglo', 'saxon', 'xavier', 'sway', 'lukewarm', 'ethic', 'stockbroker', 'twit', 'shrunk', 'kids', 'franchise', 'blew', 'hershey', 'syrup', 'ketchup', 'spurt', 'lines', 'county', 'nielson', 'morbius', 'decipher', 'krell', 'speculation', 'warp', 'courtesy', 'saucer', 'starship', 'conception', 'timeless', 'mortal', 'lease', 'holliman', 'comply', 'commandments', 'founder', 'tempest', 'venture', 'jumpy', 'fraidy', '9', 'juice', 'recycle', 'sheila', 'underwear', 'teleport', 'sixth', 'electrocute', 'featuring', 'palance', 'fisticuffs', 'diverse', 'secrets', 'lies', 'spur', 'disastrous', 'routinely', 'likeable', 'grass', 'disarray', 'doodle', 'upbeat', 'jolson', 'rewrite', 'extensively', 'anticipate', 'roland', 'fiasco', 'silents', 'variation', 'edgar', 'poe', 'cask', 'suffice', 'april', 'repressive', 'portugal', 'gunfire', 'unarmed', 'protest', 'headquarter', 'salgueiro', 'maia', 'disobey', 'holes', 'stanley', 'yelnats', 'emmy', 'going', 'strait', 'bin', 'sleepy', 'worser', 'sweden', 'mckenzie', 'satirical', 'humphries', 'bazza', 'lanky', 'fosters', 'lager', 'neighbours', 'edna', 'dame', 'sydney', 'tow', 'hong', 'import', 'suitcase', 'fleece', 'crafty', 'taxi', 'driver', 'spear', 'landlord', 'milligan', 'aussies', 'pervert', 'spank', 'vomit', 'bakewell', 'urinate', 'daisy', 'zest', 'unmistakable', 'euphemism', 'porcelain', 'technicolour', 'bentley', 'presenter', 'holds', 'dundee', 'frenzy', 'unemployed', 'hk', 'shu', 'qi', 'oriental', 'rove', 'wong', 'photogenic', 'hugely', 'daft', 'contempt', 'uncover', 'agendum', 'turd', 'victoria', 'coronation', 'transpire', 'radiant', 'rupert', 'broadbent', 'marc', 'vallee', 'fellowes', 'gosford', 'designer', 'jill', 'bilcock', 'pg', 'mpaa', 'sensuality', 'enchantment', 'delicate', 'godmother', 'chap', 'tremaine', 'stepmother', 'drizella', 'snobbish', 'devilish', 'eleanor', 'verna', 'majestic', 'colossal', 'primitive', 'frenzied', 'wagnerian', 'ballad', 'grable', 'shade', 'continental', 'rita', 'hayworth', 'anyhow', 'deputy', 'rebroadcast', 'worlds', 'mishap', 'haphazard', 'bean', 'distraction', 'vulnerability', 'finerman', 'repression', 'consequent', 'lifestyle', 'persist', 'knack', 'grain', 'scatter', 'outwardly', 'esquire', 'wig', 'pearl', 'jam', 'incite', 'expedient', 'secular', 'autobiographical', 'flannery', 'southerner', 'devout', 'redemption', 'outrageous', 'zealot', 'judgment', 'preconception', 'gilligan', 'saturate', 'prose', 'silliness', 'clockwork', 'mockery', 'stripe', 'pole', 'renard', 'noel', 'postcard', 'embroil', 'bawl', 'resent', 'grodin', 'neurosis', 'stimulation', 'hestons', 'diabolically', 'ie', 'parricide', 'caesar', 'dalton', 'luxurious', 'tastefully', 'decorate', 'strikes', 'acquaintance', 'saying', 'hardship', 'peasant', 'famine', 'persistent', 'descent', 'brazilian', 'regional', 'sao', 'paulo', 'dramatize', 'kills', 'anorexic', 'bulimic', 'anytime', 'katie', 'marley', 'shelton', 'peck', 'sheilah', 'deborah', 'kerr', 'sordid', 'histrionic', 'swell', 'laughably', 'bunk', 'suave', 'salacious', 'glossy', 'nell', 'taking', 'boyer', 'cosmopolitan', 'rudolf', 'sp', 'ava', 'empress', 'elisabeth', 'fittingly', 'nominee', 'café', 'silently', 'mannequin', 'supermarket', 'unbeatable', 'shortness', 'modesty', 'blaise', 'alexandra', 'staden', 'waldau', 'pearson', 'lob', 'belgium', 'chaos', 'mickey', 'sociopath', 'untouchable', 'undiscovered', 'plausibly', 'converge', 'porch', 'forbes', 'earley', 'known', 'unacceptable', 'bulletin', 'unrated', 'mesmerise', 'parter', 'pat', 'morita', 'loveable', 'leno', 'primal', 'species', 'liven', 'peggy', 'boone', 'scarf', 'commissary', 'meal', 'dine', 'dell', 'tinseltown', 'sensation', 'ralli', 'vidor', 'hart', 'chaplin', 'autograph', 'episodic', 'derail', 'invariably', 'arise', 'hooks', 'sparse', 'keyboard', 'whodunnit', 'czech', 'corporate', 'hoax', 'wal', 'mart', 'replete', 'makeshift', 'charade', 'advertiser', 'declaim', 'unethical', 'deception', 'arrow', 'classless', 'gullible', 'alecky', 'graciousness', 'satellite', 'financially', 'marcello', 'mastroianni', 'delirious', 'millennium', 'eighteen', 'harlem', 'almighty', 'liar', 'que', 'sakura', 'killers', 'golf', 'bulb', 'briskly', 'incline', 'rightful', 'coincidentally', 'cowardly', 'westerns', 'integral', 'absurdist', 'bites', 'sullen', 'michel', 'perpetually', 'pigeon', 'callous', 'nobel', 'smut', 'poet', 'sender', 'ensue', 'supremely', 'sack', 'richie', 'revolver', 'statham', 'ridiculously', 'ott', 'liotta', 'andre', 'beethoven', 'moonlight', 'assignment', 'craze', 'colleen', 'dodson', 'comeback', 'cahill', 'approve', 'lumber', 'brendan', 'gleeson', 'disinterested', 'working', 'egotistical', 'temporary', 'protester', 'cheeky', 'doyle', 'kennedy', 'voight', 'garda', 'involvement', 'guinea', 'pig', 'banshee', 'maggot', 'wince', 'installation', 'extinguisher', 'cruise', 'impart', 'gleefully', 'corn', 'termite', 'eternally', 'fudd', 'soil', 'yen', 'sweetheart', 'resume', 'playmate', 'glenda', 'gray', 'kitty', 'holm', 'telling', 'consideration', 'stature', 'buoyant', 'slump', 'fin', 'molest', 'excoriate', 'considering', 'clive', 'copycat', 'unpredictable', 'diamond', 'lump', 'roadkill', 'piper', 'underrated', 'goodbye', 'carnage', 'least', 'stern', 'dv', 'heed', 'carnosaur', 'dinos', 'freezer', 'floppy', 'raptor', 'mph', 'wiggle', 'fakeness', 'warehouse', 'carnosaurs', 'tickle', 'stooge', 'bc', 'uninformed', 'buffoon', 'frequency', 'flaherty', 'sctv', 'rheostatics', 'quarrington', 'desmond', 'transfered', 'lance', 'barton', 'wellington', 'madagascar', 'weary', 'corrigan', 'tobin', 'miles', 'patricia', 'cutter', 'coroner', 'tattoo', 'pretension', 'loathe', 'morose', 'bailey', 'works', 'misses', 'wholesale', 'norris', 'cocky', 'tung', 'terrorism', 'interchangeable', 'warrant', 'alysons', 'michalka', 'stink', 'examine', 'skewer', 'loom', 'manufacturer', 'amiable', 'unhinged', 'creepiness', 'splashy', 'fearsome', 'exuberant', 'elvira', 'cassandra', 'peterson', 'haunted', 'uptight', 'falwell', 'noteworthy', 'inheritance', 'rundown', 'cookbook', 'poodle', 'recipe', 'concoct', 'boob', 'grateful', 'bonkers', 'stake', 'rodriguez', 'needle', 'courageous', 'gave', 'gladys', 'draftee', 'alvin', 'stride', 'roaring', 'twenties', 'fairytale', 'stardust', 'retrieve', 'affable', 'gervais', 'fertile', 'mythology', 'raising', 'vargas', 'publicity', 'sollett', 'tenet', 'pirates', 'supervise', 'blu', 'execs', 'louisiana', 'yakuza', 'morally', 'realm', 'unflinching', 'burden', 'eccentricity', 'squeamish', 'julian', 'drool', 'uneventful', 'rife', 'spectacularly', 'orchestral', 'youngster', 'verge', 'jessie', 'matthews', 'demure', 'bing', 'waltz', 'countryside', 'trooper', 'gamut', 'done', 'judging', 'announcement', 'tommy', 'appropriately', 'robotboy', 'happened', 'verbatim', 'phobia', 'bundle', 'guidance', 'cynic', 'kitsch', 'discern', 'salon', 'indifferent', 'miserable', 'queue', 'metro', 'tiff', 'perversely', 'fanny', 'ardent', 'junky', 'sherry', 'migrant', 'margin', 'paramedic', 'statistic', 'colorado', 'recount', 'lowly', 'débutante', 'meadow', 'leon', 'phelps', 'fend', 'ladies', 'bike', 'suo', 'penguin', 'cabinet', 'caligari', 'ecstasy', 'vatican', 'condone', 'emil', 'triumphant', 'outstandingly', 'paean', 'assessment', 'insignificant', 'lifeforce', 'mutual', 'virile', 'rejection', 'recuperate', 'collectively', 'ongoing', 'virginal', 'distort', 'kiesler', 'hypocrites', 'hula', 'griffiths', 'erroneously', 'oppression', 'secondly', 'woo', 'thicken', 'feels', 'eartha', 'kitt', 'forrest', 'whittaker', 'manos', 'hands', 'hobgoblins', 'mutiny', 'couch', 'devils', 'forgiveness', 'gable', 'deeds', 'goes', 'prehistoric', 'fable', 'homily', 'fray', 'ang', 'hoof', 'covering', 'endgame', 'militia', 'panorama', 'strife', 'bearer', 'appoint', 'admirably', 'jeffrey', 'liberate', 'maxim', 'apt', 'naysayer', 'pathetically', 'deadpan', 'wickedly', 'aimlessly', 'overstate', 'telescope', 'episodes', 'activate', 'inaccurate', 'algerian', 'tunisia', 'eloquent', 'personage', 'disgraceful', 'disrespectful', 'shirley', 'brings', 'overflow', 'depressing', 'exploding', 'sniff', 'daisies', 'pie', 'pushing', 'awards', 'unfeeling', 'elicit', 'bret', 'carr', 'bravo', 'perverse', 'convolution', 'coffin', 'square', 'spruce', 'investment', 'unnatural', 'stellar', 'goldsworthy', 'gallery', 'meditation', 'ambient', 'experimental', 'texture', 'proficient', 'taunt', 'tobe', 'hooper', 'commenter', 'erotica', 'sade', 'englund', 'trilling', 'wast', 'snowy', 'reinvent', 'wheel', 'burlinson', 'sigrid', 'thornton', 'corset', 'dennehy', 'alistair', 'patton', 'nicholas', 'stallion', 'laconic', 'grit', 'konvitz', 'ferrer', 'eli', 'wallach', 'burgess', 'matte', 'nyatta', 'nyaako', 'rebirth', 'hansel', 'timm', 'dini', 'animated', 'matsuda', 'batwoman', 'meantime', 'thorn', 'carlton', 'smuggle', 'circus', 'conroy', 'click', 'btas', 'harbor', 'shohei', 'imamura', 'inarritu', 'samira', 'makhmalbaf', 'unsuccessfully', 'idrissa', 'ouedraogo', 'laden', 'chile', 'allende', 'pinochet', 'install', 'kissinger', 'hijack', 'wtc', 'aviv', 'lelouch', 'danis', 'tanovic', 'srebrenica', 'borgnine', 'widower', 'ole', 'lou', 'heartbeat', 'ignorance', 'russia', 'forensic', 'chikatilo', 'lambs', 'erroll', 'monitor', 'jurisdiction', 'retirement', 'deviant', 'fierce', 'worried', 'disgusted', 'meticulous', 'trample', 'wayside', 'privy', 'royston', 'vasey', 'fantastically', 'wicker', 'incessant', 'kavner', 'garry', 'rattle', 'chute', 'dimly', 'persecute', 'furlong', 'christina', 'ricci', 'charisma', 'hobby', 'pecker', 'drastically', 'waters', 'geez', 'mercenary', 'busey', 'askew', 'armstrong', 'thalmus', 'rasulala', 'intellectually', 'wing', 'irresistibly', 'theirs', 'factual', 'bio', 'argentinian', 'franka', 'phase', 'idealism', 'accomplice', 'consciously', 'taint', 'chest', 'shallowness', 'disinterest', 'wearing', 'simpson', 'marge', 'mankind', 'stalin', 'mao', 'il', 'milosevic', 'iron', 'tableau', 'stolen', 'painting', 'courtyard', 'devote', 'impressionist', 'painter', 'narrator', 'recite', 'doorway', 'indescribable', 'indicator', 'figurine', 'faceless', 'dense', 'mischievous', 'bauer', 'superstore', 'fulfil', 'obligation', 'outlive', 'usefulness', 'maher', 'keenly', 'intellect', 'interviewee', 'assertion', 'naivety', 'nauseatingly', 'gospel', 'historian', 'bray', 'doubly', 'mule', 'peace', 'islam', 'tragically', 'serene', 'respite', 'brothel', 'govern', 'tooooo', 'sooooo', 'anjelica', 'loggia', 'interminable', 'intersperse', 'rolling', 'stones', 'acoustic', 'valiantly', 'ramones', 'campiness', 'justifiably', 'fascist', 'eggs', 'quentin', 'nuke', 'dallas', 'morena', 'raider', 'brow', 'firefly', 'stan', 'ollie', 'wayward', 'laurel', 'mavens', 'finlayson', 'cramer', 'perplex', 'clerk', 'berserk', 'banana', 'enact', 'slaughterhouse', 'jokey', 'toenail', 'toxic', 'capitalize', 'disneyfied', 'scapegoat', 'assess', 'mussolini', 'antonietta', 'offspring', 'cancer', 'repress', 'awareness', 'doctrine', 'surviving', 'shovel', 'affleck', 'besmirch', 'latham', 'inculcate', 'outset', 'fifty', 'surly', 'valco', 'dishevel', 'christine', 'zuckerman', 'applegate', 'fraught', 'overt', 'blindly', 'semblance', 'barb', 'tangle', 'deuce', 'bigalow', 'gigolo', 'nuff', 'mettle', 'fiery', 'scathingly', 'carcass', 'schneider', 'berkley', 'commonplace', 'barbie', 'keats', 'reptilian', 'distortion', 'priestly', 'breakfast', 'panda', 'bernie', 'hitch', 'mchattie', 'waxman', 'swimsuit', 'debbie', 'rochon', 'headlight', 'constable', 'faulty', 'definately', 'flap', 'brake', 'obsolete', 'boringly', 'scarcely', 'presume', 'zebra', 'infection', 'traverse', 'essex', 'slimey', 'kicks', 'podge', 'dolls', 'fellini', 'horny', 'majors', 'creep', 'splice', 'eddy', 'chatty', 'evoke', 'swap', 'hallucination', 'hilarity', 'quatermass', 'intertwine', 'nightly', 'samuel', 'swine', 'dom', 'deluise', 'dessicated', 'thirst', 'pharaoh', 'regal', 'lingo', 'excrement', 'flush', 'guarantee', 'soar', 'throne', 'pawn', 'ruler', 'restraint', 'desperation', 'momentum', 'delve', 'limbo', 'noticeably', 'grader', 'embarrassingly', 'keanu', 'diehard', 'feasible', 'unsolved', 'scanner', 'renaissance', 'offs', 'craig', 'alibi', 'criticise', 'cripple', 'ironical', 'undistinguished', 'gaslight', 'diaboliques', 'dire', 'robertson', 'judy', 'flora', 'robson', 'sculptor', 'concho', 'gunfighter', 'coward', 'backbone', 'malevolence', 'incarnate', 'noon', 'corky', 'spoons', 'palm', 'trigger', 'encompass', 'pitfall', 'solitary', 'cédric', 'outgoing', 'distraught', 'cloak', 'counterpoint', 'temporal', 'capacity', 'gael', 'incredulous', 'une', 'fois', 'et', 'gilles', 'clara', 'lago', 'steady', 'semester', 'comprehensive', 'scholar', 'elbow', 'index', 'extraordinarily', 'jeffery', 'demunn', 'stifle', 'incompetence', 'frustration', 'uncompromisingly', 'rea', 'incomparable', 'sydow', 'bureaucrat', 'supporter', 'staunton', 'bleakness', 'lade', 'sensationalism', 'ghastly', 'pathologically', 'perpetrate', 'vent', 'dialect', 'headache', 'stylistic', 'ruthless', 'inexcusable', 'oft', 'genetic', 'snowman', 'sorvino', 'shenk', 'gramps', 'underscore', 'reincarnate', 'reincarnation', 'sim', 'scrooge', 'metamorphosis', 'aways', 'reek', 'delta', 'paid', 'muppet', 'retract', 'babies', 'melodies', 'showstopper', 'sesame', 'kermit', 'shields', 'hines', 'rizzo', 'henson', 'infest', 'medieval', 'checklist', 'purgatory', 'karma', 'uncharismatic', 'stereoscopic', 'download', 'vd', 'ayers', 'burlesque', 'stripper', 'whorehouse', 'abbott', 'costello', 'physique', 'sid', 'melton', 'redo', 'rollicking', 'frontier', 'tinkle', 'contradiction', 'hyperactive', 'southwest', 'libidinal', 'whitewash', 'scoundrel', 'specification', 'invitation', 'reformer', 'benito', 'juarez', 'farewell', 'einmal', 'reproduction', 'discreet', 'infect', 'circulation', 'oxygen', 'ballistic', 'daredevil', 'cradle', 'zhu', 'warriors', 'heartedness', 'superhuman', 'spire', 'missile', 'directness', 'trainwreck', 'stutter', 'orphanage', 'temporarily', 'innovative', 'merrill', 'dissertation', 'frederick', 'douglass', 'culminate', 'drums', 'mohawk', 'stagecoach', 'seahunt', 'chandler', 'tenement', 'lavish', 'procedure', 'uncontrollable', 'lawless', 'access', 'merchant', 'chabrol', 'curtiz', 'kennel', 'duly', 'philo', 'vance', 'insightfully', 'pretext', 'solution', 'subvert', 'craftsman', 'abstract', 'deco', 'glide', 'furiously', 'jolt', 'inscrutable', 'habitat', 'fanciful', 'hunch', 'association', 'bravely', 'rarefy', 'raggedy', 'camel', 'wrinkled', 'knees', 'hairdresser', 'emotive', 'helena', 'bonham', 'portraying', 'parrot', 'cheech', 'marin', 'hackett', 'davison', 'hallie', 'eisenberg', 'trini', 'alvarado', 'displeasure', 'aisle', 'swagger', 'poseur', 'oop', 'sega', 'badder', 'catalina', 'coast', 'glorification', 'sample', 'inferiority', 'curl', 'inclusion', 'digress', 'nurture', 'woah', 'woulda', 'queensland', 'dynamite', 'wield', 'bumpkin', 'written', 'accustom', 'grumpy', 'axe', 'guignol', 'knox', 'levitt', 'milton', 'clampett', 'itch', 'bath', 'flea', 'fur', 'dot', 'plaid', 'ludicrously', 'munch', 'whistle', 'seinfeld', 'studies', 'loners', 'universally', 'permanently', 'surgeon', 'hanka', 'plumber', 'petr', 'flexible', 'jakub', 'prague', 'lenka', 'magician', 'debt', 'donna', 'ingénue', 'rko', 'ernst', 'lubitsch', 'sturges', 'irving', 'mayer', 'supporting', 'walt', 'myspace', 'coonskin', 'google', 'gordone', 'sampson', 'pappy', 'scatman', 'crothers', 'randy', 'sprinkle', 'anatomy', 'ample', 'protée', 'aimée', 'nelson', 'destination', 'norwegian', 'saboturs', 'norway', 'deliverance', 'embellish', 'storybook', 'emanate', 'pumpkin', 'gown', 'mack', 'bobbidi', 'formidable', 'sweetness', 'audit', 'reeve', 'nestle', 'comfortably', 'bourne', 'december', 'patience', 'copyright', 'listless', 'trunk', 'tic', 'distasteful', 'distinction', 'slovenly', 'levine', 'willie', 'actuality', 'finger', 'thursday', 'senile', 'irascible', 'cadillac', 'allan', 'pizza', 'woodland', 'disused', 'newfound', 'perilous', 'tacones', 'lejanos', 'marvellously', 'arty', 'transvestite', 'oppressive', 'librarian', 'unglamorous', 'nihalani', 'agreed', 'hindi', 'satya', 'om', 'smita', 'patil', 'outsmart', 'rama', 'filmfare', 'sullivan', 'jo', 'chrissy', 'flatmate', 'cursor', 'linchpin', 'joyce', 'doug', 'scrounge', 'thames', 'val', 'kilmer', 'doors', 'holmes', 'wonderland', 'hustler', 'unharmed', 'ambiance', 'sensual', 'blade', 'runner', 'condense', 'donation', 'fifth', 'y', 'demian', 'bichir', 'serrano', 'valuable', 'reflexion', 'monica', 'shag', 'feckless', 'reid', 'michell', 'notting', 'vampirism', 'philosophical', 'musing', 'versed', 'zombi', 'storyteller', 'hush', 'wisconsin', 'sew', 'audible', 'martinez', 'iowa', 'meth', 'disenfranchise', 'subterfuge', 'chavez', 'devoid', 'subversion', 'democracy', 'successive', 'documentation', 'gratitude', 'braindead', 'consistency', 'rad', 'evening', 'cunningham', 'redoubtable', 'darn', 'pulpit', 'jet', 'diversion', 'utility', 'extensive', 'platoon', 'commando', 'discrepancy', 'pompous', 'betsy', 'katharine', 'rehash', 'lucid', 'liverpool', 'liaison', 'officers', 'delinquent', 'epilogue', 'reluctantly', 'heywood', 'romantically', 'squalid', 'americanize', 'rebellious', 'lamp', 'classroom', 'hostage', 'horrify', 'understandably', 'stacy', 'gallows', 'slang', 'surfer', 'marshal', 'lumiere', 'womanizing', 'potts', 'offence', 'horrifically', 'snarl', 'microphone', 'sundry', 'commercially', 'critically', 'nausicaa', 'tenku', 'kiki', 'mononoke', 'spirited', 'milestone', 'identical', 'cartooning', 'paquin', 'beek', 'hamill', 'skywalker', 'tres', 'macneille', 'rugrats', 'animaniacs', 'mcshane', 'tuck', 'costner', 'patinkin', 'curmudgeon', 'han', 'imprison', 'jabba', 'tatooine', 'scum', 'triple', 'leia', 'chewy', 'endor', 'shield', 'fleet', 'lando', 'imperial', 'darth', 'vader', 'cheesey', 'treachery', 'backstabbing', 'teamwork', 'tucker', 'kathryn', 'josephine', 'dunn', 'carole', 'lombard', 'foul', 'cleo', 'escort', 'trombone', 'roscoe', 'karns', 'grad', 'louie', 'jeffries', 'tuxedo', 'vietnamese', 'patric', 'armand', 'louque', 'hypnotize', 'mabuse', 'subordinate', 'regain', 'fiancée', 'archaeological', 'cambodia', 'engagement', 'clifford', 'greyson', 'noland', 'roast', 'zombification', 'unrecognizable', 'bald', 'creole', 'halperin', 'frazier', 'madge', 'madeline', 'monte', 'carlo', 'personable', 'befuddle', 'bon', 'vivant', 'boris', 'illustrious', 'spry', 'dignify', 'morteval', 'lethal', 'infamy', 'julissa', 'plod', 'miniature', 'cannon', 'overwrought', 'gloom', 'enjoyably', 'lemon', 'endearingly', 'ratty', 'lanisha', 'joycelyn', 'signal', 'terrain', 'heights', 'adolescence', 'beckon', 'maze', 'mckay', 'mclaughlin', 'shorthand', 'seriousness', 'privilege', 'dullness', 'calculate', 'fragility', 'ephemeral', 'enliven', 'intimacy', 'jokes', 'pratfalls', 'cater', 'imbecile', 'mega', 'shelve', 'handful', 'fellas', 'epitomise', 'whimper', 'bedroom', 'giza', 'antiquity', 'katharina', 'scenic', 'mosque', 'cacophony', 'prayer', 'pap', 'themed', 'trepidation', 'found', 'fluke', 'zeta', 'insomniac', 'hover', 'sanity', 'blair', 'scowl', 'rafter', 'furniture', 'frantic', 'called', 'ping', 'pong', 'burgeon', 'satisfactorily', 'panther', 'resource', 'axis', 'aaron', 'dentists', 'solidly', 'truthful', 'ditch', 'spouse', 'mustache', 'everyman', 'flanders', 'separation', 'custody', 'hearing', 'literate', 'cuckold', 'ness', 'leary', 'advocate', 'dental', 'ups', 'kidman', 'further', 'kramer', 'manly', 'toast', 'chore', 'insistence', 'flu', 'initiate', 'shotgun', 'categorise', 'pipeline', 'splatter', 'unfairly', 'judgement', 'salt', 'inmate', 'orderly', 'st', 'visitor', 'francine', 'thon', 'corridor', 'killings', 'hyperbole', 'hound', 'helmer', 'grease', 'bog', 'unredeemable', 'runtime', 'brashear', 'graduation', 'hydrogen', 'bombs', 'atlantic', 'seaman', 'delete', 'disgrace', 'immature', 'sandwich', 'confederate', 'reb', 'strut', 'wesley', 'reservoir', 'dogs', 'gill', 'prestigious', 'pedal', 'pregnancy', 'fencer', 'vile', 'footwork', 'kor', 'auschwitz', 'outnumber', 'dormant', 'repertoire', 'teary', 'bethlehem', 'barrage', 'unwillingness', 'dictionary', 'books', 'luzhin', 'defence', 'turturro', 'fiennes', 'natalia', 'casually', 'liken', 'ella', 'elisha', 'strangle', 'maternity', 'recovery', 'loretta', 'em', 'osborne', 'gloria', 'restrict', 'linden', 'jed', 'brush', 'cafeteria', 'scarlett', 'chilling', 'aline', 'macmahon', 'hazardous', 'hanky', 'blier', 'delicacy', 'hooligan', 'jeanne', 'moreau', 'theo', 'colm', 'feore', 'cubitt', 'terminal', 'cornwall', 'ewan', 'mcgregor', 'gainsbourg', 'moi', 'ta', 'tremendously', 'ingenuous', 'chabat', 'tarentino', 'gashuin', 'fumble', 'shawn', 'whine', 'unengaging', 'throwaway', 'amber', 'nichole', 'timmons', 'summarily', 'frolic', 'evacuee', 'oakley', 'beech', 'billet', 'illiterate', 'solace', 'zacharias', 'wrench', 'cellar', 'spray', 'stole', 'puncture', 'fret', 'extortion', 'mermaid', 'meld', 'maneuver', 'yours', 'sickness', 'hypnotist', 'detect', 'filth', 'bah', 'railway', 'coarse', 'emile', 'hale', 'repay', 'cad', 'ingenue', 'fargo', 'prim', 'credibly', 'obtuse', 'implausibility', 'opportunism', 'inadequate', 'chicks', 'punchlines', 'damien', 'osama', 'sequential', 'bilal', 'esoteric', 'nikopol', 'horus', 'sachar', 'adults', 'overboard', 'rocker', 'plug', 'dollman', 'toys', 'outdo', 'aquarium', 'usage', 'beverage', 'guerilla', 'wary', 'excavation', 'industrialization', 'manufactured', 'landscapes', 'scavenge', 'dam', 'underpay', 'salgado', 'burtynsky', 'exhibition', 'falsification', 'finely', 'overs', 'truism', 'irreparably', 'dependent', 'fossil', 'fuel', 'daunt', 'misnomer', 'manufacture', 'wasted', 'persuade', 'protege', 'division', 'employment', 'grumble', 'nauseum', 'susceptible', 'evaluate', 'pier', 'paolo', 'pasolini', 'hideousness', 'nausea', 'terminate', 'objectivity', 'devon', 'shrewsbury', 'vividly', 'miser', 'wwe', 'armageddon', 'richmond', 'mvp', 'inferno', 'ref', 'ramp', 'championship', 'kendrick', 'teddy', 'ladder', 'mnm', 'hardys', 'nitro', 'mercury', 'laceration', 'stealer', 'boogeyman', 'miz', 'worm', 'benoit', 'chavo', 'guerrero', 'sharpshooter', 'helms', 'yang', 'moderate', 'undertaker', 'hearse', 'manhandle', 'taker', 'chokeslam', 'pipe', 'tombstone', 'unconscious', 'willingness', 'cena', 'finlay', 'booker', 'technicality', 'knuckle', 'catcher', 'lingerie', 'contest', 'ppv', 'chronology', 'respectably', 'hazzard', 'knoxville', 'jesse', 'hog', 'seann', 'stifler', 'paycheck', 'dukes', 'starsky', 'hutch', 'vienna', 'hundstage', 'nihilistic', 'geniuses', 'superbabies', 'whodunit', 'nun', 'tucci', 'dolores', 'humanism', 'unheralded', 'doubtless', 'faction', 'colombia', 'paramilitaries', 'unrest', 'linearity', 'projector', 'inevitability', 'gilliam', 'prophecy', 'dehumanize', 'totalitarian', 'evolution', 'interlace', 'circular', 'evocation', 'prophetic', 'morse', 'legolas', 'posture', 'coordinate', 'said', 'hotd', 'unexciting', 'actioner', 'sleepwalk', 'marjorie', 'assailant', 'repellent', 'mastrosimone', 'attacker', 'diana', 'scarwid', 'avery', 'showtime', 'sullavan', 'budapest', 'mandatory', 'jumpstart', 'twilight', 'buster', 'woodrow', 'mulligan', 'unheard', 'bicycle', 'rollo', 'candid', 'sherlock', 'onward', 'plump', 'unkempt', 'promoter', 'requiem', 'heavyweight', 'beale', 'recluse', 'hampton', 'evict', 'resign', 'squalor', 'mud', 'brick', 'quip', 'yogi', 'exhaust', 'ghosts', 'voodoo', 'hugo', 'cain', 'timeline', 'scooby', 'haha', 'aha', 'untouched', 'monumental', 'sepium', 'siberian', 'anarchist', 'bolshevik', 'scifi', 'platt', 'abort', 'q', 'tng', 'mammy', 'madcap', 'accentuate', 'rasuk', 'july', 'marte', 'guzman', 'grandchild', 'taut', 'unquestionably', 'elevator', 'gunshot', 'slit', 'stunningly', 'tudor', 'chord', 'romania', 'bafta', 'walking', 'buzz', 'openly', 'flaunt', 'marshall', 'cunning', 'ives', 'heartbreak', 'friel', 'undeniable', 'bristle', 'madness', 'gorris', 'preoccupation', 'lolita', 'defa', 'stories', 'downfall', 'fantastical', 'anyways', 'kiefer', 'harvey', 'keitel', 'beau', 'rhea', 'devito', 'swayze', 'lockhart', 'kathy', 'bartel', 'scorsese', 'ghibli', 'conjure', 'dola', 'cloris', 'leachman', 'acquit', 'operative', 'gawk', 'vista', 'tolerable', 'chronological', 'squirrel', 'waiter', 'dickie', 'tarintino', 'dated', 'som', 'blessing', 'raven', 'laemmles', 'shining', 'transformation', 'pare', 'pairing', 'greenman', 'ski', 'lawn', 'klowns', 'freaky', 'inability', 'chestnut', 'margret', 'nigh', 'redolent', 'miniseries', 'slathered', 'saccharine', 'coma', 'deceive', 'boost', 'deceptive', 'tracey', 'dote', 'pullman', 'massachusetts', 'josef', 'february', 'hanna', 'schygula', 'hermann', 'sirk', 'postwar', 'kessler', 'cackle', 'confide', 'speculate', 'proudly', 'fruit', 'traveler', 'ryder', 'hitchhiker', 'garde', 'nasal', 'dilapidated', 'dissolve', 'rosario', 'chad', 'faust', 'frat', 'dj', 'marcus', 'endurance', 'trampoline', 'wrestling', 'prohibition', 'legit', 'certifiable', 'blech', 'mortgage', 'regularly', 'mcadams', 'yup', 'fro', 'cheerleader', 'revenue', 'nathaniel', 'morrissey', 'analyst', 'facility', 'reich', 'ideology', 'airlift', 'ration', 'burgers', 'map', 'airline', 'funnily', 'monotonous', 'whopping', 'baddie', 'hannibal', 'lecter', 'devious', 'germ', 'fever', 'fallon', 'peanut', 'boston', 'cardinals', 'slate', 'figuratively', 'mantra', 'yankee', 'lindsey', 'been', 'farrelly', 'bros', 'ooze', 'fanaticism', 'goodnight', 'thaw', 'traumatise', 'darlene', 'beckinsale', 'thai', 'jacqueline', 'thunderbirds', 'virgil', 'bitterly', 'snappy', 'gerry', 'frakes', 'homo', 'sapiens', 'tarantino', 'endorsement', 'tier', 'starve', 'scape', 'panavision', 'processor', 'elusive', 'arcane', 'mastery', 'fortunate', 'grasshopper', 'banderas', 'astoundingly', 'dumpy', 'haddad', 'lodger', 'prophesy', 'gods', 'tennessee', 'pin', 'bettie', 'harron', 'gretchen', 'mol', 'glo', 'evocative', 'wink', 'obscenity', 'frothy', 'darken', 'incestuous', 'carefree', 'incomprehensibility', 'cheerfully', 'incarceration', 'disappearance', 'unscrupulous', 'resort', 'investor', 'zoo', 'smalltime', 'scavenger', 'sabretoothes', 'dna', 'excerpt', 'cohn', 'mogul', 'heinz', 'roemheld', 'arrangement', 'shanghai', 'grigsby', 'symphony', 'pup', 'strangeness', 'hawaiian', 'hullabaloo', 'trance', 'swanson', 'mimic', 'dwindle', 'unprepared', 'snobby', 'countess', 'lew', 'elinor', 'racy', 'bradley', 'beware', 'lex', 'kristen', 'lana', 'couturie', 'utilize', 'intercut', 'notes', 'fairness', 'stiles', 'grier', 'minimal', 'hossein', 'frederic', 'femme', 'fatale', 'odile', 'voyager', 'consensus', 'picard', 'data', 'picardo', 'implant', 'interface', 'jeri', 'filled', 'contains', 'seen', 'uncompleted', 'droids', 'hutt', 'yoda', 'rebels', 'falcon', 'generator', 'ewoks', 'palpatine', 'visconti', 'ossessione', 'postman', 'indemnity', 'illicit', 'giovanna', 'calamai', 'juan', 'landa', 'fickle', 'gino', 'unenthusiastic', 'christiani', 'heaton', 'cartoony', 'spirituality', 'cooperate', 'rosenlski', 'lamb', 'beachcomber', 'ziegler', 'dealings', 'cocktail', 'paco', 'juanita', 'addictive', 'adriana', 'freight', 'innuendo', 'oasis', 'sage', 'astor', 'slack', 'holder', 'hodiak', 'corey', 'insanely', 'lancaster', 'aplenty', 'creepily', 'demote', 'disneyland', 'reprehensible', 'presidency', 'bruhl', 'dyan', 'carruthers', 'rendall', 'phenomenally', 'wretched', 'porsche', 'fluff', 'festive', 'canine', 'pooch', 'revisit', 'd', 'thoes', 'jerker', 'retriever', 'girly', 'filmgoing', 'pbs', 'cnn', 'disclaimer', 'granny', 'babs', 'affectionately', 'voltage', 'debacle', 'sleepaway', 'sc', 'entertaining', 'cons', 'mullet', 'supremacy', 'ultimatum', 'ripley', 'departed', 'nicky', 'strathairn', 'finney', 'moscow', 'waterloo', 'honour', 'facing', 'giants', 'dummies', 'brag', 'inception', 'directing', 'editing', 'template', 'eagles', 'conversion', 'biographical', 'incomplete', 'attribute', 'afi', 'revise', 'assertive', 'brent', 'vacant', 'sammi', 'curr', 'amalgam', 'rocket', 'hoover', 'totem', 'colourless', 'feline', 'sphere', 'unpromising', 'midkiff', 'hughes', 'spooky', 'divorcee', 'dares', 'wins', 'sas', 'expressionless', 'waxwork', 'skellen', 'disarmament', 'thwart', 'pokemon', 'schmidt', 'squib', 'technological', 'hose', 'creek', 'ubiquitous', 'bunuel', 'overwrite', 'prune', 'bitterness', 'wedlock', 'bastard', 'stammer', 'frenetic', 'accountant', 'sugiyama', 'yakusho', 'tamiyo', 'kusakari', 'wednesday', 'masayuki', 'ballet', 'elongate', 'infinity', 'cub', 'mama', 'alastair', 'linfield', 'skilled', 'instinctive', 'v', 'learner', 'earthlings', 'voyage', 'remedial', 'attendance', 'cannibalism', 'sica', 'ci', 'alarmingly', 'hunk', 'massimo', 'girotti', 'kowalski', 'lo', 'scandalous', 'immoral', 'rossellini', 'renoir', 'carné', 'duvivier', 'prostitution', 'swindler', 'decadence', 'terra', 'mythological', 'obsessively', 'pedestrian', 'unbiased', 'hustle', 'kareena', 'excruciatingly', 'stalker', 'beta', 'hillbilly', 'promiscuous', 'unprotected', 'freudian', 'perversion', 'dogville', 'zizek', 'revive', 'freud', 'slevin', 'jonah', 'scarlet', 'strikingly', 'pine', 'retail', 'apropos', 'clunker', 'idle', 'sharks', 'yuen', 'supersoldier', 'pacifist', 'pane', 'bevy', 'suprises', 'crave', 'celie', 'nettie', 'inseparable', 'exclude', 'clyde', 'blanche', 'daylight', 'stiffly', 'snapshot', 'stump', 'atwill', 'niemann', 'frye', 'paranoia', 'maude', 'eburne', 'impressionable', 'superstitious', 'biological', 'regretfully', 'cady', 'bowden', 'testify', 'apathetic', 'suggestive', 'entirety', 'skyline', 'progressively', 'lange', 'nolte', 'danielle', 'glut', 'vampyres', 'marianne', 'enmesh', 'rollin', 'ramon', 'larraz', 'shocker', 'using', 'languid', 'autumn', 'forebode', 'wafer', 'acquire', 'superstar', 'bessie', 'adulation', 'unearth', 'whet', 'appetite', 'surrealism', 'resoundingly', 'promotional', 'squarely', 'listener', 'promo', 'turtle', 'soooo', 'monty', 'tomatoes', 'igor', 'humanoid', 'sportscaster', 'fearless', 'ft', 'borderline', 'rockwell', 'obnoxiously', 'costar', 'bullshit', 'hodgepodge', 'peruvian', 'rivendell', 'visualization', 'hector', 'conference', 'visualize', 'constructive', 'pollute', 'cetera', 'dissatisfy', 'simulate', 'dementia', 'quibble', 'cardiac', 'qualification', 'projection', 'likelihood', 'synchronize', 'othello', 'wherein', 'enlarge', 'compromise', 'alt', 'newscast', 'liang', 'ferrari', 'drove', 'snag', 'compress', 'marital', 'mchugh', 'forgetful', 'corbin', 'bernsen', 'stadvec', 'humiliation', 'jody', 'hallucinate', 'homicidal', 'adulterous', 'yuzna', 'paoli', 'drill', 'crackpot', 'foree', 'gibbs', 'abysmally', 'clayton', 'ranger', 'woodenly', 'henchman', 'earthly', 'handgun', 'reload', 'dafoe', 'ramblings', 'chow', 'mash', 'shaolin', 'monastery', 'basket', 'dart', 'sharply', 'streamline', 'esteban', 'abscond', 'nutty', 'divert', 'ismael', 'detriment', 'nasties', 'gabriele', 'crisanti', 'bs', 'obscene', 'unrealism', 'pry', 'henrietta', 'probation', 'doldrums', 'fran', 'trotter', 'squeaky', 'rodgers', 'michaels', 'unsuitable', 'hemingway', 'skinner', 'backwards', 'counteract', 'oregon', 'thompson', 'simba', 'timon', 'pumbaa', 'superpower', 'pope', 'capitalist', 'broke', 'peng', 'rome', 'pledge', 'tumultuous', 'dali', 'hammerhead', 'strap', 'hybrid', 'fetus', 'heartfelt', 'impregnate', 'corporations', 'hauser', 'satirize', 'grosse', 'heartless', 'chug', 'sauce', 'marisa', 'tomei', 'kingsley', 'priestley', 'justine', 'scorn', 'calibre', 'hater', 'snail', 'nth', 'waffle', 'yadda', 'pterodactyl', 'sinker', 'soda', 'janeway', 'archer', 'shrek', 'punchline', 'adverse', 'intricacy', 'testimonial', 'alarmist', 'eve', 'amendment', 'dressler', 'speakeasy', 'liquor', 'mayoral', 'rally', 'higgins', 'ates', 'moderately', 'madame', 'shooting', 'producers', 'emerson', 'thematic', 'reflective', 'mower', 'estrange', 'heartland', 'stoic', 'spacek', 'sweeney', 'indelible', 'accidental', 'uproarious', 'vintage', 'coldly', 'coincidental', 'claymore', 'leaning', 'input', 'someplace', 'unexplore', 'countdown', 'wireless', 'changing', 'halestorm', 'donut', 'willard', 'unwatched', 'disgustingly', 'juggernaut', 'retreat', 'geyser', 'hypo', 'aggressive', 'pornography', 'vinci', 'brute', 'omen', 'awakening', 'enthusiast', 'prequels', 'redundancy', 'children', 'lineup', 'skepticism', 'decapitation', 'prestige', 'europa', 'entangle', 'conductor', 'zentropa', 'werewolves', 'hartmann', 'sympathizer', 'considine', 'transportation', 'stylishly', 'dreamlike', 'thunder', 'superimpose', 'modulate', 'sol', 'fork', 'imitator', 'mugger', 'helper', 'stinger', 'unmotivated', 'frown', 'driveway', 'assuming', 'lampoons', 'riegert', 'assortment', 'bimbos', 'dope', 'tarnish', 'dominique', 'corsaire', 'dusenberry', 'falcone', 'nagurski', 'charitable', 'ponderous', 'gait', 'amble', 'chiefly', 'venue', 'grandparent', 'increment', 'realisation', 'labour', 'schwimmer', 'align', 'incongruous', 'threadbare', 'resultant', 'overview', 'elm', 'predictability', 'molester', 'insensitive', 'pantomime', 'breckin', 'roseanne', 'visibly', 'mire', 'logan', 'prompt', 'magnify', 'scallop', 'dreyfuss', 'limo', 'mortuary', 'anka', 'vick', 'decorative', 'lowe', 'baghdad', 'soldiers', 'deploy', 'gi', 'spazz', 'gwyneth', 'knightly', 'bronte', 'consumption', 'adequately', 'elton', 'meerkat', 'burrow', 'hyena', 'shenzi', 'bonzai', 'homesick', 'rafiki', 'flatulence', 'wildebeest', 'giraffe', 'hakuna', 'matata', 'belch', 'deathly', 'nala', 'fling', 'dwarfs', 'dumbo', 'hare', 'ernie', 'cummings', 'minion', 'adoration', 'abomination', 'cammareri', 'ronny', 'bernadette', 'masochist', 'umpteen', 'jaws', 'devolve', 'heros', 'animatronic', 'crocs', 'geographic', 'placid', 'cosby', 'earnings', 'annually', 'offering', 'modicum', 'knockout', 'deathtrap', 'twists', 'ringwraiths', 'otherworldly', 'gaffer', 'saruman', 'sauron', 'boromir', 'midpoint', 'rankin', 'bass', 'chester', 'sting', 'sondheim', 'fashionable', 'caton', 'lustful', 'disagreement', 'agenda', 'creaky', 'cranky', 'zippy', 'hesseman', 'diller', 'sisters', 'bloch', 'twisty', 'neville', 'joss', 'ackland', 'capably', 'duffell', 'reisert', 'rippner', 'ripper', 'sequences', 'frightening', 'disturbing', 'brink', 'viggo', 'mortensen', 'tucson', 'arizona', 'prominently', 'bane', 'thorne', 'threesome', 'implode', 'meager', 'redefine', 'makes', 'trey', 'gigli', 'guff', 'mastermind', 'hoo', 'unbeknownst', 'nu', 'legion', 'mileage', 'curves', 'nashville', 'notwithstanding', 'timely', 'embody', 'dusty', 'barber', 'uninitiated', 'lili', 'klaw', 'scribe', 'kin', 'hawkins', 'hungary', 'hungarian', 'sonnenschein', 'beginning', 'upwardly', 'ww', 'newsreel', 'unfocused', 'winds', 'gump', 'penalty', 'crusader', 'underwood', 'contend', 'bnl', 'improvisational', 'canada', 'kraft', 'quintessentially', 'glaze', 'methodically', 'protocol', 'witchcraft', 'eglantine', 'correspondence', 'fraudulent', 'headmaster', 'chim', 'boast', 'bewitch', 'lil', 'bakula', 'niche', 'hottie', 'blurb', 'seattle', 'narcissus', 'whisper', 'yr', 'daze', 'digest', 'modernism', 'suburbia', 'aggravation', 'imposition', 'coquettish', 'kinky', 'hays', 'civilize', 'holt', 'insecurity', 'hangups', 'jealousy', 'cautious', 'innocently', 'cheetah', 'chimp', 'proximity', 'seminarian', 'sinful', 'bark', 'foliage', 'artistically', 'nipple', 'whence', 'massey', 'adoption', 'joie', 'vivre', 'npr', 'repackage', 'sic', 'brock', 'rebane', 'crossover', 'hesitation', 'yuppie', 'skeleton', 'hump', 'classics', 'japonese', 'plummer', 'merle', 'oberon', 'priggish', 'suite', 'consummate', 'gusto', 'priyadarshan', 'paresh', 'rajpal', 'yadav', 'extract', 'dhol', 'dumroo', 'kapoor', 'zany', 'torturous', 'spontaneous', 'gradual', 'rapidly', 'tanushree', 'siren', 'mins', 'facade', 'magnavision', 'kik', 'sandu', 'sounds', 'intercourse', 'pierce', 'valette', 'carrère', 'gérald', 'laroche', 'clovis', 'cornillac', 'philippe', 'laudenbach', 'dimitri', 'rataud', 'alexandre', 'claustrophobia', 'quantity', 'confidential', 'infidelity', 'intolerance', 'ages', 'carmen', 'leaves', 'tod', 'anachronistic', 'guttman', 'wishful', 'miki', 'howe', 'conjoin', 'impresario', 'gimmicky', 'hedwig', 'inch', 'velvet', 'reminiscence', 'cling', 'poo', 'sigmund', 'donny', 'including', 'syd', 'marty', 'sucks', 'craziness', 'jamaican', 'cid', 'foist', 'snipes', 'fey', 'poalher', 'weaver', 'knocked', 'kurtwood', 'rupp', 'prepon', 'redhead', 'married', 'snoozer', 'tales', 'crop', 'cooky', 'insurmountable', 'biggs', 'myer', 'biology', 'était', 'nighttime', 'goings', 'orla', 'formerly', 'spiral', 'cleese', 'tabloid', 'hearts', 'unworldly', 'stratton', 'expressive', 'thesiger', 'dependable', 'ineffectual', 'pivotal', 'deftly', 'resplendent', 'expertly', 'popeye', 'getting', 'lap', 'olive', 'oyl', 'ploy', 'moralistic', 'moe', 'ahh', 'chant', 'jeep', 'sierra', 'colombian', 'restructure', 'eagerly', 'prosper', 'uncharacteristic', 'diplomat', 'mcclure', 'impromptu', 'karate', 'innocuous', 'fathom', 'bizet', 'gades', 'possessive', 'josé', 'saura', 'flamenco', 'avengers', 'goddess', 'shahid', 'amrita', 'slushy', 'barjatya', 'hahk', 'hssh', 'hain', 'trickster', 'ideally', 'stylise', 'looked', 'hopper', 'logans', 'unavailable', 'uninspiring', 'sock', 'amok', 'pinata', 'laud', 'coke', 'flik', 'alumnus', 'merk', 'monument', 'ghoulies', 'feisty', 'undemanding', 'airwolf', 'flashpoint', 'seam', 'alaska', 'indoor', 'youngish', 'underage', 'addiction', 'orthodoxy', 'durang', 'ignatius', 'tireless', 'irrational', 'religiously', 'muhammad', 'spiteful', 'clearance', 'sloane', 'palestinian', 'eradicate', 'schism', 'lulu', 'daniela', 'yali', 'friedman', 'illegally', 'nickname', 'coexistence', 'lighthearted', 'hebrew', 'fidelity', 'troop', 'forge', 'gadget', 'bothersome', 'slanderous', 'kiyoshi', 'zatoichi', 'shintaro', 'ronin', 'zip', 'nobly', 'workmanlike', 'verve', 'biopic', 'gooding', 'standout', 'mightily', 'vanilla', 'graffito', 'roxy', 'subway', 'mariner', 'strategy', 'intonation', 'vitality', 'dasilva', 'discontinuous', 'fought', 'caitlin', 'thiessen', 'clique', 'iran', 'bosnia', 'stapleton', 'ameche', 'tandy', 'banquet', 'skerritt', 'sheffer', 'nikolai', 'gogol', 'familiarity', 'macbeth', 'boozy', 'pullitzer', 'castleville', 'crone', 'platitude', 'rooster', 'upstage', 'testimony', 'loincloth', 'stupidly', 'poland', 'terminally', 'symptom', 'incompatible', 'constipate', 'keller', 'sensitivity', 'aficionado', 'costly', 'loner', 'unmarried', 'midler', 'trying', 'marsha', 'mason', 'apes', 'theid', 'duncan', 'casted', 'blackadder', 'edmund', 'electra', 'chalo', 'ke', 'lata', 'mangeshkar', 'pakeezah', 'meena', 'kumari', 'kamal', 'amrohi', 'macarthur', 'congress', 'dismissal', 'grey', 'lowell', 'dock', 'spacecraft', 'goody', 'appallingly', 'natali', 'consult', 'caron', 'whiff', 'roster', 'oates', 'grahame', 'implicate', 'slot', 'punctuate', 'avoiding', 'landis', 'credential', 'accordingly', 'shave', 'ruge', 'vim', 'runt', 'conspicuous', 'gawky', 'landlady', 'cot', 'stair', 'conscript', 'midget', 'conklin', 'grammar', 'gracefully', 'cv', 'janet', 'screener', 'charmer', 'beetle', 'headstrong', 'abrasive', 'estelle', 'parsons', 'unwanted', 'overstay', 'chucky', 'squawk', 'tovah', 'feldshuh', 'nooooo', 'schoolmate', 'schtick', 'flutter', 'butterfly', 'pacific', 'unrelated', 'facet', 'tautou', 'luminous', 'garson', 'kanin', 'janssen', 'bateman', 'playing', 'grouchy', 'disapproval', 'friction', 'vaccaro', 'willaims', 'amusingly', 'izzard', 'retread', 'leash', 'rampling', 'peckinpah', 'pavarotti', 'giving', 'harrold', 'patiently', 'hubby', 'transcendent', 'brak', 'zorak', 'gerard', 'jeroen', 'krabbé', 'renée', 'vierde', 'dutch', 'mum', 'annabelle', 'greatest', 'taboo', 'eroticism', 'artimisia', 'munster', 'herman', 'transylvania', 'yiddish', 'decarlo', 'grandpa', 'oxford', 'granger', 'censors', 'pittsburgh', 'jigsaw', 'id', 'forsake', 'villa', 'towne', 'yul', 'brynner', 'bandit', 'starlet', 'perfunctory', 'falter', 'jarre', 'messenger', 'alba', 'brosnan', 'harling', 'shue', 'cathy', 'moriarty', 'teri', 'hatcher', 'silvestri', 'bureau', 'luchino', 'interestingly', 'antagonism', 'irreconcilable', 'destroyer', 'spindly', 'perky', 'donate', 'rightly', 'rowdy', 'nana', 'pabst', 'pandora', 'resound', 'stylistically', 'erich', 'wives', 'hessling', 'georges', 'werner', 'fervent', 'muffat', 'lara', 'enamor', 'lionsgate', 'literature', 'jaque', 'martine', 'coworker', 'swinging', 'micro', 'habitable', 'apophis', 'briton', 'norse', 'mongol', 'parasitic', 'galactic', 'lords', 'ori', 'arthurian', 'pineapple', 'papas', 'dreaming', 'chef', 'consolation', 'flic', 'boxer', 'stead', 'grudgingly', 'mediterranean', 'dyspeptic', 'bots', 'hamburg', 'bars', 'luther', 'shawshank', 'institutionalise', 'penetrate', 'melancholic', 'sammie', 'unsure', 'snide', 'practise', 'punishable', 'dismal', 'reggie', 'perpetual', 'carlito', 'brigante', 'p', 'diddy', 'leticia', 'satisfactory', 'audiences', 'henpecked', 'oblivion', 'tapestry', 'dishum', 'nitwit', 'patekar', 'loyal', 'faster', 'glib', 'scriptwriting', 'chromosome', 'homicide', 'kenny', 'hr', 'kook', 'sylvia', 'kristel', 'philly', 'tennis', 'worldwide', 'gavin', 'russ', 'demme', 'rancid', 'barbera', 'steele', 'extras', 'trailers', 'pj', 'soles', 'riff', 'jubilant', 'togar', 'nab', 'woronov', 'shaffer', 'pinter', 'jude', 'delude', 'puffy', 'alfie', 'bluish', 'pedicab', 'mok', 'siu', 'fennie', 'den', 'fong', 'yuk', 'ting', 'ringo', 'lam', 'liu', 'chia', 'cheung', 'ching', 'cleaver', 'chan', 'morale', 'amazement', 'potion', 'adjust', 'cheery', 'ethical', 'gallop', 'palette', 'girardot', 'moto', 'kmc', 'goldfish', 'incorrect', 'hike', 'compulsion', 'tenko', 'bea', 'dominica', 'singapore', 'abe', 'shadows', 'belinda', 'physician', 'foxworth', 'chungking', 'stripped', 'bi', 'tsai', 'ming', 'subgenre', 'vive', 'crème', 'guise', 'stroll', 'mosquito', 'eventful', 'melon', 'kairo', 'irrefutable', 'righteousness', 'overlap', 'showgirls', 'apple', 'garber', 'cumming', 'assemble', 'cheapness', 'republican', 'paedophile', 'paget', 'expansion', 'neighbourhood', 'harden', 'unreasonably', 'storylines', 'phoenix', 'gale', 'comme', 'acl', 'bastardized', 'exhilarate', 'schmaltzy', 'augment', 'manageable', 'threshold', 'colon', 'wheeler', 'mansfield', 'dvr', 'caveman', 'louse', 'janos', 'georg', 'wilhelm', 'coal', 'smoulder', 'estimable', 'aural', 'segue', 'nonpareil', 'faggot', 'sore', 'wurb', 'veronica', 'tinos', 'cynthia', 'rothrock', 'meng', 'omission', 'moretti', 'election', 'unprofessional', 'powerless', 'ackroyd', 'casualty', 'troupe', 'fussy', 'vj', 'musicals', 'thrive', 'pianist', 'liszt', 'records', 'spaniard', 'cortez', 'marquez', 'demonicus', 'severed', 'samedi', 'traditionally', 'oppressor', 'congregation', 'cigar', 'tarot', 'blethyn', 'ably', 'hilt', 'decadent', 'improvisation', 'spoon', 'astro', 'footstep', 'adventurous', 'outshine', 'cats', 'stasi', 'incredulity', 'payne', 'stormy', 'initiative', 'jj', 'abrams', 'ebay', 'underworld', 'whoop', 'iraqi', 'aye', 'verse', 'gibson', 'satiric', 'adjustment', 'sistas', 'bling', 'randolph', 'midriff', 'cowgirls', 'earp', 'cum', 'gurgle', 'serat', 'grande', 'sonheim', 'celebi', 'ado', 'haters', 'inescapable', 'disapprove', 'brunette', 'vampires', 'promos', 'deck', 'loudmouth', 'bankroll', 'ahab', 'vendetta', 'shrine', 'greasy', 'rim', 'bypass', 'pesci', 'sooo', 'assassinate', 'culprit', 'sentinel', 'abundant', 'substantial', 'greydon', 'claw', 'swan', 'resistance', 'protection', 'offscreen', 'ahem', 'django', 'powers', 'walerian', 'borowczyk', 'impatiently', 'cronenberg', 'luxury', 'fulfilment', 'mare', 'blossom', 'elder', 'thirsty', 'blackly', 'patchwork', 'humoristic', 'schygulla', 'agin', 'leaving', 'mystic', 'ethnic', 'salvation', 'sheesh', 'tweak', 'servo', 'aboard', 'gets', 'saved', 'boxing', 'guys', 'flies', 'crooks', 'pyun', 'preteen', 'menstruation', 'hormone', 'nicholls', 'blythe', 'gertrude', 'sara', 'unremarkable', 'polanski', 'serling', 'terkovsky', 'disintegration', 'simone', 'downward', 'midst', 'frazzle', 'adjani', 'hardbody', 'quietness', 'helplessness', 'hopelessness', 'irrationality', 'edinburgh', 'disrobe', 'fag', 'drawer', 'raft', 'portentous', 'foran', 'insinuate', 'outwit', 'downstairs', 'lodge', 'venezuela', 'constitution', 'rights', 'plotter', 'venezuelan', 'blog', 'duct', 'leadership', 'publisher', 'harding', 'fax', 'maes', 'imago', 'dunst', 'alison', 'winsome', 'discourage', 'napoleon', 'insufficiency', 'edwin', 'ingenuity', 'pioneer', 'melies', 'mold', 'kitschy', 'sarge', 'harangue', 'heroin', 'beef', 'trainer', 'transmission', 'howling', 'saif', 'ripple', 'cough', 'interrogate', 'reuse', 'nadia', 'crudeness', 'broadcasting', 'unprecedented', 'embed', 'coalition', 'tashan', 'vijay', 'krishna', 'acharya', 'ali', 'bhaiyyaji', 'anil', 'pooja', 'determined', 'bachchan', 'pandey', 'breadth', 'potboilers', 'garish', 'dodge', 'fort', 'scooter', 'sickeningly', 'arbitrarily', 'stew', 'hinglish', 'irresistible', 'usaf', 'aviation', 'application', 'maestro', 'feeble', 'bulimia', 'winningham', 'lohman', 'beth', 'sensationalist', 'bulimics', 'secrecy', 'machiavellian', 'distillery', 'seduction', 'embezzle', 'tack', 'sentimentality', 'exorcist', 'exorcismo', 'exorcism', 'naschy', 'cite', 'fta', 'elapse', 'ada', 'fundamental', 'reconstruct', 'software', 'mathematical', 'researcher', 'jog', 'virtuosity', 'portly', 'reggae', 'trce', 'pocasni', 'heyerdahl', 'assembly', 'peru', 'hd', 'tftc', 'moh', 'kyle', 'fairuza', 'balk', 'winston', 'raimi', 'harmon', 'friedkin', 'crypt', 'laila', 'rancher', 'pressburger', 'rift', 'unforgivably', 'unemotional', 'wantonly', 'plotline', 'blues', 'infinitum', 'fiendish', 'sax', 'slur', 'dual', 'fetishistic', 'excruciating', 'agonize', 'kwouk', 'cato', 'mirren', 'reboot', 'hulk', 'pulse', 'phantom', 'gauge', 'banner', 'bana', 'shooter', 'fanboy', 'carolina', 'wla', 'cameroon', 'safeguard', 'vera', 'beatrice', 'spontaneously', 'perpetrator', 'prosecution', 'probe', 'efficiently', 'foch', 'predicament', 'intensive', 'housewives', 'testicle', 'tepper', 'margotta', 'downplay', 'apprehension', 'nba', 'matinee', 'lachlan', 'commodity', 'crowe', 'rep', 'melanie', 'scarecrows', 'bolger', 'para', 'fence', 'intensify', 'hoist', 'getaway', 'goggle', 'brightly', 'screamer', 'calf', 'kato', 'agi', 'practicality', 'latex', 'sultry', 'monstrous', 'anakin', 'motorcycle', 'twitch', 'grope', 'tar', 'ichi', 'gogo', 'arse', 'lizzie', 'borden', 'atlanta', 'bergin', 'incriminate', 'mormon', 'reenactment', 'bombardier', 'replay', 'lemay', 'mcnamara', 'dev', 'anand', 'submission', 'karo', 'nepal', 'mercurio', 'stahl', 'kaye', 'crate', 'tripod', 'meeting', 'bender', 'genderbender', 'adrenaline', 'lisbon', 'ashton', 'chong', 'bustle', 'kangwon', 'province', 'pedigree', 'gingerbread', 'unrealistically', 'participation', 'magruder', 'preposterously', 'astute', 'trench', 'hipster', 'growed', 'embeth', 'davidtz', 'falsely', 'freshly', 'counselor', 'councilor', 'meanness', 'vulture', 'poisonous', 'wallow', 'hardgore', 'output', 'competence', 'languish', 'cupboard', 'overdraw', 'brevity', 'embitter', 'homophobia', 'mathematician', 'eppes', 'isaac', 'asimov', 'equation', 'gravity', 'hardware', 'pounds', 'harrelson', 'cursory', 'jellyfish', 'verify', 'companionship', 'randall', 'raines', 'bro', 'featurette', 'sleuth', 'cavanagh', 'laborious', 'glitter', 'habitual', 'karva', 'prick', 'scrappy', 'miraculously', 'takenaka', 'synchronization', 'lethargic', 'publication', 'dissection', 'peet', 'mccarthy', 'vindicate', 'ronald', 'reagan', 'bewitched', 'thew', 'hahaha', 'montrose', 'tx', 'château', 'colman', 'showy', 'cukor', 'coherency', 'horrifying', 'garage', 'pus', 'scrub', 'slime', 'inarguably', 'umpteenth', 'scroll', 'decompose', 'fugitive', 'pitiable', 'bulgarian', 'bulgaria', 'danelia', 'garb', 'competitor', 'fawlty', 'butterflies', 'attire', 'discontent', 'forehead', 'disconnect', 'cowardice', 'borel', 'scat', 'pinch', 'airball', 'woodsball', 'upstairs', 'mist', 'blurry', 'personify', 'dench', 'drummer', 'trove', 'judi', 'concierge', 'dispel', 'inordinate', 'asinine', 'groin', 'audiard', 'grizzle', 'devos', 'karin', 'unconventionally', 'deafness', 'prophet', 'oc', 'rabid', 'renovate', 'withdraw', 'baggage', 'woe', 'todd', 'psych', 'deprive', 'spinster', 'raunchy', 'darkly', 'tinge', 'monkeys', 'formulate', 'grunt', 'tetsuo', 'kaleidoscope', 'baltimore', 'hearst', 'junkie', 'pea', 'epps', 'preppie', 'lewton', 'disciple', 'snatcher', 'innocents', 'kahn', 'tbs', 'travelogue', 'amsterdam', 'churlish', 'deprave', 'immaculate', 'deflect', 'born', 'nbk', 'unreserved', 'extinction', 'gloss', 'enigma', 'paganism', 'brandauer', 'accumulate', 'imho', 'outstay', 'tricky', 'dishonest', 'pilate', 'blakely', 'jacob', 'montreal', 'coccio', 'conformity', 'malaise', 'refusal', 'meditate', 'enunciate', 'everest', 'moving', 'sabriye', 'tenberken', 'tibet', 'shun', 'erik', 'summit', 'ri', 'mountaineer', 'altitude', 'climber', 'frigid', 'lug', 'awfulness', 'mcandrew', 'grapefruit', 'ambulance', 'dorky', 'hypnotise', 'sensationally', 'johny', 'colombo', 'withstand', 'viewing', 'napton', 'snot', 'bladerunner', 'straddle', 'throb', 'fanboys', 'passionless', 'humourless', 'points', 'klondike', 'brennen', 'corinne', 'impeccable', 'basil', 'rathbone', 'complications', 'terrifically', 'levant', 'slutty', 'rodeo', 'shack', 'pam', 'reconciliation', 'gilleys', 'blackie', 'mostel', 'clinton', 'pneumonic', 'inoculate', 'evelyn', 'came', 'bloodbath', 'ding', 'dong', 'bosworth', 'kudrow', 'entrepreneur', 'complication', 'zappa', 'squirmers', 'wells', 'sour', 'eugenic', 'elimination', 'subterranean', 'parliament', 'imperialism', 'pantheon', 'sorbonne', 'transsexual', 'bobbi', 'ticotin', 'trivium', 'witches', 'wickedness', 'unsubtle', 'coven', 'trespasser', 'bendix', 'rhonda', 'fleming', 'ti', 'synonymous', 'sodden', 'cate', 'rgv', 'backfire', 'royally', 'sholay', 'devgan', 'humanly', 'reside', 'aplomb', 'disciplinarian', 'poets', 'tread', 'vonnegut', 'ingratiate', 'schmaltz', 'mcgraw', 'montford', 'vocational', 'license', 'doughnut', 'catholics', 'frailty', 'lights', 'finland', 'welfare', 'thats', 'scanners', 'ch', 'fuhrer', 'janeane', 'dominant', 'oswald', 'reclaim', 'arbitrary', 'faucet', 'forcibly', 'jackhammers', 'prosperity', 'amateurishness', 'sporadically', 'amnesia', 'stereo', 'rangers', 'charley', 'grapewin', 'loni', 'brett', 'populace', 'visiteurs', 'damned', 'replica', 'shortage', 'overdose', 'superdome', 'beens', 'annoyingly', 'ifans', 'mallet', 'excise', 'poole', 'platinum', 'corp', 'argentinean', 'tyranny', 'fanatical', 'khrushchev', 'suitably', 'finance', 'prolly', 'munchie', 'moronic', 'lushious', 'crimes', 'husbands', 'melinda', 'johansson', 'redeemable', 'omniscient', 'mollys', 'nevermind', 'layout', 'btw', 'weller', 'umm', 'heath', 'trevor', 'impetus', 'insure', 'preference', 'tournament', 'cease', 'valentinov', 'fabio', 'impeccably', 'inadequacy', 'thou', 'introspective', 'accelerate', 'geraldine', 'inhumanity', 'untrustworthy', 'perils', 'encyclopedia', 'dresser', 'rubin', 'assumption', 'scrape', 'scuddamore', 'jester', 'yeager', 'cock', 'optional', 'villian', 'bureaucracy', 'resonance', 'tagalog', 'matuschek', 'unjust', 'staircase', 'od', 'uppity', 'invert', 'rottweiler', 'clutch', 'crass', 'rai', 'kenya', 'challenger', 'plateau', 'gomez', 'healer', 'cliffhanger', 'stallone', 'tick', 'rooker', 'captor', 'waite', 'plummet', 'burning', 'cropper', 'categorize', 'windmill', 'brisson', 'oakie', 'hickok', 'residue', 'toughness', 'sentimentalize', 'abide', 'deter', 'deceit', 'stunning', 'bodyguard', 'dakota', 'fanning', 'uncharacteristically', 'unknowing', 'detectives', 'atrociously', 'theresa', 'gall', 'beowulf', 'crossbow', 'grendel', 'stowe', 'kwan', 'taiwanese', 'infomercial', 'irreverent', 'whack', 'seuss', 'hoon', 'jonny', 'listening', 'allied', 'mazovia', 'laborer', 'hoping', 'outbreak', 'duval', 'subservient', 'piggy', 'lurid', 'salkow', 'helmsman', 'whiskey', 'sybil', 'danning', 'remix', 'negligible', 'babel', 'commonly', 'iota', 'shameful', 'extraneous', 'saves', 'dic', 'saban', 'telescopic', 'gadgetmobile', 'convertible', 'quimby', 'rambo', 'chiklis', 'brutish', 'peoples', 'dannielynn', 'olson', 'greta', 'lull', 'lumière', 'à', 'toshi', 'trough', 'perv', 'lottery', 'council', 'specimen', 'compassionate', 'conspirator', 'downer', 'karzis', 'kata', 'dobó', 'sevier', 'spelling', 'opt', 'gator', 'glorify', 'unmistakably', 'genitalia', 'propeller', 'cord', 'tagline', 'sexploitation', 'frustrated', 'bitchy', 'swinge', 'babysitter', 'wymer', 'seamy', 'surplus', 'sizzle', 'groovy', 'wail', 'gnarly', 'deliriously', 'waddle', 'clothes', 'supermans', 'priority', 'internally', 'kink', 'missing', 'sneeze', 'domination', 'pryor', 'glob', 'mandate', 'overpower', 'outerspace', 'temp', 'avert', 'clinical', 'midwest', 'docudrama', 'cobweb', 'tosh', 'coolio', 'chipmunk', 'voter', 'awesomely', 'unholy', 'klasky', 'csupo', 'kimi', 'howl', 'replicate', 'bubblegum', 'levinson', 'inheritor', 'conchita', 'alonso', 'newbie', 'donkey', 'concrete', 'lumieres', 'inhuman', 'rupture', 'imprisonment', 'surveillance', 'completist', 'biographer', 'tarr', 'pigtailed', 'pia', 'domineer', 'geezer', 'cesspool', 'forewarn', 'idolize', 'melissa', 'pronto', 'spiderman', 'townsend', 'pistol', 'vandross', 'grandeur', 'plunge', 'unsinkable', 'denver', 'chairman', 'trans', 'opportunistic', 'imprint', 'meticulously', 'steadily', 'southampton', 'dolphin', 'collision', 'horner', 'swashbuckler', 'avenger', 'fabian', 'seafaring', 'flabby', 'buccaneer', 'flags', 'amorous', 'kelley', 'hawk', 'unappetizing', 'dross', 'afore', 'wolfman', 'burke', 'spiers', 'combs', 'sturm', 'burial', 'comeuppance', 'liberally', 'minimize', 'tenor', 'extravagant', 'romanticize', 'ames', 'envy', 'inert', 'sijan', 'prediction', 'especialy', 'wiz', 'powerglove', 'zelda', 'misrepresentation', 'kara', 'viper', 'baltar', 'adama', 'cylon', 'evangelical', 'warming', 'trillion', 'ostracize', 'inquiry', 'shore', 'squint', 'constantine', 'lennon', 'default', 'monopoly', 'specialty', 'lindenmuth', 'instalment', 'eligible', 'dramatist', 'sylke', 'enders', 'kroko', 'mistreat', 'averse', 'ax', 'sharpen', 'sado', 'athletic', 'ecstatic', 'monsoon', 'reitman', 'singh', 'vixen', 'thi', 'reindeer', 'forced', 'merlin', 'pentagram', 'raf', 'broken', 'horrorfest', 'ellis', 'gina', 'doppelganger', 'ulrich', 'pretentiousness', 'jodorowsky', 'unorthodox', 'ships', 'feces', 'tempo', 'novak', 'sterling', 'kovacs', 'avalanche', 'powder', 'diesel', 'diet', 'slowdown', 'kar', 'kui', 'chamber', 'shan', 'te', 'hurley', 'grinch', 'absurdly', 'contradictory', 'gandhiji', 'darshan', 'jariwala', 'egoist', 'signify', 'tsui', 'hark', 'yin', 'vivacious', 'vanquish', 'comments', 'html', 'paragraph', 'empathize', 'bode', 'nite', 'richness', 'barrier', 'unnecessarily', 'laundry', 'dumbfounded', 'clarke', 'writers', 'corbett', 'demean', 'correction', 'eagle', 'hackman', 'marneau', 'erfoud', 'artifact', 'legionnaire', 'indifference', 'uninvolving', 'uncommonly', 'arabia', 'aliens', 'jacksons', 'waynes', 'tiffany', 'midway', 'proprietor', 'situate', 'hanson', 'iris', 'bogdonovich', 'bogdanovich', 'foxx', 'costa', 'bragana', 'giuseppe', 'brisk', 'impoverish', 'razzle', 'lonette', 'comparably', 'boyish', 'dorian', 'blaxploitation', 'dangerously', 'dovetail', 'vogue', 'shite', 'pudding', 'nunez', 'turntable', 'lensman', 'riding', 'natalie', 'jastrow', 'wouk', 'pillar', 'sexiness', 'chastity', 'pariah', 'snippet', 'scumbags', 'voyages', 'digitally', 'steinberg', 'porky', 'slacker', 'laude', 'freely', 'urination', 'gershon', 'candidly', 'mawkish', 'machete', 'paulson', 'biopics', 'fervor', 'uproar', 'senate', 'missionary', 'priyanka', 'anu', 'govinda', 'psychodrama', 'publicly', 'bloat', 'environmentalist', 'starts', 'brittany', 'centrepiece', 'alexis', 'gen', 'couleur', 'libre', 'downtrodden', 'zealander', 'rice', 'legends', 'katana', 'caste', 'dishonorable', 'adhere', 'unsatisfactory', 'honorable', 'painstaking', 'verry', 'uninformative', 'whitman', 'restrictive', 'ontario', 'torn', 'mores', 'cremate', 'contaminate', 'comparable', 'umberto', 'ones', 'plato', 'paraphrase', 'sardonic', 'killjoy', 'jockey', 'unreleased', 'malevolent', 'essay', 'aardman', 'litany', 'pill', 'claymation', 'futility', 'expectant', 'encouragement', 'koran', 'shaker', 'brokedown', 'neve', 'disadvantage', 'aftertaste', 'diaz', 'antidote', 'showmanship', 'condon', 'niven', 'loopy', 'lovers', 'tan', 'booth', 'spandex', 'ritchie', 'elizabethtown', 'brassy', 'heartache', 'anchor', 'catharsis', 'cathedral', 'brook', 'transformative', 'tolerance', 'evangelion', 'gunbuster', 'interlude', 'ladd', 'starkly', 'hay', 'obliterate', 'utilise', 'refuge', 'imbue', 'shaggy', 'longevity', 'monetary', 'anomaly', 'intentions', 'words', 'sebastian', 'dunne', 'sebastain', 'cherie', 'lynn', 'pratt', 'orgasm', 'boyle', 'marilu', 'henner', 'griffin', 'skipper', 'magna', 'meridian', 'ante', 'zorro', 'fighting', 'fascinating', 'railroad', 'capomezza', 'caterer', 'dove', 'morgue', 'terrorise', 'scathing', 'squander', 'disposable', 'puddle', 'xica', 'bloke', 'unrelentingly', 'um', 'aboriginal', 'bereave', 'marlene', 'dietrich', 'allah', 'sexpot', 'collaborate', 'rethink', 'economics', 'efficiency', 'soppy', 'elijah', 'shtick', 'artless', 'boeing', 'airplanes', 'canister', 'mach', 'intercept', 'detection', 'steep', 'heading', 'compass', 'yoke', 'runway', 'terminator', 'humourous', 'antz', 'hackenstein', 'muir', 'slesinger', 'doorstep', 'traveller', 'ramsey', 'rhodes', 'yolanda', 'decapitate', 'otakus', 'otaku', 'gratuitously', 'farcical', 'dreamcast', 'comparatively', 'temerity', 'craftsmanship', 'lensed', 'receptionist', 'overstuff', 'vie', 'poignancy', 'trainee', 'regurgitate', 'jinx', 'balanchine', 'onstage', 'straightforwardly', 'carroll', 'ballard', 'drosselmeyer', 'concession', 'nutcracker', 'rouge', 'amateurishly', 'haley', 'baryshnikov', 'cavalier', 'sleeping', 'biz', 'deign', 'unfounded', 'belafonte', 'anguished', 'touchingly', 'hearty', 'prancer', 'rediculous', 'zucker', 'rewind', 'unyielding', 'slipshod', 'debatable', 'obscenely', 'uncomfortably', 'touchdown', 'fateful', 'gee', 'monday', 'keeping', 'beckham', 'keira', 'lamas', 'renegade', 'lawson', 'ropey', 'harvester', 'maysles', 'bouvier', 'wag', 'shrug', 'gateway', 'planetary', 'thy', 'hazel', 'quadrophenia', 'darling', 'quadruple', 'weber', 'emergence', 'override', 'ince', 'beban', 'naturalistic', 'unwarranted', 'omg', 'neon', 'fixit', 'lyon', 'farceurs', 'workshop', 'chimney', 'babette', 'looneys', 'koo', 'dirtbag', 'illegitimate', 'pow', 'batali', 'pony', 'flippant', 'afar', 'scramble', 'demi', 'emilio', 'delusional', 'mice', 'intrusion', 'refrain', 'majesty', 'resilience', 'ecosystem', 'heartbroken', 'seasonal', 'heartbreakingly', 'misstep', 'engulf', 'frail', 'fatally', 'selfishness', 'wildlife', 'crane', 'heartrending', 'toll', 'crusty', 'allegorical', 'stratten', 'patti', 'supermodel', 'witchy', 'shaq', 'capra', 'willy', 'citroen', 'bask', 'banker', 'quigley', 'publications', 'sticky', 'ted', 'thirties', 'prologues', 'nan', 'prescott', 'chorines', 'circuit', 'exhaustion', 'unbilled', 'sothern', 'lamour', 'nra', 'moroni', 'maltese', 'scrip', 'draper', 'barris', 'knights', 'funk', 'dalliance', 'mutually', 'sludge', 'intersect', 'az', 'oak', 'persuasion', 'consign', 'indy', 'bona', 'fide', 'chawla', 'becouse', 'carelessly', 'anisio', 'snowball', 'stingy', 'donner', 'visionary', 'palsy', 'disability', 'fiona', 'eileen', 'antony', 'rowan', 'everyones', 'interrogation', 'visa', 'flamethrowers', 'defender', 'thinkers', 'thingy', 'majelewski', 'pri', 'quebecois', 'jostle', 'ana', 'belen', 'pereira', 'illustration', 'orwellian', '10', 'brandon', 'schoolgirl', 'luthor', 'morphin', 'sentai', 'transformers', 'earring', 'trounce', 'normalcy', 'glamor', 'variant', 'gaston', 'leroux', 'déjà', 'vu', 'kari', 'managerial', 'provocation', 'jibe', 'daisey', 'ferris', 'torrid', 'greetings', 'klein', 'daltrey', 'barbarian', 'vigalondo', 'zucovic', 'reenact', 'fasten', 'buffy', 'gellar', 'carbon', 'stadium', 'steelers', 'danza', 'interference', 'slicker', 'canoe', 'irreplaceable', 'steadfastly', 'katelyn', 'hillary', 'maguire', 'babysitting', 'sammy', 'sonia', 'existential', 'carlitos', 'murders', 'undetectable', 'reap', 'hooded', 'weld', 'strategically', 'soho', 'strangler', 'pitcher', 'dismantle', 'nefarious', 'ariel', 'scuttle', 'triton', 'morgana', 'ursula', 'walrus', 'octave', 'sugary', 'mountains', 'piscopo', 'mordrid', 'kabal', 'uranium', 'sickle', 'administration', 'fdr', 'samba', 'misadventure', 'au', 'mayne', 'dreg', 'standing', 'prodigy', 'smattering', 'whisk', 'onmyoji', 'triad', 'counsel', 'leung', 'bsg', 'admiral', 'pegasus', 'psychology', 'norma', 'jimi', 'hendrix', 'joplin', 'morrison', 'cuz', 'helfer', 'greystone', 'malcomson', 'olmos', 'panel', 'lacey', 'tricia', 'bookish', 'curator', 'miscalculate', 'saunders', 'breezy', 'bedlam', 'lite', 'repugnant', 'vaughn', 'hysterics', 'cloy', 'eponymous', 'squeal', 'cherry', 'wastebasket', 'desensitize', 'oomph', 'chic', 'unbelieveable', 'troll', 'janice', 'implication', 'aj', 'deride', 'vivah', 'rao', 'bridegroom', 'sanctity', 'naively', 'courtship', 'sooraj', 'arranged', 'kapur', 'alok', 'nath', 'anupam', 'kher', 'pyar', 'kiya', 'saath', 'ur', 'hats', 'srk', 'cant', 'qayamat', 'tak', 'dil', 'dor', 'kabul', 'eccleston', 'export', 'bouncy', 'dublin', 'tidbit', 'intermission', 'foremost', 'whatnot', 'daphne', 'zuniga', 'dorm', 'nakedness', 'sequester', 'delay', 'presidential', 'quack', 'preside', 'snobbery', 'diffident', 'wikipedia', 'newsweek', 'taken', 'vic', 'invincible', 'unchanged', 'emraan', 'hashmi', 'hrishita', 'celina', 'loophole', 'footpath', 'womaniser', 'mahesh', 'filmaking', 'casa', 'bava', 'michele', 'emulate', 'charel', 'trifiri', 'ogre', 'hostility', 'crock', 'curly', 'aja', 'ramshackle', 'occupant', 'sadistically', 'wishmaster', 'dungeon', 'dibiase', 'wwf', 'honky', 'koko', 'ware', 'bossman', 'visionaries', 'santana', 'tanaka', 'warlord', 'overwhelmingly', 'volkoff', 'bushwhackers', 'hogan', 'ps', 'navigate', 'spidey', 'mish', 'canon', 'keusch', 'synthesizer', 'throwback', 'costs', 'projectile', 'lotta', 'kuryakin', 'thrush', 'lom', 'fisted', 'curt', 'jurgens', 'sandy', 'darby', 'flint', 'indignant', 'boreanaz', 'keeper', 'katzir', 'absolutly', 'claudette', 'colbert', 'junction', 'uncharitable', 'intermingle', 'defoe', 'ganesh', 'childishly', 'fore', 'ashura', 'demons', 'slayer', 'trained', 'villager', 'ju', 'foolhardiness', 'kicker', 'taliban', 'vessel', 'rapture', 'aria', 'handcuff', 'motherly', 'feeb', 'yada', 'genesis', 'survey', 'ayurvedic', 'dispute', 'loan', 'snare', 'yearly', 'broomsticks', 'bedknobs', 'blitz', 'auntie', 'mame', 'opportunist', 'mcdowall', 'vicar', 'levin', 'hitchcockian', 'cypher', 'freeway', 'millar', 'vincenzo', 'helium', 'peel', 'surmise', 'wargaming', 'mundaneness', 'mayeda', 'muscats', 'engrish', 'kosugi', 'grail', 'sleazebag', 'jeopardize', 'minelli', 'forcefully', 'terrifyingly', 'menage', 'trois', 'scorch', 'brainy', 'lohan', 'glitch', 'kruger', 'troy', 'lobotomy', 'lanza', 'kirsten', 'caruso', 'relive', 'colt', 'eminently', 'sculpture', 'mortality', 'crouse', 'mantegna', 'shifty', 'bluff', 'battleground', 'celeste', 'alyn', 'behest', 'schoolteacher', 'splash', 'disintegrate', 'teammate', 'flicka', 'blare', 'gnaw', 'nag', 'pummel', 'collaborative', 'elia', 'kazan', 'comb', 'investigatory', 'blackout', 'bel', 'athleticism', 'locale', 'fordist', 'references', 'wage', 'conform', 'bauhaus', 'vehicular', 'billionaire', 'met', 'blacken', 'memorize', 'sidewalk', 'scan', 'sargent', 'seasickness', 'adorn', 'approval', 'vapid', 'starstruck', 'wales', 'inkling', 'fdny', 'incense', 'hogwash', 'domino', 'obese', 'tourneur', 'plucky', 'prevalent', 'moslem', 'outrageously', 'sledge', 'camaraderie', 'slobber', 'tomba', 'damiani', 'minotaur', 'shitty', 'storyboard', 'forearm', 'ferry', 'email', 'vampiric', 'envoy', 'treaty', 'compliance', 'diplomatic', 'askey', 'travers', 'melodramatics', 'pragmatic', 'columnist', 'corbet', 'freefall', 'malfunction', 'woeful', 'savagely', 'architect', 'trinity', 'revolutions', 'cramp', 'connecticut', 'mccarey', 'infancy', 'indiana', 'hartnett', 'nea', 'gaudy', 'seeley', 'brice', 'inimitable', 'sully', 'cristo', 'gardens', 'gruner', 'superwoman', 'thomerson', 'hiroyuki', 'thom', 'mathews', 'vibe', 'panty', 'thesis', 'marylee', 'potboiler', 'iberia', 'manuel', 'albéniz', 'contributor', 'bolero', 'peacock', 'bullfight', 'staginess', 'collaborator', 'rustle', 'clap', 'albeniz', 'shen', 'aficionados', 'entertainer', 'boiler', 'rein', 'blockbusters', 'envelope', 'tia', 'gunslinger', 'flatter', 'hairstyle', 'curvy', 'catapult', 'eject', 'wills', 'prototype', 'decoy', 'talky', 'artificially', 'cartoonery', 'trope', 'geddes', 'angular', 'moulin', 'poitier', 'swill', 'horrendously', 'competency', 'adv', 'tornado', 'disqualification', 'plex', 'niedhart', 'superfly', 'snuka', 'martel', 'roma', 'duggan', 'tugboat', 'haku', 'hulkamaniacs', 'zhukov', 'sato', 'nauseous', 'detrimental', 'conveyor', 'belive', 'minton', 'shin', 'ae', 'jun', 'kidnapper', 'jong', 'pastor', 'discharge', 'milyang', 'meaninglessness', 'kool', 'sinclair', 'boothe', 'becomes', 'cesar', 'phillippe', 'rubell', 'cob', 'ambersons', 'hindsight', 'disillusionment', 'hecht', 'fave', 'chagrin', 'faraway', 'approximation', 'fuller', 'wallet', 'kiley', 'unpredictability', 'rodent', 'hazard', 'cane', 'extravaganza', 'fawn', 'sartre', 'yuji', 'kobayashi', 'napolean', 'nanavati', 'julius', 'overzealous', 'zeffirelli', 'machaty', 'madam', 'horky', 'barren', 'pleasurable', 'matador', 'prescribe', 'artful', 'contractual', 'doolittle', 'kumble', 'plotwise', 'flak', 'permanent', 'southpark', 'grimm', 'slipper', 'gratify', 'resend', 'twee', 'infiltration', 'anthropomorphic', 'baba', 'rajinikanth', 'timone', 'pumba', 'sceptical', 'whaling', 'moby', 'pilgrimage', 'doomsday', 'irate', 'timer', 'ky', 'ledger', 'luster', 'schmid', 'wanting', 'conan', 'undeveloped', 'uhf', 'buckley', 'bulgakov', 'holographic', 'shogo', 'coburn', 'waco', 'reservation', 'wilcox', 'rivero', 'peckinpaugh', 'superficially', 'concentration', 'cw', 'smallville', 'wizards', 'illinois', 'pleasence', 'ventura', 'pere', 'armour', 'skid', 'nagai', 'preconceive', 'dismember', 'thunderbird', 'dunno', 'firth', 'patchy', 'snuck', 'uninterrupted', 'sewage', 'persevere', 'cartel', 'bravado', 'lifelong', 'needs', 'crucify', 'chin', 'michigan', 'yikes', 'sucked', 'hasty', 'emancipator', 'pulitzer', 'rutledge', 'cromwell', 'quillan', 'fourth', 'downs', 'clementine', 'kohler', 'accuser', 'kelso', 'eighth', 'rename', 'syrupy', 'crackerjack', 'pallid', 'talentless', 'cretin', 'renowned', 'hisaishi', 'pendant', 'muska', 'rounding', 'downcast', 'shabby', 'bodies', 'bony', 'dingy', 'disappointing', 'sets', 'kazakh', 'kuno', 'nomad', 'taktarov', 'comprehension', 'minutes', 'rappers', 'rappaport', 'straighten', 'remy', 'harassment', 'keko', 'optically', 'restriction', 'alot', 'warned', 'exclamation', 'warfield', 'strickland', 'nilly', 'tisserand', 'clouzot', 'maupassant', 'medallion', 'banish', 'kitamura', 'nary', 'andrea', 'dumann', 'lovelace', 'hash', 'broadly', 'cbc', 'poll', 'sookie', 'chalkboard', 'vortex', 'fenton', 'sumpter', 'pm', 'mina', 'togan', 'gokbakar', 'impossibility', 'sahan', 'shyamalan', 'maturity', 'profane', 'eclipse', 'pataki', 'buford', 'kat', 'freaks', 'dogmatic', 'spar', 'mabel', 'dimple', 'reems', 'ineptly', 'independently', 'deidre', 'bostwick', 'jacknife', 'megs', 'hangover', 'rosalba', 'neri', 'toulon', 'blanchett', 'harmonious', 'machination', 'impassioned', 'ascension', 'duchess', 'inaccessible', 'orca', 'fundamentally', 'ennio', 'twofold', 'affairs', 'ida', 'lupino', 'hiker', 'coffeshop', 'aback', 'passageway', 'submerge', 'subconscious', 'presque', 'rien', 'archaic', 'anachronism', 'boran', 'pedantic', 'adolph', 'pearly', 'celestial', 'videostore', 'shoveller', 'naomi', 'watts', 'orlando', 'sadie', 'angelique', 'emmanuelle', 'dwayne', 'sherbert', 'paralyze', 'bloss', 'neal', 'richly', 'seoul', 'caveat', 'pi', 'giordano', 'reckon', 'inference', 'nunn', 'mockumentary', 'copper', 'composure', 'functional', 'urine', 'sideshow', 'dolby', 'naïve', 'guinevere', 'zenith', 'murrow', 'radiate', 'splendor', 'ariauna', 'lilith', 'tastelessly', 'sequels', 'cardos', 'politely', 'cuddly', 'desdemona', 'cassio', 'zaroff', 'sacrificial', 'renown', 'representation', 'ganz', 'mandel', 'hornby', 'ione', 'skye', 'fenway', 'cohort', 'baloney', 'restauranteur', 'stupor', 'mustard', 'jesminder', 'ramadan', 'sonny', 'chiba', 'toshiro', 'introductory', 'viva', 'hedge', 'oversight', 'torrential', 'snooty', 'wizardry', 'choir', 'wi', 'demographic', 'substandard', 'joshua', 'cannibalize', 'pointe', 'occupation', 'insultingly', 'venantino', 'venantini', 'gates', 'delon', 'infuse', 'fresson', 'chalk', 'brigitte', 'fossey', 'macdowell', 'acutely', 'fraser', 'shemp', 'kindergarten', 'puerile', 'freemason', 'shopkeeper', 'templar', 'crandall', 'gwynne', 'jeans', 'putting', 'elegiac', 'dough', 'ridley', 'changer', 'earlier', 'honk', 'detractor', 'phoebe', 'governmental', 'chances', 'defendant', 'lazerov', 'isaiah', 'gravitas', 'ashford', 'almodovar', 'township', 'unlock', 'templars', 'willfully', 'romy', 'marishka', 'austrian', 'inn', 'naturalism', 'graffiti', 'cooley', 'clubhouse', 'storms', 'mounted', 'berton', 'wyoming', 'incongruity', 'northwest', 'disarm', 'confiscate', 'souvenir', 'soapy', 'mountie', 'firework', 'nympho', 'irwin', 'migraine', 'noisy', 'terri', 'quotation', 'kapadia', 'wendigo', 'schwartz', 'clarkson', 'dewey', 'therefor', 'signalman', 'tisk', 'stint', 'putrid', 'ugh', 'landfill', 'purport', 'queer', 'locker', 'm', 'mc', 'believably', 'gabor', 'creeped', 'diabetic', 'apathy', 'hypocritical', 'unjustly', 'fallacy', 'goro', 'misjudge', 'mixing', 'brunel', 'commissioner', 'jacobi', 'morlar', 'samson', 'bla', 'suspects', 'twaddle', 'tediously', 'profundity', 'confinement', 'austria', 'models', 'mintz', 'plasse', 'lori', 'syndication', 'harshness', 'atlantean', 'deadeningly', 'oiran', 'tokugawa', 'marky', 'norliss', 'immortality', 'reanimate', 'sargoth', 'contender', 'groaner', 'shecky', 'fabrication', 'cops', 'trowel', 'signpost', 'zu', 'mandarin', 'silas', 'marner', 'acknowledgement', 'meeker', 'recomendation', 'vancouver', 'weitz', 'interracial', 'addy', 'chazz', 'palminteri', 'whitney', 'deadbeat', 'sontee', 'regina', 'levitate', 'keyes', 'honcho', 'annihilate', 'kazaam', 'shaquille', 'awestruck', 'oddball', 'erotically', 'yu', 'donal', 'mccann', 'theatrically', 'vanishing', 'ceiling', 'fleshy', 'lodging', 'albright', 'nato', 'columbus', 'sonja', 'skinemax', 'pelt', 'electrocution', 'taxpayer', 'eps', 'est', 'tivo', 'sawney', 'emerald', 'silicone', 'blarney', 'druid', 'lag', 'folly', 'surgically', 'applicable', 'misbegotten', 'adrift', 'dang', 'dano', 'mcfly', 'ducktales', 'huey', 'duckburg', 'watchowski', 'gorilla', 'sanitarium', 'rutkay', 'briefcase', 'grungy', 'isabelle', 'exclusive', 'leona', 'selleck', 'sunglass', 'buaku', 'songwriter', 'shearer', 'consuelo', 'hated', 'seethe', 'mackerel', 'heorot', 'inclusive', 'cozy', 'righteous', 'olivia', 'cam', 'wuhl', 'fabled', 'aztec', 'rosy', 'homeland', 'claus', 'elf', 'savior', 'saintly', 'lupe', 'mankiewicz', 'partial', 'tux', 'blaine', 'unconsciously', 'denote', 'coldness', 'boldness', 'shrewd', 'transcendence', 'cabaret', 'carousel', 'gar', 'armpit', 'squid', 'tile', 'bogus', 'famously', 'tearjerker', 'whimsical', 'btk', 'disturbingly', 'willem', 'axel', 'graaf', 'spoorloos', 'infamously', 'thumbtanic', 'baseless', 'cf', 'anc', 'apparatus', 'sector', 'constitutional', 'bfg', 'roald', 'dahl', 'sophie', 'stealthily', 'imaginatively', 'uninventive', 'soporific', 'sondra', 'leotard', 'gavras', 'inhumane', 'uruguay', 'matamoros', 'backpack', 'nc', 'lordi', 'eurovision', 'accumulation', 'silverman', 'greenwich', 'survivors', 'borg', 'roddenberry', 'sweaty', 'glisten', 'collie', 'twink', 'hickox', 'jackies', 'venerable', 'prude', 'passing', 'turret', 'indictment', 'indict', 'extremism', 'sledgehammer', 'unsavory', 'oklahoma', 'preminger', 'dixon', 'sympathise', 'pod', 'uprising', 'overhaul', 'greengrass', 'blackbriar', 'invigorate', 'ramirez', 'townsfolk', 'manges', 'queasy', 'transylvanian', 'comedies', 'halve', 'genn', 'prematurely', 'convoy', 'shipyard', 'chomp', 'lenz', 'unmemorable', 'lawnmower', 'dewaere', 'macarena', 'ignoramus', 'vince', 'disturbance', 'tangier', 'squat', 'commercialism', 'carrys', 'bigelow', 'darkwolf', 'tippi', 'organisation', 'holliday', 'tawa', 'hah', 'csi', 'trish', 'apatow', 'reception', 'risky', 'taekwondo', 'sabrina', 'monkees', 'eden', 'wynona', 'irons', 'intermittent', 'adroitly', 'cristina', 'orbach', 'coleridge', 'rime', 'clobber', 'bamboozled', 'remorse', 'blush', 'alleyway', 'serrador', 'urgency', 'lullaby', 'chime', 'soleil', 'macallum', 'oatmeal', 'dredge', 'alphabet', 'intrepid', 'perk', 'savini', 'enthusiastic', 'dooley', 'mcanally', 'cart', 'pushy', 'unkind', 'cleanse', 'tercero', 'garcía', 'agnes', 'moorehead', 'aimee', 'starr', 'iphigenia', 'sacrilege', 'falls', 'dea', 'launcher', 'fartsy', 'proffer', 'astutely', 'waterman', 'polite', 'strombel', 'journalistic', 'hades', 'pransky', 'prelude', 'lore', 'architecture', 'beckinsales', 'paperhouse', 'alienation', 'larson', 'cyber', 'spam', 'horrorvision', 'portal', 'calling', 'fatty', 'arbuckle', 'druggie', 'aspiring', 'miraglia', 'dagger', 'ciaran', 'hinds', 'twitter', 'wentworth', 'extravagance', 'shelly', 'melvin', 'zis', 'bedevil', 'parnell', 'intuitive', 'obey', 'yay', 'pimple', 'falsehood', 'centerfold', 'hansen', 'roberto', 'witney', 'cantina', 'lotr', 'orcs', 'riders', 'nazgul', 'tavern', 'weasel', 'rosenman', 'intrigueing', 'unisols', 'unisol', 'lookin', 'newbies', 'truncate', 'whirl', 'menzies', 'bliss', 'herald', 'concussion', 'miscue', 'fricken', 'mfn', 'pest', 'hundreds', 'rohm', 'fluid', 'plimpton', 'striptease', 'vandalism', 'tessari', 'hatchet', 'subscribe', 'automobile', 'osa', 'johnsons', 'safari', 'congorilla', 'goldeneye', 'nemo', 'kiel', 'tarkovsky', 'nighy', 'wrestlemania', 'hbk', 'chyna', 'trips', 'sable', 'mixed', 'shamrock', 'flowers', 'disappointingly', 'outlaws', 'cactus', 'tyson', 'media', 'mplayer', 'entail', 'followable', 'braveheart', 'highland', 'macgregor', 'worsen', 'marguis', 'waterfall', 'archibald', 'lian', 'zomcom', 'parental', 'geopolitical', 'brigadoon', 'sept', 'waterdance', 'parcel', 'earshot', 'egregious', 'nacho', 'inconclusive', 'lea', 'anchors', 'aweigh', 'singin', 'mech', 'puller', 'kober', 'seaton', 'distinctively', 'charleton', 'doodlebops', 'says', 'honorary', 'alma', 'mater', 'banning', 'andoheb', 'desecration', 'bey', 'kharis', 'isobel', 'bannings', 'cornball', 'travail', 'quantrill', 'chiles', 'roedel', 'tobey', 'skirmish', 'ruffalo', 'riley', 'contemplation', 'trifle', 'weddings', 'chancellor', 'glean', 'sndtrk', 'fruition', 'inconsistency', 'eggar', 'neff', 'macmurray', 'superiority', 'mystique', 'cobb', 'lilia', 'siemens', 'organics', 'bombard', 'teeny', 'strangelove', 'sidenote', 'quotient', 'taxidermy', 'overthrow', 'organise', 'icf', 'fridge', 'schreiber', 'goldwyn', 'transgression', 'shortchange', 'puss', 'fairytales', 'ock', 'symbiote', 'scot', 'impenetrable', 'gaelic', 'angus', 'dramatisation', 'overlay', 'kipling', 'breakup', 'meatloaf', 'partition', 'revision', 'diatribe', 'sip', 'frosty', 'boomerang', 'funniest', 'videos', 'aghast', 'arrested', 'bench', 'genial', 'enlightenment', 'overindulgence', 'recommendable', 'liebmann', 'presentational', 'representational', 'stodgy', 'bullhorn', 'purr', 'blacksmith', 'hull', 'lawman', 'landowner', 'spartacus', 'cleopatra', 'saskatchewan', 'childbirth', 'kazuo', 'komizu', 'reverend', 'telefilm', 'celebei', 'miramax', 'cass', 'knew', 'crutch', 'crimson', 'twentieth', 'featherstone', 'ammo', 'khouri', 'broinowski', 'colloquialism', 'documentarian', 'overington', 'passport', 'jordanian', 'cellphone', 'piers', 'purveyor', 'lameness', 'unsentimental', 'studios', 'whitmore', 'delaware', 'capano', 'quatermain', 'dussolier', 'mow', 'hooray', 'ney', 'booze', 'mcgarrett', 'yorker', 'retrospective', 'pooped', 'serials', 'mendelito', 'patriot', 'oro', 'chapters', 'racket', 'prominence', 'watchful', 'pervade', 'mindedness', 'encapsulate', 'fortress', 'discrimination', 'amply', 'splat', 'congratulation', 'boatload', 'edo', 'dusk', 'generously', 'unmissable', 'fav', 'nadja', 'det', 'stevie', 'ceo', 'personnel', 'hermit', 'surge', 'artificiality', 'moodiness', 'tenderness', 'latino', 'bronx', 'latinos', 'sizable', 'chevy', 'toaster', 'hygienist', 'unrealized', 'gentlemen', 'heave', 'dab', 'stash', 'borzage', 'mendes', 'showman', 'schlocky', 'declaration', 'kurdish', 'countries', 'feudal', 'rhythmic', 'sbs', 'belatedly', 'nudge', 'panthers', 'outskirts', 'primeval', 'burroughs', 'hefty', 'unfaithful', 'gibbons', 'conway', 'arlington', 'womanizer', 'whew', 'watermelon', 'blalock', 'whimsy', 'elena', 'rollan', 'virtuous', 'henri', 'superficiality', 'noose', 'dahmer', 'formative', 'rozsa', 'ahmad', 'jaffar', 'rosenstrasse', 'trotta', 'milner', 'tiomkin', 'related', 'barrister', 'wuthering', 'bekmambetov', 'familiarly', 'needy', 'mcintyre', 'bess', 'meanderings', 'wily', 'huac', 'cosimo', 'lifer', 'rosalind', 'pero', 'jeter', 'guzmán', 'esposito', 'collinwood', 'toto', 'comparing', 'garrigan', 'westerner', 'fallen', 'resonant', 'retch', 'fitful', 'infatuation', 'weisz', 'cravens', 'goofball', 'jettison', 'rubbery', 'fineman', 'cheerfulness', 'benton', 'theorist', 'monaghan', 'oshin', 'kikuno', 'ryosuke', 'typhoon', 'highlander', 'flamboyance', 'gobble', 'briers', 'polonius', 'bluntly', 'cars', 'miracles', 'geronimo', 'geer', 'yoshitsune', 'gojo', 'eruption', 'mt', 'buddhism', 'teleprompter', 'sealed', 'minstrel', 'retribution', 'mortar', 'fixate', 'stationary', 'chariot', 'manicure', 'deterioration', 'zack', 'halprin', 'landing', 'liftoff', 'heady', 'ning', 'ink', 'xiao', 'qian', 'bun', 'frazetta', 'sorcery', 'groundless', 'roto', 'charmed', 'yowsa', 'hubba', 'aquafresh', 'kiwi', 'paredes', 'nickelodeon', 'insufficient', 'libido', 'forster', 'petrol', 'williamson', 'clavier', 'poiré', 'chafe', 'peaks', 'crudely', 'klaws', 'estimation', 'peoria', 'phallic', 'calamity', 'custer', 'quitte', 'yasmin', 'reopen', 'diner', 'recess', 'hating', 'dominatrix', 'connotation', 'violation', 'militant', 'jaime', 'pressly', 'proposal', 'grisham', 'lin', 'dastardly', 'ferroukhi', 'cazalé', 'mohamed', 'majd', 'mecca', 'reda', 'jacky', 'pilgrim', 'rickshaw', 'creepshow', 'watery', 'hoff', 'manchester', 'inspect', 'mainland', 'pulsate', 'cristy', 'autism', 'capshaw', 'clairvoyant', 'minuscule', 'incentive', 'grieco', 'winch', 'salliwan', 'blazkowicz', 'regulation', 'dupont', 'vartan', 'garble', 'unconnect', 'timmy', 'thornberrys', 'spongebob', 'cosmo', 'continuum', 'lenny', 'curvaceous', 'cherub', 'buttgereit', 'speechless', 'mush', 'gretel', 'chu', 'gwizdo', 'pail', 'component', 'mraovich', 'gabel', 'raposo', 'berry', 'telecast', 'brainer', 'peary', 'appollo', 'misquote', 'lander', 'artillery', 'mat', 'viable', 'gundam', 'designate', 'moonwalker', 'forces', 'methodical', 'czechoslovakia', 'economical', 'annamarie', 'middling', 'luggage', 'kidney', 'waldemar', 'juxtapose', 'vir', 'mumbo', 'jumbo', 'scalise', 'paine', 'tully', 'aquatic', 'dustbin', 'redemptive', 'lieu', 'katey', 'unforgivable', 'culmination', 'dabney', 'bail', 'marius', 'goring', 'coote', 'bucharest', 'lookout', 'mcphillip', 'bankable', 'una', 'horvitz', 'slink', 'beyonce', 'drexler', 'congratulatory', 'tieh', 'kue', 'kwok', 'cheh', 'mermaids', 'benjy', 'auspicious', 'disfigure', 'roque', 'reccomend', 'freakin', 'gamers', 'sarne', 'giler', 'vacuity', 'denigrate', 'hardesty', 'leroy', 'investigative', 'scripture', 'taffy', 'kookoo', 'cormack', 'jen', 'lyn', 'untrained', 'thematically', 'constellation', 'tot', 'innate', 'zanuck', 'akane', 'ranma', 'ooh', 'gelb', 'beatle', 'abuser', 'anecdote', 'fini', 'catwoman', 'unforgiving', 'hellish', 'suzanne', 'crucification', 'signe', 'hasso', 'vholes', 'jarndyce', 'dedlock', 'gratification', 'grunge', 'krause', 'isle', 'tt', 'gangs', 'pasadena', 'lavelle', 'cale', 'partnership', 'genoa', 'pancake', 'standouts', 'tat', 'yea', 'mccartney', 'acknowledgment', 'dobson', 'dir', 'heflin', 'mida', 'dinocroc', 'effectiveness', 'knows', 'licence', 'lipstick', 'lucci', 'armourae', 'hombre', 'daninsky', 'molina', 'zabalza', 'permission', 'breakin', 'stepper', 'ascertain', 'flo', 'veterinarian', 'joneses', 'mikey', 'detest', 'rube', 'critter', 'hobgoblin', 'monumentally', 'inefficient', 'kwame', 'abyss', 'panahi', 'offside', 'gédéon', 'edmond', 'savvy', 'agrawal', '8', 'tentative', 'mew', 'aro', 'tolbukhin', 'recollect', 'vancleef', 'coffy', 'linklater', 'wackiness', 'winslow', 'urich', 'digitech', 'meteoric', 'stepford', 'demonstrates', 'betamax', 'serb', 'orthodox', 'serbs', 'milhalovitch', 'flier', 'icg', 'kosovo', 'serbia', 'uzi', 'ungar', 'hobart', 'stagy', 'weirdly', 'dalmatian', 'cruella', 'hutson', 'idris', 'elba', 'redmon', 'bead', 'eduard', 'fernandez', 'hortensia', 'exemplary', 'communion', 'conversely', 'vaudevillian', 'flew', 'cuckoo', 'lollobrigida', 'jeanson', 'marquis', 'terrors', 'refute', 'derringer', 'domesticate', 'fetishism', 'yanks', 'fitzsimmons', 'misleadingly', 'lemming', 'darkling', 'tamblyn', 'osd', 'megazone', 'pint', 'nominal', 'wuhrer', 'wendt', 'tortuous', 'ks', 'eurasian', 'chen', 'circulate', 'marginal', 'mozart', 'cyd', 'charisse', 'vincente', 'coulier', 'truely', 'enoch', 'brolin', 'hyland', 'rappin', 'huff', 'inexorable', 'brotherly', 'charger', 'fiddle', 'thine', 'ratso', 'mambo', 'najimi', 'overjoyed', 'tawnee', 'tammy', 'faye', 'dalai', 'lama', 'bueller', 'loman', 'cockroach', 'sayuri', 'grimace', 'codger', 'mameha', 'incorrectly', 'refined', 'moag', 'breeze', 'reviews', 'khakee', 'rks', 'torrens', 'immaterial', 'conscientious', 'brew', 'joaquin', 'cache', 'stood', 'raliegh', 'steinitz', 'fischer', 'herzog', 'himalayas', 'gravel', 'chillingly', 'jefferson', 'binks', 'gotta', 'massively', 'unwholesome', 'interloper', 'contraption', 'vampira', 'todesking', 'boardroom', 'blandman', 'pickup', 'bernhard', 'radha', 'brotherhood', 'chasey', 'lain', 'greico', 'bourbon', 'berenger', 'gregg', 'burge', 'bebe', 'landers', 'drugstore', 'tween', 'dearest', 'awkwardly', 'soloist', 'cantonese', 'coms', 'borlenghi', 'brookmyre', 'spanky', 'plz', 'pomp', 'thievery', 'northam', 'moovie', 'banjo', 'rydell', 'palermo', 'hellbent', 'carley', 'underway', 'woodthorpe', 'shire', 'bilbo', 'moria', 'scruffy', 'differentiate', 'rivalry', 'unwrap', 'teem', 'goddamn', 'madhouse', 'railly', 'fatalism', 'fecal', 'creasy', 'margheriti', 'rivière', 'battre', 'coeur', 'arreté', 'smolder', 'maddy', 'wolske', 'rainstorm', 'annakin', 'amidala', 'kenobi', 'zavet', 'manojlovic', 'srbljanovic', 'bregovic', 'galley', 'fantine', 'valjean', 'cosette', 'eponine', 'enjolras', 'barricade', 'javert', 'thenardier', 'ratcher', 'specialise', 'bancroft', 'tumor', 'hicks', 'boomer', 'tigra', 'lerner', 'pagan', 'impel', 'tyrannus', 'babu', 'kader', 'deewana', 'mastana', 'shabnam', 'nymph', 'raspberry', 'meyerling', 'seventeen', 'lommel', 'addison', 'poehler', 'dratch', 'shiraki', 'abominably', 'jello', 'suchet', 'highest', 'rumiko', 'scarface', 'pu', 'jiang', 'bathhouse', 'diamantino', 'robocop', 'lollabrigida', 'desplechin', 'bg', 'pore', 'nanette', 'guillespe', 'soaper', 'kyd', 'interstate', 'dwivedi', 'susie', 'begged', 'sympathetically', 'garrett', 'faultless', 'tray', 'saturation', 'blogs', 'hotdog', 'toru', 'catholicism', 'phallus', 'aiden', 'gillen', 'ea', 'starbuck', 'calicos', 'rainfall', 'sibrel', 'luxemburg', 'starewicz', 'dragonfly', 'wordplay', 'noces', 'paulsen', 'quincy', 'rushton', 'mj', 'zadora', 'lamont', 'hollyweird', 'indignation', 'gawd', 'carrigan', 'ryck', 'groot', 'friedo', 'chávez', 'demonstrator', 'gabrielle', 'sanna', 'hietala', 'accessory', 'chamberlains', 'bryson', 'caswell', 'smeaton', 'mellow', 'patriotism', 'nursery', 'cautionary', 'roughneck', 'flocker', 'mcgrath', 'bradbury', 'dez', 'dazzy', 'tigerland', 'rabies', 'droid', 'lynchian', 'unflattering', 'suzannes', 'lyle', 'roamer', 'owl', 'losing', 'lassie', 'unimposing', 'commie', 'caress', 'gorée', 'senegal', 'dakar', 'senegalese', 'descendent', 'labute', 'dinnerladies', 'putative', 'forrester', 'hornblower', 'frisky', 'metallica', 'warhol', 'gutter', 'cléo', 'sadek', 'bachan', 'stirba', 'mushy', 'haynes', 'cluster', 'grove', 'itier', 'cereal', 'prescient', 'bolan', 'gorge', 'goto', 'tewksbury', 'redfield', 'cardona', 'abu', 'malleson', 'pos', 'kyoto', 'loving', 'watchtower', 'amalgamation', 'bazooka', 'appliance', 'purvis', 'civic', 'milius', 'compleat', 'olde', 'sloth', 'manny', 'untraditional', 'germaine', 'spokesman', 'recap', 'kells', 'illuminator', 'rublev', 'sarro', 'shipley', 'caligula', 'mechs', 'macross', 'rawal', 'bambino', 'finn', 'nuremburg', 'genocide', 'eliniak', 'combined', 'nilsson', 'ul', 'seventies', 'dwight', 'stiltedly', 'emmenthal', 'caleb', 'paxinou', 'jingoistic', 'submariner', 'cordial', 'cyclonic', 'bolton', 'kyoko', 'incidence', 'jogger', 'mendel', 'conservatory', 'mezzo', 'flemming', 'ulises', 'martina', 'feeding', 'masses', 'ludlum', 'hazlehurst', 'yakitate', 'atomic', 'markham', 'jidai', 'geki', 'effortlessly', 'asher', 'cyclops', 'zeon', 'rolf', 'marja', 'silo', 'zsa', 'goodrich', 'digicorp', 'thursby', 'dunk', 'burly', 'prankster', 'kira', 'gammera', 'deslys', 'alla', 'bellicose', 'pyrotechnics', 'elsa', 'bannister', 'grisby', 'gilda', 'jumble', 'traci', 'cloudy', 'sarafina', 'cero', 'bashki', 'domini', 'raghavan', 'gautham', 'ntsb', 'livien', 'pokémon', 'wb', 'msb', 'pikachu', 'tankentai', 'lugia', 'abhay', 'shayan', 'munshi', 'premchand', 'musa', 'tmtm', 'puppeteer', 'caves', 'hf', 'aster', 'treacher', 'bertie', 'jeeves', 'dreamquest', 'flemish', 'antwerp', 'milford', 'volcanic', 'indiscretion', 'bossy', 'grams', 'huggins', 'huggaland', 'hugsy', 'shrugs', 'sideways', 'youngberries', 'youngberry', 'attonment', 'masala', 'heinrich', 'harrer', 'harrers', 'delpy', 'orwell', 'mckenna', 'shortland', 'sprite', 'gauri', 'walters', 'schrader', 'lohde', 'riemann', 'revere', 'macchesney', 'californian', 'goitre', 'cretinism', 'steinmann', 'berkoff', 'croats', 'suffering', 'halmark', 'eeeb', 'sematary', 'pascow', 'greenquist', 'jerilderie', 'emilie', 'discretion', 'deschanel', 'parsifal', 'kutter', 'wolfgang', 'wagner', 'kundry', 'nietzche', 'rene', 'gila', 'senselessly', 'subliminally', 'goatee', 'lupita', 'tardis', 'strummer', 'shariff', 'tamerlane', 'vo', 'bronston', 'benfica', 'porto', 'fc', 'pei', 'pecos', 'aldolpho', 'prima', 'beccket', 'jovi', 'balduin', 'sheeba', 'alahani', 'schell', 'nebraska', 'mcconaughey', 'dazed', 'brownstone', 'cragg', 'nieztsche', 'unharvested', 'silage', 'miyan', 'dhavan', 'aur', 'ek', 'ahista'])"
            ]
          },
          "metadata": {
            "tags": []
          },
          "execution_count": 55
        }
      ]
    },
    {
      "cell_type": "code",
      "metadata": {
        "id": "Hm8SJOae6t0m",
        "colab_type": "code",
        "colab": {
          "base_uri": "https://localhost:8080/",
          "height": 207
        },
        "outputId": "3b2e4ecc-457a-4117-a942-1a3bfc18a16e"
      },
      "source": [
        "#a=['film', 'plot', 'movie','play','role','cast','story','history']\n",
        "j=KeyedVectors.load('/content/drive/My Drive/Python/word2vec.model')\n",
        "\n",
        "print( [x[0] for x in j.most_similar([v])] for v in ['film', 'plot', 'movie','play','role','cast','story','history'])"
      ],
      "execution_count": 172,
      "outputs": [
        {
          "output_type": "stream",
          "text": [
            "2020-08-06 17:04:44,918 : INFO : loading Word2VecKeyedVectors object from /content/drive/My Drive/Python/word2vec.model\n",
            "/usr/local/lib/python3.6/dist-packages/smart_open/smart_open_lib.py:254: UserWarning: This function is deprecated, use smart_open.open instead. See the migration notes for details: https://github.com/RaRe-Technologies/smart_open/blob/master/README.rst#migrating-to-the-new-open-function\n",
            "  'See the migration notes for details: %s' % _MIGRATION_NOTES_URL\n",
            "2020-08-06 17:04:45,196 : INFO : loading wv recursively from /content/drive/My Drive/Python/word2vec.model.wv.* with mmap=None\n",
            "2020-08-06 17:04:45,197 : INFO : setting ignored attribute vectors_norm to None\n",
            "2020-08-06 17:04:45,197 : INFO : loading vocabulary recursively from /content/drive/My Drive/Python/word2vec.model.vocabulary.* with mmap=None\n",
            "2020-08-06 17:04:45,199 : INFO : loading trainables recursively from /content/drive/My Drive/Python/word2vec.model.trainables.* with mmap=None\n",
            "2020-08-06 17:04:45,201 : INFO : setting ignored attribute cum_table to None\n",
            "2020-08-06 17:04:45,203 : INFO : loaded /content/drive/My Drive/Python/word2vec.model\n"
          ],
          "name": "stderr"
        },
        {
          "output_type": "stream",
          "text": [
            "<generator object <genexpr> at 0x7fb7a3d662b0>\n"
          ],
          "name": "stdout"
        }
      ]
    },
    {
      "cell_type": "code",
      "metadata": {
        "id": "ocb8ZT1DFBhF",
        "colab_type": "code",
        "colab": {}
      },
      "source": [
        "# Get a list of words in the vocabulary\n",
        "words = loaded_model.wv.vocab.keys()\n",
        "\n",
        "# Make a dictionary\n",
        "we_dict = {word:loaded_model.wv.most_similar([word]) for word in words}"
      ],
      "execution_count": 125,
      "outputs": []
    },
    {
      "cell_type": "code",
      "metadata": {
        "id": "6PqKLRxiXuS2",
        "colab_type": "code",
        "colab": {
          "base_uri": "https://localhost:8080/",
          "height": 88
        },
        "outputId": "00b40f49-68c5-4a26-8d32-2a76f6c730a8"
      },
      "source": [
        "print([ x[0] for x in j.wv.most_similar('story')])"
      ],
      "execution_count": 179,
      "outputs": [
        {
          "output_type": "stream",
          "text": [
            "['tale', 'premise', 'plot', 'retell', 'linear', 'nutshell', 'simple', 'concept', 'insightful', 'basic']\n"
          ],
          "name": "stdout"
        },
        {
          "output_type": "stream",
          "text": [
            "/usr/local/lib/python3.6/dist-packages/gensim/matutils.py:737: FutureWarning: Conversion of the second argument of issubdtype from `int` to `np.signedinteger` is deprecated. In future, it will be treated as `np.int64 == np.dtype(int).type`.\n",
            "  if np.issubdtype(vec.dtype, np.int):\n"
          ],
          "name": "stderr"
        }
      ]
    }
  ]
}