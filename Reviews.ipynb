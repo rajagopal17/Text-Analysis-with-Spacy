{
  "nbformat": 4,
  "nbformat_minor": 0,
  "metadata": {
    "colab": {
      "name": "Reviews.ipynb",
      "provenance": [],
      "collapsed_sections": [],
      "toc_visible": true,
      "mount_file_id": "1NGf2qjNp1dy-YAjPQOinKJ82uWcB--gO",
      "authorship_tag": "ABX9TyMBpDs3lrRT9JqYcvaX5r0n",
      "include_colab_link": true
    },
    "kernelspec": {
      "name": "python3",
      "display_name": "Python 3"
    }
  },
  "cells": [
    {
      "cell_type": "markdown",
      "metadata": {
        "id": "view-in-github",
        "colab_type": "text"
      },
      "source": [
        "<a href=\"https://colab.research.google.com/github/rajagopal17/Text-Analysis-with-Spacy/blob/master/Reviews.ipynb\" target=\"_parent\"><img src=\"https://colab.research.google.com/assets/colab-badge.svg\" alt=\"Open In Colab\"/></a>"
      ]
    },
    {
      "cell_type": "code",
      "metadata": {
        "id": "-fU1jllxdKKS",
        "colab_type": "code",
        "colab": {
          "base_uri": "https://localhost:8080/",
          "height": 71
        },
        "outputId": "c23fe4d6-94a3-44a0-83b6-3304c59f3e2d"
      },
      "source": [
        "import pandas as pd\n",
        "import numpy as np\n",
        "import matplotlib.pyplot as plt\n",
        "import seaborn as sns\n",
        "plt.rc('font', size=14)\n",
        "sns.set(style='white')\n",
        "sns.set(style='whitegrid', color_codes=True)\n",
        "import csv"
      ],
      "execution_count": null,
      "outputs": [
        {
          "output_type": "stream",
          "text": [
            "/usr/local/lib/python3.6/dist-packages/statsmodels/tools/_testing.py:19: FutureWarning: pandas.util.testing is deprecated. Use the functions in the public API at pandas.testing instead.\n",
            "  import pandas.util.testing as tm\n"
          ],
          "name": "stderr"
        }
      ]
    },
    {
      "cell_type": "code",
      "metadata": {
        "id": "oVtp2O0Yc2TJ",
        "colab_type": "code",
        "colab": {}
      },
      "source": [
        "import gensim,pprint\n",
        "import logging\n",
        "logging.basicConfig(format='%(asctime)s : %(levelname)s : %(message)s',level=logging.INFO)\n",
        "from gensim.models import Phrases\n",
        "#from gensim.models.word2vec import sentences\n",
        "import gensim.corpora as corpora\n",
        "from gensim.utils import simple_preprocess\n",
        "from gensim import corpora, models,similarities\n",
        "from gensim.models import LdaModel\n"
      ],
      "execution_count": null,
      "outputs": []
    },
    {
      "cell_type": "code",
      "metadata": {
        "id": "gesRSeykdCP9",
        "colab_type": "code",
        "colab": {}
      },
      "source": [
        "from __future__ import unicode_literals\n",
        "import spacy\n",
        "from spacy.tokens import doc\n",
        "nlp=spacy.load('en')\n",
        "import en_core_web_sm\n",
        "#nlp=en_core_web_md.load()\n",
        "from spacy.lang.en.stop_words import STOP_WORDS\n",
        "from spacy.lang.en import English\n",
        "parser = English()\n",
        "import string\n",
        "punctuations=string.punctuation"
      ],
      "execution_count": null,
      "outputs": []
    },
    {
      "cell_type": "code",
      "metadata": {
        "id": "UMtUphaAdVHd",
        "colab_type": "code",
        "colab": {}
      },
      "source": [
        "from sklearn import model_selection\n",
        "from sklearn.metrics import classification_report\n",
        "from sklearn.metrics import confusion_matrix\n",
        "from sklearn.metrics import accuracy_score \n",
        "from sklearn.model_selection import train_test_split"
      ],
      "execution_count": null,
      "outputs": []
    },
    {
      "cell_type": "code",
      "metadata": {
        "id": "Re7gJ2UPdj4D",
        "colab_type": "code",
        "colab": {}
      },
      "source": [
        "nlp.max_length=3159999\n",
        "myfile=nlp(open(\"/content/drive/My Drive/Python/Reviews.csv\").read())\n",
        "\n",
        "\n"
      ],
      "execution_count": null,
      "outputs": []
    },
    {
      "cell_type": "code",
      "metadata": {
        "colab_type": "code",
        "id": "2D6Wu4Y7aXGG",
        "colab": {
          "base_uri": "https://localhost:8080/",
          "height": 289
        },
        "outputId": "79023a4c-96fa-4891-db0c-5635a48b05cf"
      },
      "source": [
        "doc_file3=pd.read_csv('/content/drive/My Drive/Python/Reviews.csv',sep=',', skiprows=1,header=None)\n",
        "doc_file3[\"reviews\"]=doc_file3[9]\n",
        "\n",
        "#Convert each row of reviews column to string\n",
        "\n",
        "rev_data=doc_file3['reviews'].apply(lambda x: str(x))\n",
        "rev_data_list=rev_data.tolist()\n",
        "\n",
        "#Create a empty DataFrame\n",
        "\n",
        "#revised_data=pd.DataFrame(columns=['reviews','names'])\n",
        "doc_file3.head()"
      ],
      "execution_count": null,
      "outputs": [
        {
          "output_type": "execute_result",
          "data": {
            "text/html": [
              "<div>\n",
              "<style scoped>\n",
              "    .dataframe tbody tr th:only-of-type {\n",
              "        vertical-align: middle;\n",
              "    }\n",
              "\n",
              "    .dataframe tbody tr th {\n",
              "        vertical-align: top;\n",
              "    }\n",
              "\n",
              "    .dataframe thead th {\n",
              "        text-align: right;\n",
              "    }\n",
              "</style>\n",
              "<table border=\"1\" class=\"dataframe\">\n",
              "  <thead>\n",
              "    <tr style=\"text-align: right;\">\n",
              "      <th></th>\n",
              "      <th>0</th>\n",
              "      <th>1</th>\n",
              "      <th>2</th>\n",
              "      <th>3</th>\n",
              "      <th>4</th>\n",
              "      <th>5</th>\n",
              "      <th>6</th>\n",
              "      <th>7</th>\n",
              "      <th>8</th>\n",
              "      <th>9</th>\n",
              "      <th>reviews</th>\n",
              "    </tr>\n",
              "  </thead>\n",
              "  <tbody>\n",
              "    <tr>\n",
              "      <th>0</th>\n",
              "      <td>1</td>\n",
              "      <td>B001E4KFG0</td>\n",
              "      <td>A3SGXH7AUHU8GW</td>\n",
              "      <td>delmartian</td>\n",
              "      <td>1</td>\n",
              "      <td>1</td>\n",
              "      <td>5</td>\n",
              "      <td>1303862400</td>\n",
              "      <td>Good Quality Dog Food</td>\n",
              "      <td>I have bought several of the Vitality canned d...</td>\n",
              "      <td>I have bought several of the Vitality canned d...</td>\n",
              "    </tr>\n",
              "    <tr>\n",
              "      <th>1</th>\n",
              "      <td>2</td>\n",
              "      <td>B00813GRG4</td>\n",
              "      <td>A1D87F6ZCVE5NK</td>\n",
              "      <td>dll pa</td>\n",
              "      <td>0</td>\n",
              "      <td>0</td>\n",
              "      <td>1</td>\n",
              "      <td>1346976000</td>\n",
              "      <td>Not as Advertised</td>\n",
              "      <td>Product arrived labeled as Jumbo Salted Peanut...</td>\n",
              "      <td>Product arrived labeled as Jumbo Salted Peanut...</td>\n",
              "    </tr>\n",
              "    <tr>\n",
              "      <th>2</th>\n",
              "      <td>3</td>\n",
              "      <td>B000LQOCH0</td>\n",
              "      <td>ABXLMWJIXXAIN</td>\n",
              "      <td>Natalia Corres \"Natalia Corres\"</td>\n",
              "      <td>1</td>\n",
              "      <td>1</td>\n",
              "      <td>4</td>\n",
              "      <td>1219017600</td>\n",
              "      <td>\"Delight\" says it all</td>\n",
              "      <td>This is a confection that has been around a fe...</td>\n",
              "      <td>This is a confection that has been around a fe...</td>\n",
              "    </tr>\n",
              "    <tr>\n",
              "      <th>3</th>\n",
              "      <td>4</td>\n",
              "      <td>B000UA0QIQ</td>\n",
              "      <td>A395BORC6FGVXV</td>\n",
              "      <td>Karl</td>\n",
              "      <td>3</td>\n",
              "      <td>3</td>\n",
              "      <td>2</td>\n",
              "      <td>1307923200</td>\n",
              "      <td>Cough Medicine</td>\n",
              "      <td>If you are looking for the secret ingredient i...</td>\n",
              "      <td>If you are looking for the secret ingredient i...</td>\n",
              "    </tr>\n",
              "    <tr>\n",
              "      <th>4</th>\n",
              "      <td>5</td>\n",
              "      <td>B006K2ZZ7K</td>\n",
              "      <td>A1UQRSCLF8GW1T</td>\n",
              "      <td>Michael D. Bigham \"M. Wassir\"</td>\n",
              "      <td>0</td>\n",
              "      <td>0</td>\n",
              "      <td>5</td>\n",
              "      <td>1350777600</td>\n",
              "      <td>Great taffy</td>\n",
              "      <td>Great taffy at a great price.  There was a wid...</td>\n",
              "      <td>Great taffy at a great price.  There was a wid...</td>\n",
              "    </tr>\n",
              "  </tbody>\n",
              "</table>\n",
              "</div>"
            ],
            "text/plain": [
              "   0  ...                                            reviews\n",
              "0  1  ...  I have bought several of the Vitality canned d...\n",
              "1  2  ...  Product arrived labeled as Jumbo Salted Peanut...\n",
              "2  3  ...  This is a confection that has been around a fe...\n",
              "3  4  ...  If you are looking for the secret ingredient i...\n",
              "4  5  ...  Great taffy at a great price.  There was a wid...\n",
              "\n",
              "[5 rows x 11 columns]"
            ]
          },
          "metadata": {
            "tags": []
          },
          "execution_count": 7
        }
      ]
    },
    {
      "cell_type": "code",
      "metadata": {
        "id": "TQJV5-UMlkGr",
        "colab_type": "code",
        "colab": {}
      },
      "source": [
        "# The below function was not useful as i was not able to store output\n",
        "for doc in nlp.pipe(rev_data, batch_size=1000):\n",
        "    k=print(list(token.text for token in doc if (token not in STOP_WORDS)))   \n",
        "    "
      ],
      "execution_count": null,
      "outputs": []
    },
    {
      "cell_type": "code",
      "metadata": {
        "id": "64yqWUwe18nu",
        "colab_type": "code",
        "colab": {
          "base_uri": "https://localhost:8080/",
          "height": 34
        },
        "outputId": "4a844caa-d935-45cd-b5a9-6ea81bea8161"
      },
      "source": [
        ""
      ],
      "execution_count": null,
      "outputs": [
        {
          "output_type": "execute_result",
          "data": {
            "text/plain": [
              "['nan']"
            ]
          },
          "metadata": {
            "tags": []
          },
          "execution_count": 134
        }
      ]
    },
    {
      "cell_type": "markdown",
      "metadata": {
        "id": "h76_D2eD9NvS",
        "colab_type": "text"
      },
      "source": [
        "#Here the data is readily availabe in sentences. So no need to convert it to .sents before passing it to Gensim function to clean and tokenize data"
      ]
    },
    {
      "cell_type": "code",
      "metadata": {
        "id": "PqXSofdiRXfc",
        "colab_type": "code",
        "colab": {}
      },
      "source": [
        "def sent_to_words(datax):\n",
        "    for y in datax:\n",
        "        yield(gensim.utils.simple_preprocess(str(y),deacc=True,min_len=2))\n",
        "\n",
        "###    wrap all the lists into another list  \n",
        "\n",
        "data_input=list(sent_to_words(rev_data))\n",
        "data_input"
      ],
      "execution_count": null,
      "outputs": []
    },
    {
      "cell_type": "code",
      "metadata": {
        "id": "ecdIloFDdwcD",
        "colab_type": "code",
        "colab": {}
      },
      "source": [
        "#header=['Id','ProductId','UserId','ProfileName','HelpfulnessNumerator','HelpfulnessDenominator','Score','Time','Summary','Text']"
      ],
      "execution_count": null,
      "outputs": []
    },
    {
      "cell_type": "code",
      "metadata": {
        "id": "r5yhRQcheQOD",
        "colab_type": "code",
        "colab": {}
      },
      "source": [
        "text_df=nlp(str(rev_data))\n",
        "\n",
        "text_list=list(text_df.sents)\n",
        "text_list"
      ],
      "execution_count": null,
      "outputs": []
    },
    {
      "cell_type": "code",
      "metadata": {
        "id": "c6A0H9FJMsxy",
        "colab_type": "code",
        "colab": {}
      },
      "source": [
        "####    Now input doc_file5 to below function. This function generates a list for each sentence\n",
        "\n",
        "def sent_to_words(datax):\n",
        "    for y in datax:\n",
        "        yield(gensim.utils.simple_preprocess(str(y),deacc=True,min_len=2))\n",
        "\n",
        "###    wrap all the lists into another list  \n",
        "\n",
        "data_input=list(sent_to_words(doc_file2))\n",
        "data_input[1:100]\n"
      ],
      "execution_count": null,
      "outputs": []
    },
    {
      "cell_type": "code",
      "metadata": {
        "id": "A-bhteDZ-2DG",
        "colab_type": "code",
        "colab": {}
      },
      "source": [
        "text ='this is a first sentence, this is second sentence. and this is third sentence. And last is fourth'\n",
        "stx = nlp.create_pipe('sentencizer')\n",
        "nlp.add_pipe(stx)\n",
        "docs=list(nlp(text))\n",
        "\n",
        "\n",
        "  "
      ],
      "execution_count": null,
      "outputs": []
    },
    {
      "cell_type": "markdown",
      "metadata": {
        "id": "DOap6_UV0ow2",
        "colab_type": "text"
      },
      "source": [
        "# We will now use spaCy’s pipe method in order to process multiple documents in one go.  Note that pipe returns a generator that must be converted to a list before storing in the dataframe."
      ]
    },
    {
      "cell_type": "code",
      "metadata": {
        "colab_type": "code",
        "id": "tiVEmfU_L-p5",
        "colab": {}
      },
      "source": [
        "doc_file_raw =pd.read_csv('/content/drive/My Drive/Python/Reviews.csv',sep=',', skiprows=1,header=None)\n",
        "#sdx = nlp.create_pipe('sentencizer')\n",
        "#nlp.add_pipe(sdx)\n",
        "\n",
        "doc11=nlp(rev_data, disable=['tagger'])\n",
        "for sents in doc11.sents:\n",
        "  print(sents)"
      ],
      "execution_count": null,
      "outputs": []
    },
    {
      "cell_type": "code",
      "metadata": {
        "id": "pk_yrtTA_-2m",
        "colab_type": "code",
        "colab": {}
      },
      "source": [
        "for doc in nlp.pipe(rev_data):\n",
        "  print(x.lemma_ for x in doc if x.is_alpha and x.pos_ !=\"PRON\")"
      ],
      "execution_count": null,
      "outputs": []
    },
    {
      "cell_type": "markdown",
      "metadata": {
        "id": "3nYLNp4siVew",
        "colab_type": "text"
      },
      "source": [
        "#Convert data which is available as short sentences in excel/CSV \n",
        "#Pass a list of text samples to nlp.pipe() \n",
        "\n",
        "\n",
        "1.  It results in single generator object for the entire text\n",
        "2.  Then iterate through the text and it prints token for each line of text\n",
        "3.  If we pass one line to the nlp.pipe(), then if we loop through that line\n",
        "4.  It outputs single character which is not correct\n",
        "\n"
      ]
    },
    {
      "cell_type": "markdown",
      "metadata": {
        "id": "9OqNv1cVkjJm",
        "colab_type": "text"
      },
      "source": [
        "#Spacy is not prepared to deal with a dataframe as-is. You need to do some work before being able to print the entities. Start by identifying the column that contains the text you want to use nlp on. After that, extract its value as list, "
      ]
    },
    {
      "cell_type": "code",
      "metadata": {
        "id": "FG6TU9URH4c2",
        "colab_type": "code",
        "colab": {}
      },
      "source": [
        "text_data=doc_file3['reviews'].apply(lambda x: str(x))\n",
        "\n",
        "#gets the average wordvec\n",
        "vec1 = [doc.vector for doc in nlp.pipe(text_data, n_threads=50)]\n",
        "doc_file3['word_vec'] = list(np.array(vec1))\n",
        "\n",
        "\n"
      ],
      "execution_count": null,
      "outputs": []
    },
    {
      "cell_type": "code",
      "metadata": {
        "id": "K2OTFOjAiyWw",
        "colab_type": "code",
        "colab": {}
      },
      "source": [
        "doc_clean = pd.DataFrame(columns=['reviews','names'])\n",
        "doc_clean['reviews']=doc_file3['reviews']\n",
        "doc_clean['names']=doc_file3['reviews'].apply(lambda x: [y.lemma_ for y in nlp(x)])\n"
      ],
      "execution_count": null,
      "outputs": []
    },
    {
      "cell_type": "code",
      "metadata": {
        "id": "Mu3_Kl2LBfbc",
        "colab_type": "code",
        "colab": {}
      },
      "source": [
        "#clean_lemma =text_data.apply(lambda text:\" \".join(token.lemma_ for token in nlp(text) if not token.is_stop))\n",
        "clean_entity=text_data.apply(lambda text:\" \".join(token.text for token in nlp(text)))\n"
      ],
      "execution_count": null,
      "outputs": []
    },
    {
      "cell_type": "code",
      "metadata": {
        "id": "9dO55ddoJU5T",
        "colab_type": "code",
        "colab": {}
      },
      "source": [
        "clean_entity"
      ],
      "execution_count": null,
      "outputs": []
    },
    {
      "cell_type": "code",
      "metadata": {
        "id": "xdOijky_wiff",
        "colab_type": "code",
        "colab": {}
      },
      "source": [
        "vec2 = list(doc.text for doc in nlp.pipe(rev_data, batch_size=1000))"
      ],
      "execution_count": null,
      "outputs": []
    },
    {
      "cell_type": "markdown",
      "metadata": {
        "id": "zyWKbWsEH4di",
        "colab_type": "text"
      },
      "source": [
        "### **Finally achieved the result:**\n",
        "\n",
        "1.   Convert each row of text column to string using lambda \n",
        "2.   Need not convert again tolist()\n",
        "3.   wrap up the function with list when using nlp.pipe\n",
        "4.   This gives us one list for each sentence\n",
        "5.   Then wrap all the individual lists into a single list---> not much difference if we do not wrap it again into a single list\n",
        "6.   Finally convert list to DataFrame\n",
        "\n"
      ]
    },
    {
      "cell_type": "code",
      "metadata": {
        "id": "VvMonGhb7-tK",
        "colab_type": "code",
        "colab": {}
      },
      "source": [
        "vec_try=list([token.text for token in doc] for doc in nlp.pipe(rev_data, batch_size=1000))"
      ],
      "execution_count": null,
      "outputs": []
    },
    {
      "cell_type": "code",
      "metadata": {
        "id": "iDFDZEjaPFR8",
        "colab_type": "code",
        "colab": {}
      },
      "source": [
        "vec_lemma=list([token.lemma_ for token in doc] for doc in nlp.pipe(rev_data,batch_size=1000))\n",
        "doc_file3['lemmas']=(vec_lemma)"
      ],
      "execution_count": null,
      "outputs": []
    },
    {
      "cell_type": "markdown",
      "metadata": {
        "id": "x7SHGdLVRPOr",
        "colab_type": "text"
      },
      "source": [
        "### **Wrapping it up in a single line of code and populating the DataFrame**"
      ]
    },
    {
      "cell_type": "code",
      "metadata": {
        "id": "4EIwJsA9Q6m1",
        "colab_type": "code",
        "colab": {}
      },
      "source": [
        "doc_file3['names']=list([token.text for token in doc.ents] for doc in nlp.pipe(rev_data,batch_size=1000))"
      ],
      "execution_count": null,
      "outputs": []
    },
    {
      "cell_type": "code",
      "metadata": {
        "id": "tAS6dfuNFILb",
        "colab_type": "code",
        "colab": {
          "base_uri": "https://localhost:8080/",
          "height": 221
        },
        "outputId": "1d8890ae-c296-4de6-e3ad-18d03504d2bf"
      },
      "source": [
        "doc_file3['finally']=list(vec_try)\n",
        "doc_file3['finally']"
      ],
      "execution_count": null,
      "outputs": [
        {
          "output_type": "execute_result",
          "data": {
            "text/plain": [
              "0       [I, have, bought, several, of, the, Vitality, ...\n",
              "1       [Product, arrived, labeled, as, Jumbo, Salted,...\n",
              "2       [This, is, a, confection, that, has, been, aro...\n",
              "3       [If, you, are, looking, for, the, secret, ingr...\n",
              "4       [Great, taffy, at, a, great, price, .,  , Ther...\n",
              "                              ...                        \n",
              "6258    [Sleepytime, tea, is, one, of, those, teas, th...\n",
              "6259    [Valerian, and, Chamomile, are, blended, with,...\n",
              "6260    [What, a, wonderful, product!<br, />I, can, dr...\n",
              "6261    [This, product, is, so, great, .,  , My, daugh...\n",
              "6262                                                [nan]\n",
              "Name: finally, Length: 6263, dtype: object"
            ]
          },
          "metadata": {
            "tags": []
          },
          "execution_count": 10
        }
      ]
    },
    {
      "cell_type": "code",
      "metadata": {
        "id": "Fr7khldn4fTW",
        "colab_type": "code",
        "colab": {
          "base_uri": "https://localhost:8080/",
          "height": 683
        },
        "outputId": "dd2d7dea-8ae3-4696-9aa8-53cae91f7f06"
      },
      "source": [
        "doc_file3.head()"
      ],
      "execution_count": null,
      "outputs": [
        {
          "output_type": "execute_result",
          "data": {
            "text/html": [
              "<div>\n",
              "<style scoped>\n",
              "    .dataframe tbody tr th:only-of-type {\n",
              "        vertical-align: middle;\n",
              "    }\n",
              "\n",
              "    .dataframe tbody tr th {\n",
              "        vertical-align: top;\n",
              "    }\n",
              "\n",
              "    .dataframe thead th {\n",
              "        text-align: right;\n",
              "    }\n",
              "</style>\n",
              "<table border=\"1\" class=\"dataframe\">\n",
              "  <thead>\n",
              "    <tr style=\"text-align: right;\">\n",
              "      <th></th>\n",
              "      <th>0</th>\n",
              "      <th>1</th>\n",
              "      <th>2</th>\n",
              "      <th>3</th>\n",
              "      <th>4</th>\n",
              "      <th>5</th>\n",
              "      <th>6</th>\n",
              "      <th>7</th>\n",
              "      <th>8</th>\n",
              "      <th>9</th>\n",
              "      <th>reviews</th>\n",
              "      <th>word_vec</th>\n",
              "      <th>lemmas</th>\n",
              "      <th>names</th>\n",
              "      <th>finally</th>\n",
              "    </tr>\n",
              "  </thead>\n",
              "  <tbody>\n",
              "    <tr>\n",
              "      <th>0</th>\n",
              "      <td>1</td>\n",
              "      <td>B001E4KFG0</td>\n",
              "      <td>A3SGXH7AUHU8GW</td>\n",
              "      <td>delmartian</td>\n",
              "      <td>1</td>\n",
              "      <td>1</td>\n",
              "      <td>5</td>\n",
              "      <td>1303862400</td>\n",
              "      <td>Good Quality Dog Food</td>\n",
              "      <td>I have bought several of the Vitality canned d...</td>\n",
              "      <td>I have bought several of the Vitality canned d...</td>\n",
              "      <td>[0.010839068, 1.3106409, 0.17992926, -0.110489...</td>\n",
              "      <td>[-PRON-, have, buy, several, of, the, Vitality...</td>\n",
              "      <td>[Vitality, Labrador]</td>\n",
              "      <td>[I, have, bought, several, of, the, Vitality, ...</td>\n",
              "    </tr>\n",
              "    <tr>\n",
              "      <th>1</th>\n",
              "      <td>2</td>\n",
              "      <td>B00813GRG4</td>\n",
              "      <td>A1D87F6ZCVE5NK</td>\n",
              "      <td>dll pa</td>\n",
              "      <td>0</td>\n",
              "      <td>0</td>\n",
              "      <td>1</td>\n",
              "      <td>1346976000</td>\n",
              "      <td>Not as Advertised</td>\n",
              "      <td>Product arrived labeled as Jumbo Salted Peanut...</td>\n",
              "      <td>Product arrived labeled as Jumbo Salted Peanut...</td>\n",
              "      <td>[0.48788214, 0.75775063, -0.0032122345, -0.298...</td>\n",
              "      <td>[product, arrive, label, as, Jumbo, salt, pean...</td>\n",
              "      <td>[Salted Peanuts, Jumbo]</td>\n",
              "      <td>[Product, arrived, labeled, as, Jumbo, Salted,...</td>\n",
              "    </tr>\n",
              "    <tr>\n",
              "      <th>2</th>\n",
              "      <td>3</td>\n",
              "      <td>B000LQOCH0</td>\n",
              "      <td>ABXLMWJIXXAIN</td>\n",
              "      <td>Natalia Corres \"Natalia Corres\"</td>\n",
              "      <td>1</td>\n",
              "      <td>1</td>\n",
              "      <td>4</td>\n",
              "      <td>1219017600</td>\n",
              "      <td>\"Delight\" says it all</td>\n",
              "      <td>This is a confection that has been around a fe...</td>\n",
              "      <td>This is a confection that has been around a fe...</td>\n",
              "      <td>[0.19518411, 0.30012915, -0.0018497189, -0.201...</td>\n",
              "      <td>[this, be, a, confection, that, have, be, arou...</td>\n",
              "      <td>[around a few centuries, citrus gelatin, Filbe...</td>\n",
              "      <td>[This, is, a, confection, that, has, been, aro...</td>\n",
              "    </tr>\n",
              "    <tr>\n",
              "      <th>3</th>\n",
              "      <td>4</td>\n",
              "      <td>B000UA0QIQ</td>\n",
              "      <td>A395BORC6FGVXV</td>\n",
              "      <td>Karl</td>\n",
              "      <td>3</td>\n",
              "      <td>3</td>\n",
              "      <td>2</td>\n",
              "      <td>1307923200</td>\n",
              "      <td>Cough Medicine</td>\n",
              "      <td>If you are looking for the secret ingredient i...</td>\n",
              "      <td>If you are looking for the secret ingredient i...</td>\n",
              "      <td>[0.6352056, 0.16795973, -0.26446155, -0.415096...</td>\n",
              "      <td>[if, -PRON-, be, look, for, the, secret, ingre...</td>\n",
              "      <td>[Robitussin, the Root Beer Extract]</td>\n",
              "      <td>[If, you, are, looking, for, the, secret, ingr...</td>\n",
              "    </tr>\n",
              "    <tr>\n",
              "      <th>4</th>\n",
              "      <td>5</td>\n",
              "      <td>B006K2ZZ7K</td>\n",
              "      <td>A1UQRSCLF8GW1T</td>\n",
              "      <td>Michael D. Bigham \"M. Wassir\"</td>\n",
              "      <td>0</td>\n",
              "      <td>0</td>\n",
              "      <td>5</td>\n",
              "      <td>1350777600</td>\n",
              "      <td>Great taffy</td>\n",
              "      <td>Great taffy at a great price.  There was a wid...</td>\n",
              "      <td>Great taffy at a great price.  There was a wid...</td>\n",
              "      <td>[0.53369397, -0.41649956, 0.34938946, 0.037362...</td>\n",
              "      <td>[great, taffy, at, a, great, price, .,  , ther...</td>\n",
              "      <td>[]</td>\n",
              "      <td>[Great, taffy, at, a, great, price, .,  , Ther...</td>\n",
              "    </tr>\n",
              "  </tbody>\n",
              "</table>\n",
              "</div>"
            ],
            "text/plain": [
              "   0  ...                                            finally\n",
              "0  1  ...  [I, have, bought, several, of, the, Vitality, ...\n",
              "1  2  ...  [Product, arrived, labeled, as, Jumbo, Salted,...\n",
              "2  3  ...  [This, is, a, confection, that, has, been, aro...\n",
              "3  4  ...  [If, you, are, looking, for, the, secret, ingr...\n",
              "4  5  ...  [Great, taffy, at, a, great, price, .,  , Ther...\n",
              "\n",
              "[5 rows x 15 columns]"
            ]
          },
          "metadata": {
            "tags": []
          },
          "execution_count": 11
        }
      ]
    },
    {
      "cell_type": "markdown",
      "metadata": {
        "id": "PmNUxqxYQPGH",
        "colab_type": "text"
      },
      "source": [
        "##Create a new empty dataframe"
      ]
    },
    {
      "cell_type": "code",
      "metadata": {
        "id": "7dvLGtpPL7UG",
        "colab_type": "code",
        "colab": {
          "base_uri": "https://localhost:8080/",
          "height": 49
        },
        "outputId": "418d3897-d7de-47db-de53-b208a6d2748b"
      },
      "source": [
        "#Create a new dataframe\n",
        "revised_data=pd.DataFrame(columns=['reviews','names'])\n",
        "revised_data"
      ],
      "execution_count": null,
      "outputs": [
        {
          "output_type": "execute_result",
          "data": {
            "text/html": [
              "<div>\n",
              "<style scoped>\n",
              "    .dataframe tbody tr th:only-of-type {\n",
              "        vertical-align: middle;\n",
              "    }\n",
              "\n",
              "    .dataframe tbody tr th {\n",
              "        vertical-align: top;\n",
              "    }\n",
              "\n",
              "    .dataframe thead th {\n",
              "        text-align: right;\n",
              "    }\n",
              "</style>\n",
              "<table border=\"1\" class=\"dataframe\">\n",
              "  <thead>\n",
              "    <tr style=\"text-align: right;\">\n",
              "      <th></th>\n",
              "      <th>reviews</th>\n",
              "      <th>names</th>\n",
              "    </tr>\n",
              "  </thead>\n",
              "  <tbody>\n",
              "  </tbody>\n",
              "</table>\n",
              "</div>"
            ],
            "text/plain": [
              "Empty DataFrame\n",
              "Columns: [reviews, names]\n",
              "Index: []"
            ]
          },
          "metadata": {
            "tags": []
          },
          "execution_count": 13
        }
      ]
    },
    {
      "cell_type": "code",
      "metadata": {
        "id": "vfnT-SlNQXHM",
        "colab_type": "code",
        "colab": {}
      },
      "source": [
        "#tokenize text and keep it for furhter analysis and cleaning\n",
        "#then feed it to new dataframe"
      ],
      "execution_count": null,
      "outputs": []
    },
    {
      "cell_type": "code",
      "metadata": {
        "id": "9tNDDkooMsLs",
        "colab_type": "code",
        "colab": {}
      },
      "source": [
        "vec_lemma_one=list([token.text for token in doc if (token.is_stop==False)] for doc in nlp.pipe(rev_data,batch_size=1000))\n"
      ],
      "execution_count": null,
      "outputs": []
    },
    {
      "cell_type": "markdown",
      "metadata": {
        "id": "JtDORijhTn64",
        "colab_type": "text"
      },
      "source": [
        "## Import Gensim for pre-processing"
      ]
    },
    {
      "cell_type": "code",
      "metadata": {
        "colab_type": "code",
        "id": "de5iab_pTkjK",
        "colab": {}
      },
      "source": [
        "import gensim,pprint\n",
        "import logging\n",
        "logging.basicConfig(format='%(asctime)s : %(levelname)s : %(message)s',level=logging.INFO)\n",
        "from gensim.models import Phrases\n",
        "#from gensim.models.word2vec import sentences\n",
        "import gensim.corpora as corpora\n",
        "from gensim.utils import simple_preprocess\n",
        "#from gensim import corpora, models,similarities\n",
        "#from gensim.models import LdaModel\n"
      ],
      "execution_count": null,
      "outputs": []
    },
    {
      "cell_type": "markdown",
      "metadata": {
        "id": "nJ9hYgA9n3DL",
        "colab_type": "text"
      },
      "source": [
        "##Create a function for cleaning data using Gensim\n",
        "\n",
        "##Data need to be passed as string for cleaning using Gensim\n",
        "\n",
        "##Convert entire column of dataframe to string using lambda function"
      ]
    },
    {
      "cell_type": "code",
      "metadata": {
        "id": "GQfi8Ka3TyGv",
        "colab_type": "code",
        "colab": {}
      },
      "source": [
        "def clean_data(datax):\n",
        "    for y in datax:\n",
        "        yield(gensim.utils.simple_preprocess(str(y),deacc=True,min_len=2))"
      ],
      "execution_count": null,
      "outputs": []
    },
    {
      "cell_type": "code",
      "metadata": {
        "id": "ilsMO897UCXU",
        "colab_type": "code",
        "colab": {}
      },
      "source": [
        "gensim_cleaned_data=list(clean_data(vec_lemma_one))\n",
        "revised_data['reviews']=gensim_cleaned_data"
      ],
      "execution_count": null,
      "outputs": []
    },
    {
      "cell_type": "code",
      "metadata": {
        "id": "esNhCalVWJT7",
        "colab_type": "code",
        "colab": {}
      },
      "source": [
        "#revised_data.head()"
      ],
      "execution_count": null,
      "outputs": []
    },
    {
      "cell_type": "code",
      "metadata": {
        "id": "o1w09joJWpBB",
        "colab_type": "code",
        "colab": {}
      },
      "source": [
        "ent_data=revised_data['reviews'].apply(lambda x: str(x))\n",
        "revised_data['names']=list([token.text for token in doc.ents] for doc in nlp.pipe(ent_data,batch_size=1000))\n"
      ],
      "execution_count": null,
      "outputs": []
    },
    {
      "cell_type": "code",
      "metadata": {
        "id": "N_r8rZX6asN5",
        "colab_type": "code",
        "colab": {}
      },
      "source": [
        "get_ent_list= revised_data['names'].tolist()\n",
        "#get_ent_list"
      ],
      "execution_count": null,
      "outputs": []
    },
    {
      "cell_type": "code",
      "metadata": {
        "id": "6rdECC9Lq2dZ",
        "colab_type": "code",
        "colab": {}
      },
      "source": [
        "get_flat_list=[element in item for item in get_ent_list ]\n",
        "get_flat_list\n"
      ],
      "execution_count": null,
      "outputs": []
    },
    {
      "cell_type": "code",
      "metadata": {
        "id": "WTmJ3U9QvVDb",
        "colab_type": "code",
        "colab": {}
      },
      "source": [
        "flat_list=[]\n",
        "for item in get_ent_list:\n",
        "  for element in item:\n",
        "    flat_list.append(element)\n",
        "flat_list"
      ],
      "execution_count": null,
      "outputs": []
    },
    {
      "cell_type": "code",
      "metadata": {
        "id": "2gCP3aGJ1HGQ",
        "colab_type": "code",
        "colab": {
          "base_uri": "https://localhost:8080/",
          "height": 54
        },
        "outputId": "f9117042-6268-48ae-a170-d66e78a4a64f"
      },
      "source": [
        "\n",
        "    # Creating an empty dictionary      \n",
        "freq = {} \n",
        "for items in flat_list: \n",
        "    freq[items] = flat_list.count(items) \n",
        "print(freq)\n",
        "    #for key, value in freq.items(): \n",
        "        #print (key, value)\n",
        "\n",
        "\n"
      ],
      "execution_count": null,
      "outputs": [
        {
          "output_type": "stream",
          "text": [
            "{'weeks': 94, \"'week\": 4, 'pennsylvania': 1, 'raspberry': 9, 'guinness': 2, 'kg': 1, 'july': 7, 'mexico': 3, \"'minute'\": 26, 'morning': 38, 'second': 114, 'irish': 14, 'mccann': 2, 'seconds': 23, \"'hour\": 39, \"'minutes'\": 21, 'america': 10, 'watt': 1, \"'seconds'\": 2, 'christmas': 75, 'texas': 7, 'mexican': 14, \"'years'\": 43, 'zero': 6, 'decades': 6, 'pds': 1, \"'year'\": 84, \"'later'\": 4, \"'day'\": 109, \"'night'\": 71, 'ibs': 4, 'jack': 26, 'pomeranian': 3, 'english': 34, 'peterson': 5, 'hu': 1, 'italian': 22, 'italy': 16, \"'months'\": 12, 'uti': 1, \"'hours\": 58, 'australian': 2, 'barbara': 2, \"'month'\": 64, 'french': 66, 'savora': 1, 'france': 4, 'chug': 1, 'european': 21, \"'week'\": 100, 'kinda': 1, 'noitce': 1, 'fda': 15, 'un': 9, 'gram': 12, 'fajita': 2, 'lapsang': 1, 'afternoon': 30, 'chinese': 23, 'evening': 27, 'russian': 6, 'wu': 2, 'yi': 1, 'li': 1, 'petco': 5, 'mornings': 13, 'valley': 14, 'peanut': 112, 'tibetan': 1, 'today': 46, 'indian': 9, 'lee': 4, 'hour': 3, 'newton': 1, 'junkie': 1, 'israeli': 1, \"'salsa'\": 2, 'sam': 4, 'swiss': 43, 'asian': 32, 'marzipan': 2, 'first': 15, 'canadian': 6, 'canada': 11, 'baker': 11, 'belgian': 19, 'india': 8, 'gallon': 10, 'california': 21, 'joe': 16, 'latin': 2, 'american': 39, 'warner': 1, 'timothy': 9, 'kona': 9, 'kensington': 2, 'china': 48, 'jug': 2, 'hilton': 1, 'british': 6, 'japan': 13, 'bbq': 96, 'thai': 59, 'german': 22, 'tim': 2, 'alaska': 3, 'iffy': 1, 'fifteen': 1, 'mindy': 1, 'betty': 26, 'martin': 2, 'janet': 1, 'jackson': 1, 'tx': 5, 'bob': 29, \"'zapp'\": 1, 'afghanistan': 2, 'june': 6, 'thirty': 1, 'alabama': 2, 'third': 1, 'october': 6, 'december': 4, 'august': 3, 'tomorrow': 3, \"'york'\": 1, 'oregon': 6, \"'annually'\": 1, 'acre': 1, 'eco': 4, 'maltodextrin': 6, 'gmos': 3, 'lo': 12, 'zevia': 1, 'michigan': 3, \"'month\": 4, 'kombucha': 5, 'dang': 1, 'mir': 1, \"'day\": 17, 'aruba': 2, 'iraq': 6, 'bethlehem': 1, 'carolina': 4, 'anodyne': 1, 'florida': 10, 'taiwan': 2, 'saudi': 1, 'turkey': 38, 'goji': 1, 'mac': 14, 'japanese': 27, 'kentucky': 1, 'bluegrass': 1, 'yea': 2, 'noisette': 1, 'kraft': 8, 'germany': 7, 'austria': 1, 'hungary': 1, 'january': 10, 'yesterday': 22, \"'morning\": 13, 'buffett': 1, 'monthly': 21, 'weekly': 4, 'uk': 3, 'australia': 2, 'yunnan': 2, 'missouri': 3, 'graham': 23, 'freakishly': 1, 'asia': 5, 'sei': 1, 'summer': 9, 'allergen': 5, 'earth': 82, 'apricot': 1, 'daily': 3, 'tonight': 5, 'nd': 13, 'jar': 11, 'bin': 3, 'months': 8, 'ohio': 2, \"'nights'\": 3, 'kim': 2, \"'years\": 1, 'jamaica': 5, 'michael': 1, 'marshall': 1, 'canola': 8, 'amy': 4, 'houston': 5, 'dallas': 2, 'african': 3, 'february': 7, 'paris': 2, 'dutch': 5, 'ebay': 1, 'three': 3, 'lychee': 5, 'robert': 1, 'broadway': 1, 'minutes': 5, 'inch': 12, 'sunday': 9, 'brazil': 5, 'portuguese': 2, 'brazilian': 1, 'daytime': 1, 'winter': 5, 'lucy': 2, 'spanish': 4, 'ecuador': 2, 'ecuadorian': 1, 'lara': 1, \"'morning'\": 7, 'linda': 2, 'boloni': 1, 'asians': 2, \"'mornings'\": 2, 'chun': 2, 'dave': 9, 'ovotransferrin': 1, 'halvorsen': 1, 'hamilton': 2, 'martha': 4, 'marth': 1, 'fourth': 5, 'mmm': 1, 'six': 1, 'washington': 6, 'september': 7, 'shih': 4, 'josh': 2, 'alaskan': 1, 'jillian': 1, 'mars': 1, 'kyoene': 1, 'visualize': 1, 'lu': 1, 'jemima': 3, 'pan': 1, 'belgium': 1, 'wayyyyyyyyyy': 1, 'saturday': 7, 'jiffy': 2, 'eighth': 1, \"'today'\": 1, 'nights': 1, 'vpi': 1, \"'months\": 4, 'friday': 5, 'asperger': 1, 'adhd': 1, 'mos': 2, 'gary': 1, 'mol': 1, 'sacramento': 1, 'ali': 2, 'persian': 1, 'hummus': 10, 'eu': 1, 'manganese': 2, 'hollywood': 1, 'chao': 1, 'vey': 1, 'europe': 13, \"'kenyan'\": 1, \"'hours'\": 8, 'filipino': 1, 'xvy': 1, 'italians': 1, 'sec': 2, 'africa': 1, 'maestro': 1, 'kenco': 1, 'jesus': 1, 'chai': 2, 'gm': 1, 'fifth': 3, 'caffe': 4, 'xtra': 2, 'midwest': 3, 'jfk': 1, 'indonesia': 3, \"'quarter'\": 3, 'venison': 1, 'veterinarian': 1, 'gravy': 1, 'tsp': 2, \"'clean'\": 3, \"'ago'\": 2, 'kohl': 1, 'jim': 5, 'scottish': 5, 'maine': 5, \"'minutes\": 3, 'vietnam': 1, 'americans': 5, 'mike': 3, 'virginia': 5, \"'water'\": 2, 'sassy': 1, 'pepsi': 1, 'mochi': 2, 'argh': 1, 'orville': 1, 'metro': 1, 'manhattan': 1, 'ritz': 1, 'gorton': 1, 'zito': 1, 'cnn': 1, 'sally': 1, 'madonna': 1, 'tom': 3, 'olympics': 1, 'hartz': 3, 'jenny': 2, 'taiwanese': 1, 'tenth': 2, 'jamaican': 6, 'korean': 1, 'brooklyn': 2, 'epa': 1, 'spain': 2, 'walt': 1, 'nurish': 1, 'brownie': 1, 'kamut': 2, 'tomato': 1, 'hodgson': 2, \"'hour'\": 5, 'coton': 1, \"'weeks'\": 1, 'alkali': 3, \"'ol'\": 3, \"'days'\": 1, 'november': 3, 'midnight': 3, 'nut': 5, 'steve': 1, 'afghans': 1, 'hours': 2, 'goya': 5, 'heflin': 1, 'ma': 2, \"'mart'\": 3, 'def': 2, 'bible': 1, 'tinkyada': 1, 'aoli': 1, 'cambodia': 1, 'knoxville': 1, 'chang': 1, 'wei': 1, 'peruvian': 1, 'larry': 2, 'london': 2, 'lavazza': 2, 'rosa': 2, 'april': 1, 'sangiovese': 1, 'xlr': 12, 'xbox': 1, 'sony': 1, 'motorola': 4, 'yeti': 1, 'wednesday': 1, 'xk': 1, 'arthur': 1, 'engerg': 1, 'weekday': 2, 'neuro': 1, 'morton': 1, \"mcdonald'\": 2, \"'decade'\": 1, 'quickbreads': 1, 'don': 1, 'duncan': 13, 'dunkin': 1, 'ounces': 3, 'burrito': 1, 'mex': 2, 'brett': 3, 'zojirushi': 1, 'mm': 2, 'noon': 1, 'href': 1, 'kenyan': 1, 'colombian': 3, 'hao': 1, 'rican': 2, 'pittsburgh': 1, 'dan': 1, 'mary': 1, 'swedish': 9, 'wasa': 19, 'ryvita': 1, 'moon': 2, 'cookiie': 1, 'kobe': 1, 'cocapoo': 1, 'ethoxyquin': 1, \"ol'\": 1, 'yeh': 1, 'tuesday': 2, 'eukanuba': 1, 'snowey': 1, 'zpkm': 1, \"'smoothie'\": 1, \"'cup'\": 1, \"'afternoon\": 1, 'wayne': 1, 'hungarian': 2, 'johnson': 4, 'austin': 2, 'seventh': 1, 'brian': 4, 'bahamas': 1, 'hawaiian': 2, 'muslim': 4, 'keepsake': 1, 'norman': 1, 'caloreis': 1, 'yerbas': 1, 'kilos': 1, \"'louis'\": 2, 'fed': 1, \"maxwell'\": 2, 'megabyte': 1, 'ringer': 1, 'luzianne': 8, 'maryland': 1, 'peter': 1, 'monday': 2, 'pm': 1, \"'weeks\": 1, 'boooooooooooo': 1, 'harris': 1, 'thursday': 1, 'haha': 1, 'chicago': 1, 'atlanta': 1, 'mississippi': 1, 'neufchatel': 1, 'bagel': 1, 'svc': 1, 'barb': 1, 'abu': 1, 'john': 1, 'annual': 1, 'jason': 1, 'rico': 4, 'aloe': 4, 'george': 1, 'germans': 1, 'vcc': 1, 'jo': 1, 'christian': 2, 'belle': 1, 'indiana': 1, 'brockovich': 1, 'webster': 1, 'ralph': 1, 'saba': 1, 'maria': 1, 'briens': 1, 'jolokia': 1, 'days': 1, 'david': 5, 'denver': 1, 'solitudinarian': 1, 'laura': 1, 'judy': 2, 'dickinson': 1, 'valerian': 3}\n"
          ],
          "name": "stdout"
        }
      ]
    },
    {
      "cell_type": "code",
      "metadata": {
        "id": "FmNM-dFt-hTu",
        "colab_type": "code",
        "colab": {
          "base_uri": "https://localhost:8080/",
          "height": 204
        },
        "outputId": "4d5ae511-cd25-4323-d673-d85a8d30b68a"
      },
      "source": [
        "get_graph_data=pd.DataFrame(list(freq.items()), columns=['name','value'])\n",
        "get_graph_data.head()"
      ],
      "execution_count": null,
      "outputs": [
        {
          "output_type": "execute_result",
          "data": {
            "text/html": [
              "<div>\n",
              "<style scoped>\n",
              "    .dataframe tbody tr th:only-of-type {\n",
              "        vertical-align: middle;\n",
              "    }\n",
              "\n",
              "    .dataframe tbody tr th {\n",
              "        vertical-align: top;\n",
              "    }\n",
              "\n",
              "    .dataframe thead th {\n",
              "        text-align: right;\n",
              "    }\n",
              "</style>\n",
              "<table border=\"1\" class=\"dataframe\">\n",
              "  <thead>\n",
              "    <tr style=\"text-align: right;\">\n",
              "      <th></th>\n",
              "      <th>name</th>\n",
              "      <th>value</th>\n",
              "    </tr>\n",
              "  </thead>\n",
              "  <tbody>\n",
              "    <tr>\n",
              "      <th>0</th>\n",
              "      <td>weeks</td>\n",
              "      <td>94</td>\n",
              "    </tr>\n",
              "    <tr>\n",
              "      <th>1</th>\n",
              "      <td>'week</td>\n",
              "      <td>4</td>\n",
              "    </tr>\n",
              "    <tr>\n",
              "      <th>2</th>\n",
              "      <td>pennsylvania</td>\n",
              "      <td>1</td>\n",
              "    </tr>\n",
              "    <tr>\n",
              "      <th>3</th>\n",
              "      <td>raspberry</td>\n",
              "      <td>9</td>\n",
              "    </tr>\n",
              "    <tr>\n",
              "      <th>4</th>\n",
              "      <td>guinness</td>\n",
              "      <td>2</td>\n",
              "    </tr>\n",
              "  </tbody>\n",
              "</table>\n",
              "</div>"
            ],
            "text/plain": [
              "           name  value\n",
              "0         weeks     94\n",
              "1         'week      4\n",
              "2  pennsylvania      1\n",
              "3     raspberry      9\n",
              "4      guinness      2"
            ]
          },
          "metadata": {
            "tags": []
          },
          "execution_count": 82
        }
      ]
    },
    {
      "cell_type": "code",
      "metadata": {
        "id": "5YkPRr2X4oU_",
        "colab_type": "code",
        "colab": {
          "base_uri": "https://localhost:8080/",
          "height": 793
        },
        "outputId": "d7028b77-717c-4150-cee4-98dbb94b7a82"
      },
      "source": [
        "final_df=get_graph_data[get_graph_data['value']>30]\n",
        "final_df"
      ],
      "execution_count": null,
      "outputs": [
        {
          "output_type": "execute_result",
          "data": {
            "text/html": [
              "<div>\n",
              "<style scoped>\n",
              "    .dataframe tbody tr th:only-of-type {\n",
              "        vertical-align: middle;\n",
              "    }\n",
              "\n",
              "    .dataframe tbody tr th {\n",
              "        vertical-align: top;\n",
              "    }\n",
              "\n",
              "    .dataframe thead th {\n",
              "        text-align: right;\n",
              "    }\n",
              "</style>\n",
              "<table border=\"1\" class=\"dataframe\">\n",
              "  <thead>\n",
              "    <tr style=\"text-align: right;\">\n",
              "      <th></th>\n",
              "      <th>name</th>\n",
              "      <th>value</th>\n",
              "    </tr>\n",
              "  </thead>\n",
              "  <tbody>\n",
              "    <tr>\n",
              "      <th>0</th>\n",
              "      <td>weeks</td>\n",
              "      <td>94</td>\n",
              "    </tr>\n",
              "    <tr>\n",
              "      <th>9</th>\n",
              "      <td>morning</td>\n",
              "      <td>38</td>\n",
              "    </tr>\n",
              "    <tr>\n",
              "      <th>10</th>\n",
              "      <td>second</td>\n",
              "      <td>114</td>\n",
              "    </tr>\n",
              "    <tr>\n",
              "      <th>14</th>\n",
              "      <td>'hour</td>\n",
              "      <td>39</td>\n",
              "    </tr>\n",
              "    <tr>\n",
              "      <th>19</th>\n",
              "      <td>christmas</td>\n",
              "      <td>75</td>\n",
              "    </tr>\n",
              "    <tr>\n",
              "      <th>22</th>\n",
              "      <td>'years'</td>\n",
              "      <td>43</td>\n",
              "    </tr>\n",
              "    <tr>\n",
              "      <th>26</th>\n",
              "      <td>'year'</td>\n",
              "      <td>84</td>\n",
              "    </tr>\n",
              "    <tr>\n",
              "      <th>28</th>\n",
              "      <td>'day'</td>\n",
              "      <td>109</td>\n",
              "    </tr>\n",
              "    <tr>\n",
              "      <th>29</th>\n",
              "      <td>'night'</td>\n",
              "      <td>71</td>\n",
              "    </tr>\n",
              "    <tr>\n",
              "      <th>33</th>\n",
              "      <td>english</td>\n",
              "      <td>34</td>\n",
              "    </tr>\n",
              "    <tr>\n",
              "      <th>40</th>\n",
              "      <td>'hours</td>\n",
              "      <td>58</td>\n",
              "    </tr>\n",
              "    <tr>\n",
              "      <th>43</th>\n",
              "      <td>'month'</td>\n",
              "      <td>64</td>\n",
              "    </tr>\n",
              "    <tr>\n",
              "      <th>44</th>\n",
              "      <td>french</td>\n",
              "      <td>66</td>\n",
              "    </tr>\n",
              "    <tr>\n",
              "      <th>49</th>\n",
              "      <td>'week'</td>\n",
              "      <td>100</td>\n",
              "    </tr>\n",
              "    <tr>\n",
              "      <th>67</th>\n",
              "      <td>peanut</td>\n",
              "      <td>112</td>\n",
              "    </tr>\n",
              "    <tr>\n",
              "      <th>69</th>\n",
              "      <td>today</td>\n",
              "      <td>46</td>\n",
              "    </tr>\n",
              "    <tr>\n",
              "      <th>78</th>\n",
              "      <td>swiss</td>\n",
              "      <td>43</td>\n",
              "    </tr>\n",
              "    <tr>\n",
              "      <th>79</th>\n",
              "      <td>asian</td>\n",
              "      <td>32</td>\n",
              "    </tr>\n",
              "    <tr>\n",
              "      <th>91</th>\n",
              "      <td>american</td>\n",
              "      <td>39</td>\n",
              "    </tr>\n",
              "    <tr>\n",
              "      <th>96</th>\n",
              "      <td>china</td>\n",
              "      <td>48</td>\n",
              "    </tr>\n",
              "    <tr>\n",
              "      <th>101</th>\n",
              "      <td>bbq</td>\n",
              "      <td>96</td>\n",
              "    </tr>\n",
              "    <tr>\n",
              "      <th>102</th>\n",
              "      <td>thai</td>\n",
              "      <td>59</td>\n",
              "    </tr>\n",
              "    <tr>\n",
              "      <th>148</th>\n",
              "      <td>turkey</td>\n",
              "      <td>38</td>\n",
              "    </tr>\n",
              "    <tr>\n",
              "      <th>176</th>\n",
              "      <td>earth</td>\n",
              "      <td>82</td>\n",
              "    </tr>\n",
              "  </tbody>\n",
              "</table>\n",
              "</div>"
            ],
            "text/plain": [
              "          name  value\n",
              "0        weeks     94\n",
              "9      morning     38\n",
              "10      second    114\n",
              "14       'hour     39\n",
              "19   christmas     75\n",
              "22     'years'     43\n",
              "26      'year'     84\n",
              "28       'day'    109\n",
              "29     'night'     71\n",
              "33     english     34\n",
              "40      'hours     58\n",
              "43     'month'     64\n",
              "44      french     66\n",
              "49      'week'    100\n",
              "67      peanut    112\n",
              "69       today     46\n",
              "78       swiss     43\n",
              "79       asian     32\n",
              "91    american     39\n",
              "96       china     48\n",
              "101        bbq     96\n",
              "102       thai     59\n",
              "148     turkey     38\n",
              "176      earth     82"
            ]
          },
          "metadata": {
            "tags": []
          },
          "execution_count": 90
        }
      ]
    },
    {
      "cell_type": "code",
      "metadata": {
        "id": "ztrQlZY5-uwL",
        "colab_type": "code",
        "colab": {
          "base_uri": "https://localhost:8080/",
          "height": 284
        },
        "outputId": "3606d224-8715-43ef-d034-f33b5cf3db1f"
      },
      "source": [
        "import matplotlib.pyplot as plot\n",
        "final_df.plot.barh(x='name', y='value', title=\"Growth rate of different countries\");\n",
        "\n",
        "plot.show(block=True);"
      ],
      "execution_count": null,
      "outputs": [
        {
          "output_type": "display_data",
          "data": {
            "image/png": "[encoded data removed]",
            "text/plain": [
              "<Figure size 432x288 with 1 Axes>"
            ]
          },
          "metadata": {
            "tags": [],
            "needs_background": "light"
          }
        }
      ]
    }
  ]
}